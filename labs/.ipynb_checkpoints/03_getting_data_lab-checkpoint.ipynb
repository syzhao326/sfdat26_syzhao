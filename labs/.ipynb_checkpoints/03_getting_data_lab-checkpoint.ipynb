{
 "cells": [
  {
   "cell_type": "code",
   "execution_count": 2,
   "metadata": {
    "collapsed": true
   },
   "outputs": [],
   "source": [
    "import requests\n",
    "from bs4 import BeautifulSoup"
   ]
  },
  {
   "cell_type": "code",
   "execution_count": 3,
   "metadata": {
    "collapsed": true
   },
   "outputs": [],
   "source": [
    "##### INDEED #####\n",
    "\n",
    "# a job posting website (as well as resume hosting)\n",
    "# scrape some (or A LOT) of job postings from indeed for the job \"data scientist\"\n",
    "# Plan of Action:\n",
    "# http://www.indeed.com/jobs?q=data+scientist&l=San+Francisco%2C+CA\n",
    "# 1. Figure out the url for getting the summaries (by doing it yourself!)\n",
    "# 2. Scrape the summary\n",
    "# 3. Figure out how to change the page by changing the URL (hint, click the next page button and see how the url changes)\n",
    "# 4. BONUS: count the most used words in the sumaries\n"
   ]
  },
  {
   "cell_type": "code",
   "execution_count": 5,
   "metadata": {
    "collapsed": false
   },
   "outputs": [],
   "source": [
    "r = requests.get(\"http://www.indeed.com/q-data-scientist-l-San-Francisco,-CA-jobs.html\").text\n",
    "b = BeautifulSoup(r, \"html.parser\")"
   ]
  },
  {
   "cell_type": "code",
   "execution_count": 6,
   "metadata": {
    "collapsed": true
   },
   "outputs": [],
   "source": [
    "summary_tags = b.findAll('span', {'class':'summary'})\n",
    "summary_texts = [t.text.lower().strip() for t in summary_tags]"
   ]
  },
  {
   "cell_type": "code",
   "execution_count": 8,
   "metadata": {
    "collapsed": false
   },
   "outputs": [
    {
     "data": {
      "text/plain": [
       "Counter({u'\\n': 10,\n",
       "         u' ': 345,\n",
       "         u\"'\": 2,\n",
       "         u'(': 2,\n",
       "         u')': 2,\n",
       "         u',': 19,\n",
       "         u'-': 3,\n",
       "         u'.': 54,\n",
       "         u'/': 1,\n",
       "         u'?': 1,\n",
       "         u'A': 4,\n",
       "         u'B': 1,\n",
       "         u'C': 6,\n",
       "         u'D': 7,\n",
       "         u'E': 4,\n",
       "         u'G': 1,\n",
       "         u'H': 4,\n",
       "         u'L': 4,\n",
       "         u'M': 4,\n",
       "         u'N': 1,\n",
       "         u'O': 1,\n",
       "         u'P': 6,\n",
       "         u'Q': 3,\n",
       "         u'R': 5,\n",
       "         u'S': 17,\n",
       "         u'T': 5,\n",
       "         u'U': 2,\n",
       "         u'W': 4,\n",
       "         u'Z': 1,\n",
       "         u'a': 199,\n",
       "         u'b': 21,\n",
       "         u'c': 72,\n",
       "         u'd': 67,\n",
       "         u'e': 200,\n",
       "         u'f': 30,\n",
       "         u'g': 50,\n",
       "         u'h': 55,\n",
       "         u'i': 149,\n",
       "         u'j': 2,\n",
       "         u'k': 10,\n",
       "         u'l': 76,\n",
       "         u'm': 40,\n",
       "         u'n': 164,\n",
       "         u'o': 118,\n",
       "         u'p': 40,\n",
       "         u'q': 2,\n",
       "         u'r': 100,\n",
       "         u's': 111,\n",
       "         u't': 180,\n",
       "         u'u': 46,\n",
       "         u'v': 16,\n",
       "         u'w': 17,\n",
       "         u'x': 7,\n",
       "         u'y': 24,\n",
       "         u'z': 2,\n",
       "         u'\\u2013': 2,\n",
       "         u'\\u2019': 4})"
      ]
     },
     "execution_count": 8,
     "metadata": {},
     "output_type": "execute_result"
    }
   ],
   "source": [
    "from collections import Counter\n",
    "Counter(reduce(lambda x, y:x+ ' '+y, summary_texts))"
   ]
  },
  {
   "cell_type": "code",
   "execution_count": null,
   "metadata": {
    "collapsed": true
   },
   "outputs": [],
   "source": [
    "#### UFO ######\n",
    "\n",
    "# SCRAPE ALL SIGHTINGS in 2016\n",
    "# Plan of action\n",
    "# 1. Figure out the pattern to get a certain year and month from nuforc\n",
    "# 2. Scrape each sightings\n",
    "# 3. Make a dataframe out of it\n",
    "# 4. make a day column\n",
    "# 5. graph each day in 2016 and see which day had the most! (Is it July 4th?)"
   ]
  },
  {
   "cell_type": "code",
   "execution_count": null,
   "metadata": {
    "collapsed": true
   },
   "outputs": [],
   "source": [
    "##### TWITTER ######\n",
    "\n",
    "# Create a dataframe where each row is a tweet that uses any tag (or tags) you choose!\n",
    "# include a column for date, text, user handle, user name, and user image\n",
    "# You can use the normal query method and not stream for this!"
   ]
  }
 ],
 "metadata": {
  "anaconda-cloud": {},
  "kernelspec": {
   "display_name": "Python [sfdat26-env]",
   "language": "python",
   "name": "Python [sfdat26-env]"
  },
  "language_info": {
   "codemirror_mode": {
    "name": "ipython",
    "version": 2
   },
   "file_extension": ".py",
   "mimetype": "text/x-python",
   "name": "python",
   "nbconvert_exporter": "python",
   "pygments_lexer": "ipython2",
   "version": "2.7.12"
  }
 },
 "nbformat": 4,
 "nbformat_minor": 0
}
