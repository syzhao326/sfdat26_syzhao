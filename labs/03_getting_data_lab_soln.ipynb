{
 "cells": [
  {
   "cell_type": "code",
   "execution_count": 2,
   "metadata": {
    "collapsed": true
   },
   "outputs": [],
   "source": [
    "import requests\n",
    "from bs4 import BeautifulSoup\n",
    "import pandas as pd"
   ]
  },
  {
   "cell_type": "code",
   "execution_count": 3,
   "metadata": {
    "collapsed": false
   },
   "outputs": [],
   "source": [
    "##### INDEED #####\n",
    "\n",
    "# a job posting website (as well as resume hosting)\n",
    "\n",
    "\n",
    "# scrape some (or A LOT) of job postings from indeed for the job \"data scientist\"\n",
    "\n",
    "\n",
    "# Plan of Action:\n",
    "# http://www.indeed.com/jobs?q=data+scientist&l=San+Francisco%2C+CA\n",
    "# 1. Figure out the url for getting the summaries (by doing it yourself!)\n",
    "# 2. Scrape the summary\n",
    "# 3. Figure out how to change the page by changing the URL (hint, click the next page button and see how the url changes)\n",
    "# 4. BONUS: count the most used words in the sumaries\n"
   ]
  },
  {
   "cell_type": "code",
   "execution_count": 4,
   "metadata": {
    "collapsed": false
   },
   "outputs": [],
   "source": [
    "# 1. Figure out the url for getting the summaries (by doing it yourself!)\n",
    "r = requests.get('http://www.indeed.com/jobs?q=data+scientist&l=San+Francisco,+CA')\n",
    "b = BeautifulSoup(r.text, 'html.parser')"
   ]
  },
  {
   "cell_type": "code",
   "execution_count": 5,
   "metadata": {
    "collapsed": false
   },
   "outputs": [],
   "source": [
    "# 2. Scrape the summary\n",
    "summary_tags = b.findAll('span', attrs={'class':'summary'})"
   ]
  },
  {
   "cell_type": "code",
   "execution_count": 6,
   "metadata": {
    "collapsed": false
   },
   "outputs": [
    {
     "data": {
      "text/plain": [
       "u'requirements for all data scientists. expert in python and core libraries used by data scientists (numpy, scipy, pandas, scikit-learn, matplotlib/seaborn, etc.)...'"
      ]
     },
     "execution_count": 6,
     "metadata": {},
     "output_type": "execute_result"
    }
   ],
   "source": [
    "# summary_tags[0].text\n",
    "\n",
    "summary_texts = [t.text.lower().strip() for t in summary_tags]\n",
    "summary_texts[0]"
   ]
  },
  {
   "cell_type": "code",
   "execution_count": 7,
   "metadata": {
    "collapsed": true
   },
   "outputs": [],
   "source": [
    "# 3. Figure out how to change the page by changing the URL (hint, click the next page button and see how the url changes)\n",
    "\n",
    "page = '10'## multiple of 10\n",
    "r = requests.get('http://www.indeed.com/jobs?q=data+scientist&l=San+Francisco,+CA&start='+page) \n",
    "b = BeautifulSoup(r.text, 'html.parser')"
   ]
  },
  {
   "cell_type": "code",
   "execution_count": 8,
   "metadata": {
    "collapsed": false
   },
   "outputs": [
    {
     "data": {
      "text/plain": [
       "[(u'science', 3),\n",
       " (u'r', 3),\n",
       " (u'engineering', 3),\n",
       " (u'at', 3),\n",
       " (u'a', 3),\n",
       " (u'team', 4),\n",
       " (u'analytics', 4),\n",
       " (u'are', 4),\n",
       " (u'scientists', 4),\n",
       " (u'on', 4),\n",
       " (u'learning', 4),\n",
       " (u'is', 4),\n",
       " (u'to', 5),\n",
       " (u'in', 5),\n",
       " (u'machine', 7),\n",
       " (u'for', 8),\n",
       " (u'the', 10),\n",
       " (u'of', 11),\n",
       " (u'data', 23),\n",
       " (u'and', 24)]"
      ]
     },
     "execution_count": 8,
     "metadata": {},
     "output_type": "execute_result"
    }
   ],
   "source": [
    "# 4. BONUS: count the most used words in the sumaries\n",
    "single_block_of_text = reduce(lambda x,y: x+' '+y, summary_texts)\n",
    "single_block_of_text\n",
    "\n",
    "words_tokenized = single_block_of_text.split(' ')\n",
    "words_tokenized[:10]\n",
    "\n",
    "from collections import Counter\n",
    "\n",
    "sorted(Counter(words_tokenized).items(), key = lambda x:x[1])[-20:]"
   ]
  },
  {
   "cell_type": "code",
   "execution_count": 9,
   "metadata": {
    "collapsed": false
   },
   "outputs": [],
   "source": [
    "#### UFO ######\n",
    "\n",
    "# SCRAPE ALL SIGHTINGS in 2016\n",
    "# Plan of action\n",
    "# 1. Figure out the pattern to get a certain year and month from nuforc\n",
    "# 2. Scrape each sightings\n",
    "# 3. Make a dataframe out of it\n",
    "# 4. make a day column\n",
    "# 5. graph each day in 2016 and see which day had the most! (Is it July 4th?)\n"
   ]
  },
  {
   "cell_type": "code",
   "execution_count": 10,
   "metadata": {
    "collapsed": false
   },
   "outputs": [],
   "source": [
    "# 1. Figure out the pattern to get a certain year and month from nuforc\n",
    "# 2. Scrape each sightings\n",
    "\n",
    "yr_months = ['201601', '201602', '201603', '201604', '201605', '201606', '201607', '201608']\n",
    "\n",
    "ufo_sightings = {\n",
    "        'Date':[],\n",
    "        'City':[],\n",
    "        'State':[],\n",
    "        'Shape':[],\n",
    "        'Summary':[]\n",
    "    }\n",
    "\n",
    "for month in yr_months:\n",
    "    url = 'http://www.nuforc.org/webreports/ndxe' + month + '.html'\n",
    "    r = requests.get(url)\n",
    "    b = BeautifulSoup(r.text, 'html.parser')\n",
    "    for tr in b.findAll('tr', attrs = {'valign':'TOP'}):\n",
    "        # the findChildren method returns all children underneath it\n",
    "        ufo_sighting_info = []\n",
    "        for child in tr.findChildren():\n",
    "            ufo_sighting_info.append(child.text)\n",
    "        ufo_sightings['Date'].append(ufo_sighting_info[0])\n",
    "        ufo_sightings['City'].append(ufo_sighting_info[3])\n",
    "        ufo_sightings['State'].append(ufo_sighting_info[5])\n",
    "        ufo_sightings['Shape'].append(ufo_sighting_info[7])\n",
    "        ufo_sightings['Summary'].append(ufo_sighting_info[12])"
   ]
  },
  {
   "cell_type": "code",
   "execution_count": 11,
   "metadata": {
    "collapsed": false
   },
   "outputs": [
    {
     "data": {
      "text/html": [
       "<div>\n",
       "<table border=\"1\" class=\"dataframe\">\n",
       "  <thead>\n",
       "    <tr style=\"text-align: right;\">\n",
       "      <th></th>\n",
       "      <th>City</th>\n",
       "      <th>Date</th>\n",
       "      <th>Shape</th>\n",
       "      <th>State</th>\n",
       "      <th>Summary</th>\n",
       "    </tr>\n",
       "  </thead>\n",
       "  <tbody>\n",
       "    <tr>\n",
       "      <th>0</th>\n",
       "      <td>Stanton</td>\n",
       "      <td>1/31/16 23:10</td>\n",
       "      <td>Triangle</td>\n",
       "      <td>TX</td>\n",
       "      <td>Flying Triangle object Martin County, TX.</td>\n",
       "    </tr>\n",
       "    <tr>\n",
       "      <th>1</th>\n",
       "      <td>Emigrant Pass (near; foothills of)</td>\n",
       "      <td>1/31/16 23:00</td>\n",
       "      <td>Other</td>\n",
       "      <td>OR</td>\n",
       "      <td>Seen a object with a solid orange bar that lit...</td>\n",
       "    </tr>\n",
       "    <tr>\n",
       "      <th>2</th>\n",
       "      <td>Allentown</td>\n",
       "      <td>1/31/16 22:00</td>\n",
       "      <td>Fireball</td>\n",
       "      <td>PA</td>\n",
       "      <td>Yellow beam of light falling from the sky, wit...</td>\n",
       "    </tr>\n",
       "    <tr>\n",
       "      <th>3</th>\n",
       "      <td>Sandpoint</td>\n",
       "      <td>1/31/16 20:57</td>\n",
       "      <td>Fireball</td>\n",
       "      <td>ID</td>\n",
       "      <td>Object came in from west to east below approx ...</td>\n",
       "    </tr>\n",
       "    <tr>\n",
       "      <th>4</th>\n",
       "      <td>West Suffield</td>\n",
       "      <td>1/31/16 20:46</td>\n",
       "      <td>Circle</td>\n",
       "      <td>CT</td>\n",
       "      <td>\\tI saw 3 orange lights in a formation coming ...</td>\n",
       "    </tr>\n",
       "  </tbody>\n",
       "</table>\n",
       "</div>"
      ],
      "text/plain": [
       "                                 City           Date     Shape State  \\\n",
       "0                             Stanton  1/31/16 23:10  Triangle    TX   \n",
       "1  Emigrant Pass (near; foothills of)  1/31/16 23:00     Other    OR   \n",
       "2                           Allentown  1/31/16 22:00  Fireball    PA   \n",
       "3                           Sandpoint  1/31/16 20:57  Fireball    ID   \n",
       "4                       West Suffield  1/31/16 20:46    Circle    CT   \n",
       "\n",
       "                                             Summary  \n",
       "0          Flying Triangle object Martin County, TX.  \n",
       "1  Seen a object with a solid orange bar that lit...  \n",
       "2  Yellow beam of light falling from the sky, wit...  \n",
       "3  Object came in from west to east below approx ...  \n",
       "4  \\tI saw 3 orange lights in a formation coming ...  "
      ]
     },
     "execution_count": 11,
     "metadata": {},
     "output_type": "execute_result"
    }
   ],
   "source": [
    "# 3. Make a dataframe out of it\n",
    "\n",
    "ufo = pd.DataFrame(ufo_sightings)\n",
    "ufo.head()"
   ]
  },
  {
   "cell_type": "code",
   "execution_count": 12,
   "metadata": {
    "collapsed": false
   },
   "outputs": [],
   "source": [
    "# 4. make a day column\n",
    "\n",
    "from datetime import datetime\n",
    "\n",
    "def parse_date(x):\n",
    "    for fmt in ('%m/%d/%y %H:%M', '%m/%d/%y'):\n",
    "        try:\n",
    "            return datetime.strptime(x, fmt)\n",
    "        except ValueError:\n",
    "            pass\n",
    "\n",
    "ufo['time'] = ufo.Date.apply(parse_date)\n",
    "ufo['day'] = ufo.Date.apply(parse_date).dt.day"
   ]
  },
  {
   "cell_type": "code",
   "execution_count": 13,
   "metadata": {
    "collapsed": false
   },
   "outputs": [
    {
     "data": {
      "text/html": [
       "<div>\n",
       "<table border=\"1\" class=\"dataframe\">\n",
       "  <thead>\n",
       "    <tr style=\"text-align: right;\">\n",
       "      <th></th>\n",
       "      <th>City</th>\n",
       "      <th>Date</th>\n",
       "      <th>Shape</th>\n",
       "      <th>State</th>\n",
       "      <th>Summary</th>\n",
       "      <th>time</th>\n",
       "      <th>day</th>\n",
       "    </tr>\n",
       "  </thead>\n",
       "  <tbody>\n",
       "    <tr>\n",
       "      <th>0</th>\n",
       "      <td>Stanton</td>\n",
       "      <td>1/31/16 23:10</td>\n",
       "      <td>Triangle</td>\n",
       "      <td>TX</td>\n",
       "      <td>Flying Triangle object Martin County, TX.</td>\n",
       "      <td>2016-01-31 23:10:00</td>\n",
       "      <td>31</td>\n",
       "    </tr>\n",
       "    <tr>\n",
       "      <th>1</th>\n",
       "      <td>Emigrant Pass (near; foothills of)</td>\n",
       "      <td>1/31/16 23:00</td>\n",
       "      <td>Other</td>\n",
       "      <td>OR</td>\n",
       "      <td>Seen a object with a solid orange bar that lit...</td>\n",
       "      <td>2016-01-31 23:00:00</td>\n",
       "      <td>31</td>\n",
       "    </tr>\n",
       "    <tr>\n",
       "      <th>2</th>\n",
       "      <td>Allentown</td>\n",
       "      <td>1/31/16 22:00</td>\n",
       "      <td>Fireball</td>\n",
       "      <td>PA</td>\n",
       "      <td>Yellow beam of light falling from the sky, wit...</td>\n",
       "      <td>2016-01-31 22:00:00</td>\n",
       "      <td>31</td>\n",
       "    </tr>\n",
       "    <tr>\n",
       "      <th>3</th>\n",
       "      <td>Sandpoint</td>\n",
       "      <td>1/31/16 20:57</td>\n",
       "      <td>Fireball</td>\n",
       "      <td>ID</td>\n",
       "      <td>Object came in from west to east below approx ...</td>\n",
       "      <td>2016-01-31 20:57:00</td>\n",
       "      <td>31</td>\n",
       "    </tr>\n",
       "    <tr>\n",
       "      <th>4</th>\n",
       "      <td>West Suffield</td>\n",
       "      <td>1/31/16 20:46</td>\n",
       "      <td>Circle</td>\n",
       "      <td>CT</td>\n",
       "      <td>\\tI saw 3 orange lights in a formation coming ...</td>\n",
       "      <td>2016-01-31 20:46:00</td>\n",
       "      <td>31</td>\n",
       "    </tr>\n",
       "  </tbody>\n",
       "</table>\n",
       "</div>"
      ],
      "text/plain": [
       "                                 City           Date     Shape State  \\\n",
       "0                             Stanton  1/31/16 23:10  Triangle    TX   \n",
       "1  Emigrant Pass (near; foothills of)  1/31/16 23:00     Other    OR   \n",
       "2                           Allentown  1/31/16 22:00  Fireball    PA   \n",
       "3                           Sandpoint  1/31/16 20:57  Fireball    ID   \n",
       "4                       West Suffield  1/31/16 20:46    Circle    CT   \n",
       "\n",
       "                                             Summary                time  day  \n",
       "0          Flying Triangle object Martin County, TX. 2016-01-31 23:10:00   31  \n",
       "1  Seen a object with a solid orange bar that lit... 2016-01-31 23:00:00   31  \n",
       "2  Yellow beam of light falling from the sky, wit... 2016-01-31 22:00:00   31  \n",
       "3  Object came in from west to east below approx ... 2016-01-31 20:57:00   31  \n",
       "4  \\tI saw 3 orange lights in a formation coming ... 2016-01-31 20:46:00   31  "
      ]
     },
     "execution_count": 13,
     "metadata": {},
     "output_type": "execute_result"
    }
   ],
   "source": [
    "ufo.head()"
   ]
  },
  {
   "cell_type": "code",
   "execution_count": 14,
   "metadata": {
    "collapsed": false
   },
   "outputs": [
    {
     "data": {
      "text/plain": [
       "<matplotlib.axes._subplots.AxesSubplot at 0x1188add50>"
      ]
     },
     "execution_count": 14,
     "metadata": {},
     "output_type": "execute_result"
    },
    {
     "data": {
      "image/png": "[encoded data removed]",
      "text/plain": [
       "<matplotlib.figure.Figure at 0x1188ad310>"
      ]
     },
     "metadata": {},
     "output_type": "display_data"
    }
   ],
   "source": [
    "# 5. graph each day in 2016 and see which day had the most! (Is it July 4th?)\n",
    "\n",
    "import matplotlib.pyplot as plt\n",
    "%matplotlib inline\n",
    "\n",
    "ufo.groupby(pd.Grouper(key='time',freq='1d')).count().day.plot()\n",
    "\n",
    "# no it is not 4th of july"
   ]
  },
  {
   "cell_type": "code",
   "execution_count": 15,
   "metadata": {
    "collapsed": true
   },
   "outputs": [],
   "source": [
    "##### TWITTER ######\n",
    "\n",
    "# Create a dataframe where each row is a tweet that uses any tag (or tags) you choose!\n",
    "# include a column for date, text, user handle, user name, and user image\n",
    "# You can use the normal query method and not stream for this!\n",
    "\n",
    "api_key = 'g5uPIpw80nULQI1gfklv2zrh4'\n",
    "api_secret = 'cOWvNWxYvPmEZ0ArZVeeVVvJu41QYHdUS2GpqIKtSQ1isd5PJy'\n",
    "access_token = '49722956-TWl8J0aAS6KTdcbz3ppZ7NfqZEmrwmbsb9cYPNELG'\n",
    "access_secret = '3eqrVssF3ppv23qyflyAto8wLEiYRA8sXEPSghuOJWTub'\n",
    "\n",
    "# Masahpe Key\n",
    "mashape_key = '0CLvblsJOxmshWkaep4szo9CILOMp1PM3hhjsnDi4k8g8ME14o'"
   ]
  },
  {
   "cell_type": "code",
   "execution_count": 16,
   "metadata": {
    "collapsed": true
   },
   "outputs": [],
   "source": [
    "import tweepy       # python wrapper for twitter api\n",
    "import json\n",
    "import time"
   ]
  },
  {
   "cell_type": "code",
   "execution_count": 18,
   "metadata": {
    "collapsed": false
   },
   "outputs": [],
   "source": [
    "# Create a dataframe where each row is a tweet that uses any tag (or tags) you choose!\n",
    "tag = '#Rio2016'\n",
    "\n",
    "auth = tweepy.OAuthHandler(api_key, api_secret)\n",
    "auth.set_access_token(access_token, access_secret)\n",
    "api = tweepy.API(auth) # returns a tweepy authorization handler object\n",
    "tweets = api.search(q=tag)"
   ]
  },
  {
   "cell_type": "code",
   "execution_count": 23,
   "metadata": {
    "collapsed": false,
    "scrolled": true
   },
   "outputs": [],
   "source": [
    "# include a column for date, text, user handle, user name, and user image\n",
    "rio_tweets = {'date': [], 'text': [],\n",
    "        'user_handle': [], 'user_name': [],\n",
    "        'user_image': []}\n",
    "\n",
    "for t in tweets:\n",
    "    rio_tweets['date'].append(t.created_at)\n",
    "    rio_tweets['text'].append(t.text)\n",
    "    rio_tweets['user_handle'].append(t.author.screen_name)\n",
    "    rio_tweets['user_name'].append(t.author.name)\n",
    "    rio_tweets['user_image'].append(t.author.profile_image_url)"
   ]
  },
  {
   "cell_type": "code",
   "execution_count": 24,
   "metadata": {
    "collapsed": false
   },
   "outputs": [],
   "source": [
    "# You can use the normal query method and not stream for this!\n",
    "\n",
    "rio_tweets_df = pd.DataFrame(rio_tweets)"
   ]
  },
  {
   "cell_type": "code",
   "execution_count": 25,
   "metadata": {
    "collapsed": false
   },
   "outputs": [
    {
     "data": {
      "text/html": [
       "<div>\n",
       "<table border=\"1\" class=\"dataframe\">\n",
       "  <thead>\n",
       "    <tr style=\"text-align: right;\">\n",
       "      <th></th>\n",
       "      <th>date</th>\n",
       "      <th>text</th>\n",
       "      <th>user_handle</th>\n",
       "      <th>user_image</th>\n",
       "      <th>user_name</th>\n",
       "    </tr>\n",
       "  </thead>\n",
       "  <tbody>\n",
       "    <tr>\n",
       "      <th>0</th>\n",
       "      <td>2016-08-21 17:59:16</td>\n",
       "      <td>Pqp! Jogo sensacional do Brasil ! É ouro de no...</td>\n",
       "      <td>WAGNERMELO9</td>\n",
       "      <td>http://pbs.twimg.com/profile_images/7208674977...</td>\n",
       "      <td>WAGNER MELO</td>\n",
       "    </tr>\n",
       "    <tr>\n",
       "      <th>1</th>\n",
       "      <td>2016-08-21 17:59:16</td>\n",
       "      <td>Ama İtalyanlar ağlamasın yazıkkkk #Rio2016</td>\n",
       "      <td>enjjoythesilenc</td>\n",
       "      <td>http://pbs.twimg.com/profile_images/7384125435...</td>\n",
       "      <td>Özge Kap</td>\n",
       "    </tr>\n",
       "    <tr>\n",
       "      <th>2</th>\n",
       "      <td>2016-08-21 17:59:16</td>\n",
       "      <td>Don't swet @Nigerians we av got dekunle#Gold, ...</td>\n",
       "      <td>onwumechba</td>\n",
       "      <td>http://pbs.twimg.com/profile_images/7502791849...</td>\n",
       "      <td>anthony o onwumechba</td>\n",
       "    </tr>\n",
       "    <tr>\n",
       "      <th>3</th>\n",
       "      <td>2016-08-21 17:59:16</td>\n",
       "      <td>RT @AnaPaulaVolei: É #Ouro! É #Ouro! É #Ouro B...</td>\n",
       "      <td>JorgePontual</td>\n",
       "      <td>http://pbs.twimg.com/profile_images/6265763920...</td>\n",
       "      <td>Jorge Pontual</td>\n",
       "    </tr>\n",
       "    <tr>\n",
       "      <th>4</th>\n",
       "      <td>2016-08-21 17:59:16</td>\n",
       "      <td>RT @RedeGlobo: ACABOU ACABOU! É #ouro!! #Somos...</td>\n",
       "      <td>AndermanAl</td>\n",
       "      <td>http://pbs.twimg.com/profile_images/7644435936...</td>\n",
       "      <td>Leti </td>\n",
       "    </tr>\n",
       "  </tbody>\n",
       "</table>\n",
       "</div>"
      ],
      "text/plain": [
       "                 date                                               text  \\\n",
       "0 2016-08-21 17:59:16  Pqp! Jogo sensacional do Brasil ! É ouro de no...   \n",
       "1 2016-08-21 17:59:16         Ama İtalyanlar ağlamasın yazıkkkk #Rio2016   \n",
       "2 2016-08-21 17:59:16  Don't swet @Nigerians we av got dekunle#Gold, ...   \n",
       "3 2016-08-21 17:59:16  RT @AnaPaulaVolei: É #Ouro! É #Ouro! É #Ouro B...   \n",
       "4 2016-08-21 17:59:16  RT @RedeGlobo: ACABOU ACABOU! É #ouro!! #Somos...   \n",
       "\n",
       "       user_handle                                         user_image  \\\n",
       "0      WAGNERMELO9  http://pbs.twimg.com/profile_images/7208674977...   \n",
       "1  enjjoythesilenc  http://pbs.twimg.com/profile_images/7384125435...   \n",
       "2       onwumechba  http://pbs.twimg.com/profile_images/7502791849...   \n",
       "3     JorgePontual  http://pbs.twimg.com/profile_images/6265763920...   \n",
       "4       AndermanAl  http://pbs.twimg.com/profile_images/7644435936...   \n",
       "\n",
       "              user_name  \n",
       "0           WAGNER MELO  \n",
       "1              Özge Kap  \n",
       "2  anthony o onwumechba  \n",
       "3         Jorge Pontual  \n",
       "4                Leti   "
      ]
     },
     "execution_count": 25,
     "metadata": {},
     "output_type": "execute_result"
    }
   ],
   "source": [
    "rio_tweets_df.head()"
   ]
  },
  {
   "cell_type": "code",
   "execution_count": null,
   "metadata": {
    "collapsed": true
   },
   "outputs": [],
   "source": []
  }
 ],
 "metadata": {
  "anaconda-cloud": {},
  "kernelspec": {
   "display_name": "Python 2",
   "language": "python",
   "name": "python2"
  },
  "language_info": {
   "codemirror_mode": {
    "name": "ipython",
    "version": 2
   },
   "file_extension": ".py",
   "mimetype": "text/x-python",
   "name": "python",
   "nbconvert_exporter": "python",
   "pygments_lexer": "ipython2",
   "version": "2.7.12"
  }
 },
 "nbformat": 4,
 "nbformat_minor": 0
}
