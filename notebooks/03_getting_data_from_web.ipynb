{
 "cells": [
  {
   "cell_type": "code",
   "execution_count": 1,
   "metadata": {
    "collapsed": false
   },
   "outputs": [],
   "source": [
    "import requests     # how python goes onto the internet!\n",
    "import re           # regex\n",
    "from bs4 import BeautifulSoup # a python HTML parser (version 3)"
   ]
  },
  {
   "cell_type": "code",
   "execution_count": null,
   "metadata": {
    "collapsed": true
   },
   "outputs": [],
   "source": []
  },
  {
   "cell_type": "code",
   "execution_count": 2,
   "metadata": {
    "collapsed": true
   },
   "outputs": [],
   "source": [
    "# let's turn to stock prices\n",
    "# http://finance.google.com/finance?q=aapl"
   ]
  },
  {
   "cell_type": "code",
   "execution_count": 3,
   "metadata": {
    "collapsed": true
   },
   "outputs": [],
   "source": [
    "symbol = 'aapl'"
   ]
  },
  {
   "cell_type": "code",
   "execution_count": 4,
   "metadata": {
    "collapsed": false
   },
   "outputs": [],
   "source": [
    "# Let's grab the raw html from the page\n",
    "r = requests.get('http://finance.google.com/finance?q='+symbol) # the url of the google finance page goes in here"
   ]
  },
  {
   "cell_type": "code",
   "execution_count": 7,
   "metadata": {
    "collapsed": false
   },
   "outputs": [],
   "source": [
    "b = BeautifulSoup(r.text, \"html5lib\") # create a beautifulsoup object\n",
    "# b = BeautifulSoup(r.text, 'html.parser') # try this line instead if you have problems"
   ]
  },
  {
   "cell_type": "code",
   "execution_count": 7,
   "metadata": {
    "collapsed": false
   },
   "outputs": [
    {
     "data": {
      "text/plain": [
       "u'<!DOCTYPE html>\\n<html>\\n <head>\\n  <script>\\n   (function(){(function(){function e(a){this.t={};this.tick=function(a,c,b){var d=void 0!=b?b:(new Date).getTime();this.t[a]=[d,c];if(void 0==b)try{window.console.timeStamp(\"CSI/\"+a)}catch(e){}};this.tick(\"start\",null,a)}var a;window.performance&&(a=window.performance.timing);var f=a?new e(a.responseStart):new e;window.jstiming={Timer:e,load:f};if(a){var c=a.navigationStart,d=a.responseStart;0<c&&d>=c&&(window.jstiming.srt=d-c)}if(a){var b=window.jstiming.load;0<c&&d>=c&&(b.tick(\"_wtsrt\",void 0,c),b.tick(\"wtsrt_\",\\n\"_wtsrt\",d),b.tick(\"tbsd_\",\"wtsrt_\"))}try{a=null,window.chrome&&window.chrome.csi&&(a=Math.floor(window.chrome.csi().pageT),b&&0<c&&(b.tick(\"_tbnd\",void 0,window.chrome.csi().startE),b.tick(\"tbnd_\",\"_tbnd\",c))),null==a&&window.gtbExternal&&(a=window.gtbExternal.pageT()),null==a&&window.external&&(a=window.external.pageT,b&&0<c&&(b.tick(\"_tbnd\",void 0,window.external.startE),b.tick(\"tbnd_\",\"_tbnd\",c))),a&&(window.jstiming.pt=a)}catch(g){}})();})();\\n  </script>\\n  <title>\\n   Apple Inc.: NASDAQ:AAPL quotes &amp; news - Google Finance\\n  </title>\\n  <meta content=\"Get detailed financial information on Apple Inc. (NASDAQ:AAPL) including real-time stock quotes, historical charts &amp; financial news, all for free!\" name=\"Description\"/>\\n  <meta content=\"IE=10\" http-equiv=\"X-UA-Compatible\"/>\\n  <link href=\"http://www.google.com/finance?cid=22144\" rel=\"canonical\"/>\\n  <link href=\"/finance/f/finance_us-1489929081.css\" rel=\"stylesheet\" type=\"text/css\"/>\\n  <link href=\"/_/scs/finance-static/_/ss/k=finance.a.1e05ztsgadv9q.L.W.O/d=0/rs=AGHGApFgZEam8E08saB2px06-NAvbZEjGQ\" rel=\"stylesheet\" type=\"text/css\"/>\\n  <link href=\"/finance/favicon.ico\" rel=\"icon\" type=\"image/vnd.microsoft.icon\"/>\\n  <style>\\n   #gbar,#guser{font-size:13px;padding-right:8px;padding-top:4px !important;}#gbar{padding-left:8px;height:22px}#guser{padding-bottom:7px !important;text-align:right}.gbh,.gbd{border-top:1px solid #c9d7f1;font-size:1px}.gbh{height:0;position:absolute;top:24px;width:100%}@media all{.gb1{height:22px;margin-right:.5em;vertical-align:top}#gbar{float:left}}a.gb1,a.gb4{text-decoration:underline !important}a.gb1,a.gb4{color:#00c !important}.gbi .gb4{color:#dd8e27 !important}.gbf .gb4{color:#900 !important}\\n  </style>\\n  <script>\\n  </script>\\n  <script>\\n   function _rpt() {}\\n      function _tck() {}\\n  </script>\\n  <script>\\n   (function(i,s,o,g,r,a,m){i[\\'GoogleAnalyticsObject\\']=r;i[r]=i[r]||function(){\\n    (i[r].q=i[r].q||[]).push(arguments)},i[r].l=1*new Date();a=s.createElement(o),\\n    m=s.getElementsByTagName(o)[0];a.async=1;a.src=g;m.parentNode.insertBefore(a,m)\\n    })(window,document,\\'script\\',\\'//www.google-analytics.com/analytics.js\\',\\'ga\\');\\n\\n    ga(\\'create\\', \\'UA-40765809-1\\', {\\n      \\'allowLinker\\': true,\\n      \\'cookiePath\\': \\'/finance\\'\\n    });\\n    ga(\\'send\\', \\'pageview\\');\\n  </script>\\n </head>\\n <body>\\n  <div class=\"fjfe-bodywrapper\">\\n   <div class=\"g-doc\" id=\"fjfe-real-body\">\\n    <input id=\"hist_state\" name=\"hist_state\" style=\"display:none;\" type=\"text\"/>\\n    <iframe class=\"invfr\" id=\"hist_frame\" name=\"hist_frame\" tabindex=\"-1\">\\n    </iframe>\\n    <iframe class=\"invfr\" src=\"/_/scs/finance-static/_/js/k=finance.a.en_US.MnpGClQlpGg.O/m=b/rt=h/d=0/rs=AGHGApEJqexQygFmsXwaHqMVIoex2sHODQ\" tabindex=\"-1\">\\n    </iframe>\\n    <div id=\"gbar\">\\n     <nobr>\\n      <a class=\"gb1\" href=\"https://www.google.com/webhp?q=aapl&amp;tab=ew\">\\n       Search\\n      </a>\\n      <a class=\"gb1\" href=\"http://www.google.com/imghp?q=aapl&amp;hl=en&amp;tab=ei\">\\n       Images\\n      </a>\\n      <a class=\"gb1\" href=\"http://maps.google.com/maps?q=aapl&amp;hl=en&amp;tab=el\">\\n       Maps\\n      </a>\\n      <a class=\"gb1\" href=\"https://play.google.com/?q=aapl&amp;hl=en&amp;tab=e8\">\\n       Play\\n      </a>\\n      <a class=\"gb1\" href=\"http://www.youtube.com/?q=aapl&amp;tab=e1\">\\n       YouTube\\n      </a>\\n      <a class=\"gb1\" href=\"http://news.google.com/nwshp?hl=en&amp;tab=en\">\\n       News\\n      </a>\\n      <a class=\"gb1\" href=\"https://mail.google.com/mail/?tab=em\">\\n       Gmail\\n      </a>\\n      <a class=\"gb1\" href=\"https://drive.google.com/?tab=eo\">\\n       Drive\\n      </a>\\n      <a class=\"gb1\" href=\"https://www.google.com/intl/en/options/\" style=\"text-decoration:none\">\\n       <u>\\n        More\\n       </u>\\n       \\xbb\\n      </a>\\n     </nobr>\\n    </div>\\n    <div id=\"guser\" width=\"100%\">\\n     <nobr>\\n      <span class=\"gbi\" id=\"gbn\">\\n      </span>\\n      <span class=\"gbf\" id=\"gbf\">\\n      </span>\\n      <span id=\"gbe\">\\n      </span>\\n      <a class=\"gb4\" href=\"http://www.google.com/support/finance?hl=en\">\\n       Help\\n      </a>\\n      |\\n      <a class=\"gb4\" href=\"https://accounts.google.com/ServiceLogin?service=finance&amp;passive=1209600&amp;continue=http://www.google.com/finance?q%3Daapl&amp;followup=http://www.google.com/finance?q%3Daapl\" id=\"gb_70\" target=\"_top\">\\n       Sign in\\n      </a>\\n     </nobr>\\n    </div>\\n    <div class=\"gbh\" style=\"left:0\">\\n    </div>\\n    <div class=\"gbh\" style=\"right:0\">\\n    </div>\\n    <div id=\"fjfe-click-wrapper\">\\n     <script>\\n      (function() {\\n  var l = window.location;\\n  var q = l.search ? l.search.substr(1) : \\'\\';\\n  var h = l.hash ? l.hash.substr(1) : \\'\\';\\n  var p = \\'/finance\\';\\n  var ss = \\'stockscreener\\';\\n  var conn = window.history && window.history.pushState ? \\'/\\' : \\'#\\';\\n  if (l.pathname == p + \\'/\\' + ss) {\\n    if (h) l.href = p + conn + ss + \\'?\\' + q + \\'&\\' + h;\\n  } else if (l.pathname != p && h) {\\n    l.href = p + l.hash;\\n  }\\n  if (h) {\\ndocument.getElementById(\\'fjfe-click-wrapper\\').style.display = \\'none\\';\\n  }\\n})();\\n     </script>\\n     <div class=\"g-section g-tpl-75-25 g-split\" id=\"gf-head\">\\n      <div class=\"g-unit g-first\">\\n       <div class=\"fjfe-logo\">\\n        <a href=\"/finance/?ei=UxQHV-C7NYKymAHdh5-gCQ\">\\n         <img alt=\"Google Finance\" src=\"/finance/f/logo_us-115376669.gif\"/>\\n        </a>\\n       </div>\\n       <div class=\"fjfe-search\" id=\"gf-search\">\\n        <form action=\"/finance\" autocomplete=\"off\" method=\"get\">\\n         <input class=\"fjfe-searchbox-input\" name=\"q\" tabindex=\"1\" type=\"text\" value=\"NASDAQ:AAPL\"/>\\n         <span class=\"fjfe-searchbox-button-wrapper\">\\n          <span class=\"fjfe-searchbox-button-wrapper2\">\\n           <input class=\"fjfe-searchbox-button\" tabindex=\"2\" type=\"submit\" value=\"Get quotes\"/>\\n          </span>\\n         </span>\\n         <input name=\"ei\" type=\"hidden\" value=\"UxQHV-C7NYKymAHdh5-gCQ\"/>\\n        </form>\\n       </div>\\n      </div>\\n      <div class=\"g-unit fjfe-promo\">\\n       <div class=\"id-ad2-target\" id=\"ad2-target\">\\n       </div>\\n      </div>\\n     </div>\\n     <div class=\"elastic\">\\n      <div class=\"g-section g-tpl-left-11p4em\" id=\"app\">\\n       <div class=\"g-unit g-first\">\\n        <div id=\"gf-nav\">\\n         <div class=\"fjfe-nav-nav\">\\n          <ul class=\"fjfe-nav\" id=\"navmenu\">\\n           <li class=\"fjfe-nav-expanded fjfe-nav-selected\">\\n            Company\\n           </li>\\n           <li class=\"fjfe-nav-sub\">\\n            <div>\\n             Summary\\n            </div>\\n           </li>\\n           <li class=\"fjfe-nav-sub\">\\n            <a href=\"/finance/company_news?q=NASDAQ:AAPL&amp;ei=UxQHV-C7NYKymAHdh5-gCQ\">\\n             News\\n            </a>\\n           </li>\\n           <li class=\"fjfe-nav-sub\">\\n            <a href=\"/finance/option_chain?q=NASDAQ:AAPL&amp;ei=UxQHV-C7NYKymAHdh5-gCQ\">\\n             Option chain\\n            </a>\\n           </li>\\n           <li class=\"fjfe-nav-sub\">\\n            <a href=\"/finance/related?q=NASDAQ:AAPL&amp;ei=UxQHV-C7NYKymAHdh5-gCQ\">\\n             Related companies\\n            </a>\\n           </li>\\n           <li class=\"fjfe-nav-sub\">\\n            <a href=\"/finance/historical?q=NASDAQ:AAPL&amp;ei=UxQHV-C7NYKymAHdh5-gCQ\">\\n             Historical prices\\n            </a>\\n           </li>\\n           <li class=\"fjfe-nav-sub\">\\n            <a href=\"/finance?q=NASDAQ:AAPL&amp;fstype=ii&amp;ei=UxQHV-C7NYKymAHdh5-gCQ\">\\n             Financials\\n            </a>\\n           </li>\\n           <li class=\"fjfe-nav-item\">\\n            <a href=\"/finance?ei=UxQHV-C7NYKymAHdh5-gCQ\">\\n             <div>\\n              Markets\\n             </div>\\n            </a>\\n           </li>\\n           <li class=\"fjfe-nav-item\">\\n            <a href=\"/finance/market_news?ei=UxQHV-C7NYKymAHdh5-gCQ\">\\n             <div>\\n              News\\n             </div>\\n            </a>\\n           </li>\\n           <li class=\"fjfe-nav-item\">\\n            <a href=\"/finance/portfolio?action=view&amp;ei=UxQHV-C7NYKymAHdh5-gCQ\">\\n             <div>\\n              Portfolios\\n             </div>\\n            </a>\\n           </li>\\n           <li class=\"fjfe-nav-item\">\\n            <a href=\"/finance/stockscreener?ei=UxQHV-C7NYKymAHdh5-gCQ\">\\n             <div>\\n              Stock screener\\n             </div>\\n            </a>\\n           </li>\\n           <li class=\"fjfe-nav-item\">\\n            <a href=\"/finance/domestic_trends?ei=UxQHV-C7NYKymAHdh5-gCQ\">\\n             <div>\\n              Google Domestic Trends\\n             </div>\\n            </a>\\n           </li>\\n          </ul>\\n         </div>\\n         <div class=\"fjfe-recentquotes fjfe-recentquotes-noquote\">\\n          <h4>\\n           Recent Quotes\\n           <span class=\"fjfe-recentquotes-duration\">\\n            (\\n            <a href=\"//www.google.com/history/optout?hl=en\">\\n             30 days\\n            </a>\\n            )\\n           </span>\\n          </h4>\\n          <div class=\"fjfe-recentquotes-noquote-notification\">\\n           You have no recent quotes\\n          </div>\\n          <div class=\"fjfe-recentquotes-quotes\">\\n           <div class=\"fjfe-toggle fjfe-toggle-button\">\\n            <span class=\"fjfe-chg-toggle\">\\n             chg\\n            </span>\\n            |\\n            <span class=\"fjfe-perc-toggle\">\\n             %\\n            </span>\\n           </div>\\n           <div class=\"fjfe-table-div\">\\n            <table class=\"fjfe-recentquotes-table\" id=\"rq\" width=\"100%\">\\n            </table>\\n           </div>\\n          </div>\\n         </div>\\n        </div>\\n        <script>\\n         var _cleardot = \\'data:image\\\\/gif;base64,R0lGODlhAQABAIAAAP\\\\/\\\\/\\\\/\\\\/\\\\/\\\\/\\\\/yH5BAEKAAEALAAAAAABAAEAAAICTAEAOw\\\\x3d\\\\x3d\\';\\n    var google = google || {};\\n    google.finance = google.finance || {};\\n    google.finance.gce = false ;\\n        </script>\\n        <script src=\"/finance/f/sfe-opt-307589297.js\">\\n        </script>\\n        <script>\\n         _regOnLoad = function(f) {\\n        if (document.readyState == \\'complete\\') {\\n          f && f();\\n        } else {\\n          // Window.attachEvent() for IE8 and below compatability.\\n          var addEventFunction = window.attachEvent ||\\n              window.addEventListener || function(ignored, f) { f(); };\\n          var event = window.attachEvent ? \\'onload\\' : \\'load\\';\\n          f && addEventFunction(event, f);\\n        }\\n      };\\n    \\n      google.finance.renderRecentQuotes = function() {};\\n        </script>\\n       </div>\\n       <div class=\"g-unit\" id=\"gf-viewc\">\\n        <div class=\"fjfe-content\">\\n         <script>\\n          (function() {\\nif (window[\\'_finance_chart\\']) {\\nvar el = document.getElementById(\\'chart_anchor\\');\\nif (el) {\\nel.innerHTML = \\'\\';\\n}\\nsetFinanceChart(null);\\n}\\n})();\\nvar _ticker = \\'NASDAQ:AAPL\\';\\nvar _slHeight = 221;\\nvar _companyName = \\'Apple Inc.\\';\\nvar _companyPageNewsTab = \\'0\\';\\nvar _displayVolume = true;\\nsetCompanyId(22144);\\n_s_Store._numToDisplay = 6;\\n_comparison_charts_Store._numToDisplay = 8;\\n_comparison_charts_Store._allowMultiTimezoneCompare = true;\\nfunction onCompanyLoad() {\\n_external_target = \"\";\\n_emitFlashChartOnLoad(\\n\"/finance/s/n-VxNKK74DU/chart9.swf?hl=en&gl=us\",\\n_ticker, \"chart_anchor\", \"market-data-div\",\\n_chartConfigObject);\\ngoogle.finance.onCompanyLoad();\\n_initAutoFocus();\\nif (google.finance.initTechnicals) {\\ngoogle.finance.initTechnicals(true);\\n}\\n}\\n         </script>\\n         <div class=\"g-wrap\">\\n          <div class=\"g-section sfe-break-bottom-8\">\\n           <div class=\"g-tpl-67-33 g-split hdg top appbar-hide\" id=\"companyheader\">\\n            <div class=\"g-unit g-first\">\\n             <h3>\\n              Apple Inc.\\n             </h3>\\n             (Public, NASDAQ:AAPL)\\n             <a class=\"norm\" href=\"/finance/portfolio?action=add&amp;addticker=NASDAQ%3AAAPL&amp;ei=UxQHV-C7NYKymAHdh5-gCQ\">\\n              Watch this stock\\n             </a>\\n            </div>\\n            <div class=\"g-unit norm\">\\n             Find more results for\\n             <b>\\n              <a href=\"?noIL=1&amp;q=aapl&amp;ei=UxQHV-C7NYKymAHdh5-gCQ\" id=\"searchmore\">\\n               aapl\\n              </a>\\n             </b>\\n            </div>\\n           </div>\\n          </div>\\n          <script>\\n           _ac_register(function (input, event) {\\nif (input.id == \\'add_comparison_symbol\\') {\\n_comparison_charts_Store.baseTicker = \"NASDAQ:AAPL\";\\nreturn _comparison_charts_Store;\\n}\\n});\\nvar _prefs=_prefs||{};_prefs.hash=\"\";\\n_prefs.feeds=_prefs.feeds||{};\\n_prefs.ch=_prefs.ch||{};\\n_prefs.ch_compare=_prefs.ch_compare||{};\\nvar _chartConfigObject;\\nvar _cleardot;\\nvar _companyName;\\nvar _eventid = \\'UxQHV-C7NYKymAHdh5-gCQ\\';\\nvar _expid;\\nvar _external_target;\\nvar _localDomain = \\'www.google.com\\';\\nvar _minZoomDays;\\nvar _minZoomDaysNoIntraDay;\\nvar _prefs;\\nvar _ticker;\\nvar _urlSuffix;\\nvar google = google || {};\\ngoogle.finance = google.finance || {};\\ngoogle.finance.data = {common:{rq:{ct:\"\"},up:\"chg\",down:\"chr\",linktargetInternal:\"\",hash:\"\",dfp:\"ad-g.doubleclick.net/adi/com.gf.company/technology;fe=nasdaq;ft=aapl;fm=large;dcopt=ist;myd=ad;sz=300x250;tile=1\",streaming:[{cid:\"22144\",s:\"AAPL\",e:\"NASDAQ\"},{cid:\"658723\",s:\"SNDK\",e:\"NASDAQ\"},{cid:\"358464\",s:\"MSFT\",e:\"NASDAQ\"},{cid:\"180086490123759\",s:\"SSNNF\",e:\"OTCMKTS\"},{cid:\"664887\",s:\"VZ\",e:\"NYSE\"},{cid:\"17154\",s:\"HPQ\",e:\"NYSE\"},{cid:\"18241\",s:\"IBM\",e:\"NYSE\"},{cid:\"7583206\",s:\"HTCKF\",e:\"OTCMKTS\"},{cid:\"33095\",s:\"SNE\",e:\"NYSE\"},{cid:\"4112\",s:\"ADBE\",e:\"NASDAQ\"},{cid:\"655931\",s:\"PCRFY\",e:\"OTCMKTS\"}],dfp_companion:\"ad-g.doubleclick.net/adi/com.gf.company/technology;fe=nasdaq;ft=aapl;fm=large;dcopt=ist;myd=ad2;sz=33x33;tile=2\"},company:{news:{clusters:[{nrel:376,idx:0,id:\"52779078019068\",lead_story_url:\"http://www.mysanantonio.com/business/fool/article/Apple-Inc-Challenger-Huawei-Still-Significantly-7234046.php\",a:[{t:\"Apple Inc. Challenger Huawei Still Significantly Behind in 2 Key Metrics\",u:\"http://www.mysanantonio.com/business/fool/article/Apple-Inc-Challenger-Huawei-Still-Significantly-7234046.php\",s:\"mySanAntonio.com\",sp:\"One of the more interesting competitors in the smartphone market and, by extension, to Apple is China-based Huawei. The company, which had previously been known mostly for its telecom equipment, has aggressively pushed into the market for\\\\u0026nbsp;...\",d:\"11 hours ago\",tt:\"1460039175\",usg:\"AFQjCNFBupDAsGQRmS5RZUJcMyTsXPO6kw\",sru:\"http://news.google.com/news/url?sa=T\\\\u0026ct2=us\\\\u0026fd=S\\\\u0026url=http://www.mysanantonio.com/business/fool/article/Apple-Inc-Challenger-Huawei-Still-Significantly-7234046.php\\\\u0026cid=52779078019068\\\\u0026ei=ARQHV9HuCsStmAGt8ZL4DQ\\\\u0026usg=AFQjCNG7gGLUAzhlVQnv5gccm27rNPLmUA\"},{t:\"Apple Inc.\\\\u0026#39;s (AAPL) iPhone Fares Better than Huawei Phones despite Shift to ...\",u:\"http://www.thecountrycaller.com/33197-apple-incs-aapl-iphone-fares-better-than-huawei-phones-despite-shift-to-low-end-devices/\",s:\"Daily Caller\",sp:\"Apple Inc. (NASDAQ:AAPL) is the leader in the high-end segment of the mobile market but Chinese mobile company Huawei has aggressively moved into the same market through its sheer sales volume, making itself a contender.\",d:\"8 hours ago\",tt:\"1460051479\",usg:\"AFQjCNGu46iOOKK0wob_9zoxjZ0hynbXpA\",sru:\"http://news.google.com/news/url?sa=T\\\\u0026ct2=us\\\\u0026fd=S\\\\u0026url=http://www.thecountrycaller.com/33197-apple-incs-aapl-iphone-fares-better-than-huawei-phones-despite-shift-to-low-end-devices/\\\\u0026cid=52779078019068\\\\u0026ei=ARQHV9HuCsStmAGt8ZL4DQ\\\\u0026usg=AFQjCNFI_-Uw_B8iGkl0NBSX83Ja9D3fXg\"},{t:\"Meet Huawei, the Company That Is Challenging Both Apple and Samsung\",u:\"http://www.inc.com/eric-mack/you-barely-know-the-company-set-to-challenge-apple-and-samsung-but-thats-about-t.html\",s:\"Inc.com\",sp:\"The company also teamed up with Leica to include a dual-lens camera in the P9 that Huawei claims will take smartphone photography to a new level, a clear and direct challenge to Apple and Samsung\\\\u0026#39;s perceived supremacy, not just in phone shooters, but\\\\u0026nbsp;...\",d:\"Apr 6, 2016\",tt:\"1459966950\",usg:\"AFQjCNG-G7PgEVdxXhkKgsXwxKo0965g5A\",sru:\"http://news.google.com/news/url?sa=T\\\\u0026ct2=us\\\\u0026fd=S\\\\u0026url=http://www.inc.com/eric-mack/you-barely-know-the-company-set-to-challenge-apple-and-samsung-but-thats-about-t.html\\\\u0026cid=52779078019068\\\\u0026ei=ARQHV9HuCsStmAGt8ZL4DQ\\\\u0026usg=AFQjCNGwTfkfHa4F_3WoDuwT3gVubxnT8g\"}],lead_story_doc_id:\"16727871092395846509\"},{nrel:231,idx:1,id:\"52779078136721\",lead_story_url:\"http://www.profitconfidential.com/stock/aapl-stock-apple-inc-s-next-big-thing-and-its-not-the-iphone/\",a:[{t:\"AAPL Stock: Apple Inc.\\\\u0026#39;s Next Big Thing (and It\\\\u0026#39;s Not the iPhone)\",u:\"http://www.profitconfidential.com/stock/aapl-stock-apple-inc-s-next-big-thing-and-its-not-the-iphone/\",s:\"Profit Confidential\",sp:\"AAPL Stock If you have been following Apple Inc. (NASDAQ:AAPL) stock, you might have noticed its cyclical fluctuations. As a smartphone maker, Apple stock\\\\u0026#39;s appeal tends to increase when it releases a major &#8220;iPhone&#8221; and decrease when it doesn\\\\u0026#39;t.\",d:\"16 hours ago\",tt:\"1460021027\",usg:\"AFQjCNGJpgHofNbShsxsnCv3Ne-qOJ3wGw\",sru:\"http://news.google.com/news/url?sa=T\\\\u0026ct2=us\\\\u0026fd=S\\\\u0026url=http://www.profitconfidential.com/stock/aapl-stock-apple-inc-s-next-big-thing-and-its-not-the-iphone/\\\\u0026cid=52779078136721\\\\u0026ei=ARQHV9HuCsStmAGt8ZL4DQ\\\\u0026usg=AFQjCNEkfEdmhG7xikdWg1hWspkILC2U2Q\"},{t:\"More Evidence That Apple, Inc.\\\\u0026#39;s iPhone SE Was the Right Call\",u:\"http://www.fool.com/investing/general/2016/04/06/more-evidence-that-apple-incs-iphone-se-was-the-ri.aspx\",s:\"Motley Fool\",sp:\"Apple\\\\u0026#39;s (NASDAQ:AAPL) new iPhone SE went on sale last week, but it seems that the launch may have been somewhat \\\\u0026quot;lackluster,\\\\u0026quot; according to KGI Securities analyst Ming-Chi Kuo.\",d:\"Apr 6, 2016\",tt:\"1459970325\",usg:\"AFQjCNHnlLQXOxbbEEShdX_MJUWghY1keA\",sru:\"http://news.google.com/news/url?sa=T\\\\u0026ct2=us\\\\u0026fd=S\\\\u0026url=http://www.fool.com/investing/general/2016/04/06/more-evidence-that-apple-incs-iphone-se-was-the-ri.aspx\\\\u0026cid=52779078136721\\\\u0026ei=ARQHV9HuCsStmAGt8ZL4DQ\\\\u0026usg=AFQjCNFBTkPcU5fYKe-ODn5_Mp6E4UEU_g\"},{t:\"Apple Inc. (AAPL) iPhone SE Sold out Across the US\",u:\"http://www.thecountrycaller.com/40158-apple-inc-aapl-iphone-se-sold-out-across-the-us/\",s:\"Daily Caller\",sp:\"Apple Inc. (NASDAQ: AAPL) for the very first time saw a decline in sales for its iPhone during the fourth quarter last year.\",d:\"12 hours ago\",tt:\"1460036475\",usg:\"AFQjCNGpvxVO8ge8WAwBxIRMmz8e8Lm4cw\",sru:\"http://news.google.com/news/url?sa=T\\\\u0026ct2=us\\\\u0026fd=S\\\\u0026url=http://www.thecountrycaller.com/40158-apple-inc-aapl-iphone-se-sold-out-across-the-us/\\\\u0026cid=52779078136721\\\\u0026ei=ARQHV9HuCsStmAGt8ZL4DQ\\\\u0026usg=AFQjCNG4WPJAfyNEXmYdwh4zOJhyBxXXxw\"}],lead_story_doc_id:\"7547009597474878869\"},{nrel:3,idx:2,id:\"52779078838802\",lead_story_url:\"http://www.fool.com/investing/general/2016/04/07/what-apple-incs-and-spotifys-recent-moves-might-me.aspx\",a:[{t:\"What Apple Inc\\\\u0026#39;s and Spotify\\\\u0026#39;s Recent Moves Might Mean for the Future of ...\",u:\"http://www.fool.com/investing/general/2016/04/07/what-apple-incs-and-spotifys-recent-moves-might-me.aspx\",s:\"Motley Fool\",sp:\"Beyond Spotify though, Apple continued its steady drumbeat of original or exclusive video content development for Apple Music. The world\\\\u0026#39;s largest tech company recently added a musically focused TV series from Vice Media. In addition, word has surfaced\\\\u0026nbsp;...\",d:\"15 hours ago\",tt:\"1460024647\",usg:\"AFQjCNGXRdJwYXnQsLQoV8wlY9GbYNw3uA\",sru:\"http://news.google.com/news/url?sa=T\\\\u0026ct2=us\\\\u0026fd=S\\\\u0026url=http://www.fool.com/investing/general/2016/04/07/what-apple-incs-and-spotifys-recent-moves-might-me.aspx\\\\u0026cid=52779078838802\\\\u0026ei=ARQHV9HuCsStmAGt8ZL4DQ\\\\u0026usg=AFQjCNHv0wF-KvkW125XmatIAHM2PQPlYA\"}],lead_story_doc_id:\"15365520919541534657\"},{idx:3,id:\"0\",lead_story_url:\"http://www.mysanantonio.com/business/fool/article/By-How-Much-Is-Apple-Inc-About-to-Increase-Its-7234993.php\",a:[{t:\"Daniel Sparks, The Motley Fool\",u:\"http://www.mysanantonio.com/business/fool/article/By-How-Much-Is-Apple-Inc-About-to-Increase-Its-7234993.php\",s:\"mySanAntonio.com\",sp:\"A dividend increase for Apple is coming -- and it\\\\u0026#39;s just a few weeks away. Not only has management committed to increasing its dividend annually, but Apple also specifically promised during the company\\\\u0026#39;s first fiscal quarter earnings call that it would ...\",d:\"5 hours ago\",tt:\"1460062125\",usg:\"AFQjCNEQ9DyKarmz_lwHG_fDI89mNzsvOw\",sru:\"http://news.google.com/news/url?sa=T\\\\u0026ct2=us\\\\u0026fd=S\\\\u0026url=http://www.mysanantonio.com/business/fool/article/By-How-Much-Is-Apple-Inc-About-to-Increase-Its-7234993.php\\\\u0026cid=0\\\\u0026ei=ARQHV9HuCsStmAGt8ZL4DQ\\\\u0026usg=AFQjCNHgTxrkMMwXgRLN2r9FAhOjoymUfg\"}],lead_story_doc_id:\"15837606909496439619\"},{nrel:110,idx:4,id:\"52779077933218\",lead_story_url:\"http://investorplace.com/2016/04/apple-inc-aapl-stock-price-target-upped-for-services-offering/\",a:[{t:\"Can Apple Inc. (AAPL) Reach This New Stock Price Target?\",u:\"http://investorplace.com/2016/04/apple-inc-aapl-stock-price-target-upped-for-services-offering/\",s:\"Investorplace.com\",sp:\"Can Apple Inc. (AAPL) Reach This New Stock Price Target? This time Credit Suisse (CS) analysts are reminding investors that they may be under appreciating Apple Services and how much they can boost the iPhone maker\\\\u0026#39;s top and bottom lines.\",d:\"Apr 5, 2016\",tt:\"1459867207\",usg:\"AFQjCNFcnxGk3rrI7_SLnOZCTB-upPiZ9g\",sru:\"http://news.google.com/news/url?sa=T\\\\u0026ct2=us\\\\u0026fd=S\\\\u0026url=http://investorplace.com/2016/04/apple-inc-aapl-stock-price-target-upped-for-services-offering/\\\\u0026cid=52779077933218\\\\u0026ei=ARQHV9HuCsStmAGt8ZL4DQ\\\\u0026usg=AFQjCNFVqUzmW9DiwPaCLkCRgquSUHdojg\"},{t:\"AAPL Stock: Is Apple Inc. a $135 Stock?\",u:\"http://www.profitconfidential.com/stock/aapl-stock-is-apple-inc-a-135-stock/\",s:\"Profit Confidential\",sp:\"AAPL Stock In case you didn\\\\u0026#39;t know, last Friday was Apple Inc.\\\\u0026#39;s (NASDAQ:AAPL) 40th birthday. The company has come a long way, but since last summer, markets haven\\\\u0026#39;t been that nice to AAPL stock.\",d:\"Apr 4, 2016\",tt:\"1459788517\",usg:\"AFQjCNEPur_Pu2jgZEYyU7L9blNWVfFNgQ\",sru:\"http://news.google.com/news/url?sa=T\\\\u0026ct2=us\\\\u0026fd=S\\\\u0026url=http://www.profitconfidential.com/stock/aapl-stock-is-apple-inc-a-135-stock/\\\\u0026cid=52779077933218\\\\u0026ei=ARQHV9HuCsStmAGt8ZL4DQ\\\\u0026usg=AFQjCNG0WvbAog2zNTY8XsyEedl8C3J9hg\"}],lead_story_doc_id:\"8224884043950500872\"},{nrel:164,idx:5,id:\"52779078377659\",lead_story_url:\"http://www.thecountrycaller.com/48171-apple-inc-aapl-could-allow-users-to-hide-iphone--ipad-stock-apps/\",a:[{t:\"Apple Inc. (AAPL) Could Allow Users To Hide iPhone \\\\u0026amp; iPad Stock Apps\",u:\"http://www.thecountrycaller.com/48171-apple-inc-aapl-could-allow-users-to-hide-iphone--ipad-stock-apps/\",s:\"Daily Caller\",sp:\"Apple CEO Tim Cook, when previously quizzed by BuzzFeed about why the company continues to persevere with the stock apps, said that removing the apps in question were holding some sort of mechanism together in the iOS.\",d:\"10 hours ago\",tt:\"1460042550\",usg:\"AFQjCNEiTQXiT25tAhvxrNM-qSryBcnCDg\",sru:\"http://news.google.com/news/url?sa=T\\\\u0026ct2=us\\\\u0026fd=S\\\\u0026url=http://www.thecountrycaller.com/48171-apple-inc-aapl-could-allow-users-to-hide-iphone--ipad-stock-apps/\\\\u0026cid=52779078377659\\\\u0026ei=ARQHV9HuCsStmAGt8ZL4DQ\\\\u0026usg=AFQjCNGvvhSXkWxOKnnD7Rwhkla2HPfUaA\"},{t:\"Android OS Share In China Gets Boost from New Year\\\\u0026#39;s Sales, iPhone Share Drops\",u:\"http://www.benzinga.com/news/16/04/7815526/android-os-share-in-china-gets-boost-from-new-years-sales-iphone-share-drops\",s:\"Benzinga\",sp:\"Guenveur continued that Apple Inc. AAPL 2.18%\\\\u0026#39;s iOS operating system failed to grow in urban China for the first time since August 2014.\",d:\"10 hours ago\",tt:\"1460043689\",usg:\"AFQjCNFcaiQLNRT8wsBX_CLnTHJMEdDSdw\",sru:\"http://news.google.com/news/url?sa=T\\\\u0026ct2=us\\\\u0026fd=S\\\\u0026url=http://www.benzinga.com/news/16/04/7815526/android-os-share-in-china-gets-boost-from-new-years-sales-iphone-share-drops\\\\u0026cid=52779078377659\\\\u0026ei=ARQHV9HuCsStmAGt8ZL4DQ\\\\u0026usg=AFQjCNH4EasQsdpHWA8bn3tS18e9RXH7ew\"}],lead_story_doc_id:\"2411883202522852637\"},{nrel:14,idx:6,id:\"52779079173833\",lead_story_url:\"http://www.thecountrycaller.com/22426-long-production-cycles-might-hurt-apple-inc-aapl-price-target-reduced-btig/\",a:[{t:\"Long production cycles might hurt Apple Inc. (AAPL), Price Target reduced &#8211; BTIG\",u:\"http://www.thecountrycaller.com/22426-long-production-cycles-might-hurt-apple-inc-aapl-price-target-reduced-btig/\",s:\"Daily Caller\",sp:\"Just when Apple Inc. (NASDAQ: AAPL) started recovering from the dismal performance seen over the past few quarters, BTIG has cut its price target on the stock from $141 to $130.\",d:\"9 hours ago\",tt:\"1460047275\",usg:\"AFQjCNFPRG2LxqNbBJBTzgkDTE76RR2rGg\",sru:\"http://news.google.com/news/url?sa=T\\\\u0026ct2=us\\\\u0026fd=S\\\\u0026url=http://www.thecountrycaller.com/22426-long-production-cycles-might-hurt-apple-inc-aapl-price-target-reduced-btig/\\\\u0026cid=52779079173833\\\\u0026ei=ARQHV9HuCsStmAGt8ZL4DQ\\\\u0026usg=AFQjCNH3j-dLyEO-LTufLm1GIKtM3kYHiw\"},{t:\"Apple Inc Slips Lower as BTIG Cautions over Sales Decline\",u:\"http://www.bidnessetc.com/66835-apple-slips-lower-btig-cautions-sales-decline/\",s:\"Bidness ETC\",sp:\"Apple Inc. (NASDAQ:AAPL) stock slipped more than 1.5% during early trading hours today, after investment firm BTIG cut the target price on it from $141 to $130.\",d:\"9 hours ago\",tt:\"1460047950\",usg:\"AFQjCNFKOqoTrm0XqF76kQUgOmgpfdupKQ\",sru:\"http://news.google.com/news/url?sa=T\\\\u0026ct2=us\\\\u0026fd=S\\\\u0026url=http://www.bidnessetc.com/66835-apple-slips-lower-btig-cautions-sales-decline/\\\\u0026cid=52779079173833\\\\u0026ei=ARQHV9HuCsStmAGt8ZL4DQ\\\\u0026usg=AFQjCNF4G-ZyJMHKcukcOY_fv97ZSgKCCQ\"},{t:\"Apple Downgraded By BTIG, Sees 4% Decline In Revenue\",u:\"http://www.benzinga.com/analyst-ratings/analyst-color/16/04/7814753/apple-downgraded-by-btig-sees-4-decline-in-revenue\",s:\"Benzinga\",sp:\"Apple Inc. (NASDAQ: AAPL) is scheduled to report its quarterly earnings on April 25. BTIG\\\\u0026#39;s Walter Piecyk maintained a Buy rating for the company, while reducing the price target from $141 to $130.\",d:\"12 hours ago\",tt:\"1460035125\",usg:\"AFQjCNFX0yHz9QoU4pShUH6y89IGUyWg1Q\",sru:\"http://news.google.com/news/url?sa=T\\\\u0026ct2=us\\\\u0026fd=S\\\\u0026url=http://www.benzinga.com/analyst-ratings/analyst-color/16/04/7814753/apple-downgraded-by-btig-sees-4-decline-in-revenue\\\\u0026cid=52779079173833\\\\u0026ei=ARQHV9HuCsStmAGt8ZL4DQ\\\\u0026usg=AFQjCNGvEXoHEyAGKIGbFNAEllsbYe-p1g\"}],lead_story_doc_id:\"14954401356673891906\"},{nrel:53,idx:7,id:\"52779079497255\",lead_story_url:\"http://marketexclusive.com/lawmakers-stand-off-proposed-encryption-bill-big-win-apple-inc-nasdaqaapl/5314/\",a:[{t:\"Lawmakers Stand off On Proposed Encryption Bill, Big Win For Apple Inc ...\",u:\"http://marketexclusive.com/lawmakers-stand-off-proposed-encryption-bill-big-win-apple-inc-nasdaqaapl/5314/\",s:\"Market Exclusive\",sp:\"Divisions are starting to emerge within the Obama administration on the use of encryption on devices. According to media reports, the White House is reluctant to offer public support to a proposed encryption bill.\",d:\"12 hours ago\",tt:\"1460035800\",usg:\"AFQjCNEC-ZIpRu-q175xR9n9TF-6aFFtUg\",sru:\"http://news.google.com/news/url?sa=T\\\\u0026ct2=us\\\\u0026fd=S\\\\u0026url=http://marketexclusive.com/lawmakers-stand-off-proposed-encryption-bill-big-win-apple-inc-nasdaqaapl/5314/\\\\u0026cid=52779079497255\\\\u0026ei=ARQHV9HuCsStmAGt8ZL4DQ\\\\u0026usg=AFQjCNGNQXmk3tc-JTqFULzDBgsVzGSCUg\"},{t:\"White House withholds support from legislation that would compel Apple ...\",u:\"http://9to5mac.com/2016/04/07/white-house-fbi-apple/\",s:\"9 to 5 Mac\",sp:\"The Senate Intelligence Committee in February announced plans to impose criminal penalties on companies that fail to comply with court orders like the one challenged by Apple and finally withdrawn by the FBI. Remarks by President Obama last month\\\\u0026nbsp;...\",d:\"15 hours ago\",tt:\"1460027295\",usg:\"AFQjCNHdQgOYdENv2WdbMMDhhm4dNoJsMA\",sru:\"http://news.google.com/news/url?sa=T\\\\u0026ct2=us\\\\u0026fd=S\\\\u0026url=http://9to5mac.com/2016/04/07/white-house-fbi-apple/\\\\u0026cid=52779079497255\\\\u0026ei=ARQHV9HuCsStmAGt8ZL4DQ\\\\u0026usg=AFQjCNHi0UX0us8hN7MT1zcydmClaLGyJg\"},{t:\"Exclusive: White House declines to support encryption legislation - sources\",u:\"http://www.reuters.com/article/us-apple-encryption-legislation-idUSKCN0X32M4\",s:\"Reuters\",sp:\"WASHINGTON The White House is declining to offer public support for draft legislation that would empower judges to require technology companies such as Apple Inc to help law enforcement crack encrypted data, sources familiar with the discussions said.\",d:\"Apr 6, 2016\",tt:\"1459976435\",usg:\"AFQjCNGlGV0ZtdesSZUkDehPSCHcXs2qKQ\",sru:\"http://news.google.com/news/url?sa=T\\\\u0026ct2=us\\\\u0026fd=S\\\\u0026url=http://www.reuters.com/article/us-apple-encryption-legislation-idUSKCN0X32M4\\\\u0026cid=52779079497255\\\\u0026ei=ARQHV9HuCsStmAGt8ZL4DQ\\\\u0026usg=AFQjCNFM2EdCIasDkwCGYiZZDd7cgOqjlA\"}],lead_story_doc_id:\"10965805348395876345\"},{nrel:1,idx:8,id:\"52779078786584\",lead_story_url:\"http://www.fool.com/investing/general/2016/04/06/what-happens-to-apple-incs-iphone-se-next-year.aspx\",a:[{t:\"What Happens to Apple, Inc.\\\\u0026#39;s iPhone SE Next Year?\",u:\"http://www.fool.com/investing/general/2016/04/06/what-happens-to-apple-incs-iphone-se-next-year.aspx\",s:\"Motley Fool\",sp:\"For many years, Apple has implemented a consistent strategy of cascading iPhone models down to successively lower price points, thereby extending the overall life cycle of each new model and streamlining development resources.\",d:\"Apr 6, 2016\",tt:\"1459981215\",usg:\"AFQjCNEnYyzR7V5LJvRgUgvRO_sPsHUsHA\",sru:\"http://news.google.com/news/url?sa=T\\\\u0026ct2=us\\\\u0026fd=S\\\\u0026url=http://www.fool.com/investing/general/2016/04/06/what-happens-to-apple-incs-iphone-se-next-year.aspx\\\\u0026cid=52779078786584\\\\u0026ei=ARQHV9HuCsStmAGt8ZL4DQ\\\\u0026usg=AFQjCNE8Yd-_wVV5VuRQdE9ih-Q0jq2BRQ\"}],lead_story_doc_id:\"17839579645976255912\"},{nrel:22,idx:9,id:\"52779079044825\",lead_story_url:\"http://investorplace.com/2016/04/thursdays-vital-data-apple-inc-aapl-facebook-inc-fb-and-tesla-motors-inc-tsla/\",a:[{t:\"Thursday\\\\u0026#39;s Vital Data: Apple Inc. (AAPL), Facebook Inc (FB) and Tesla Motors ...\",u:\"http://investorplace.com/2016/04/thursdays-vital-data-apple-inc-aapl-facebook-inc-fb-and-tesla-motors-inc-tsla/\",s:\"Investorplace.com\",sp:\"In equity options news, Apple Inc. (NASDAQ:AAPL) saw heavier than normal call option volume after Needham initiated coverage on AAPL stock with a strong buy.\",d:\"13 hours ago\",tt:\"1460033775\",usg:\"AFQjCNFtVW235XuFnmpMc-b66tVEXajErw\",sru:\"http://news.google.com/news/url?sa=T\\\\u0026ct2=us\\\\u0026fd=S\\\\u0026url=http://investorplace.com/2016/04/thursdays-vital-data-apple-inc-aapl-facebook-inc-fb-and-tesla-motors-inc-tsla/\\\\u0026cid=52779079044825\\\\u0026ei=ARQHV9HuCsStmAGt8ZL4DQ\\\\u0026usg=AFQjCNFeyZkvWygplbsGe00Y-1VoAb5p8g\"},{t:\"Southeast Asset Advisors buys $8.5 Million stake in Apple Inc (AAPL)\",u:\"http://www.losangelesmirror.net/201604/07/southeast-asset-advisors-buys-8-5-million-stake-in-apple-inc-aapl-356012/\",s:\"Los Angeles Mirror\",sp:\"Apple Inc (AAPL) : Southeast Asset Advisors scooped up 7,760 additional shares in Apple Inc during the Q4 period, according to a recent disclosure to the SEC.\",d:\"3 hours ago\",tt:\"1460070131\",usg:\"AFQjCNFAx2MYOPE5acXSZByXKmp8N4fCcA\",sru:\"http://news.google.com/news/url?sa=T\\\\u0026ct2=us\\\\u0026fd=S\\\\u0026url=http://www.losangelesmirror.net/201604/07/southeast-asset-advisors-buys-8-5-million-stake-in-apple-inc-aapl-356012/\\\\u0026cid=52779079044825\\\\u0026ei=ARQHV9HuCsStmAGt8ZL4DQ\\\\u0026usg=AFQjCNErI2F2EunYe5oGZxPtHsvTUa682g\"},{t:\"Apple Inc. (NASDAQ:AAPL) Stock is Getting Its Mojo Back &#8211; Next Target $120?\",u:\"http://learnbonds.com/128001/apple-inc-nasdaqaapl-stock-is-getting-its-mojo-back-next-target-120/\",s:\"LearnBonds\",sp:\"Apple Inc. Seems to Have Left its Worst Behind. As discussed earlier in these columns, Apple shares entered into a consolidation phase around the start of the year, after hitting a life time high of $132 in May of 2015.\",d:\"18 hours ago\",tt:\"1460015550\",usg:\"AFQjCNHsW__lhw6N_ntegWICdu4cTTvdgg\",sru:\"http://news.google.com/news/url?sa=T\\\\u0026ct2=us\\\\u0026fd=S\\\\u0026url=http://learnbonds.com/128001/apple-inc-nasdaqaapl-stock-is-getting-its-mojo-back-next-target-120/\\\\u0026cid=52779079044825\\\\u0026ei=ARQHV9HuCsStmAGt8ZL4DQ\\\\u0026usg=AFQjCNEb12WSvswB4_wBOUqiGcMds8xgNw\"}],lead_story_doc_id:\"15999819282505993632\"},{nrel:277,idx:10,id:\"52779077905723\",lead_story_url:\"http://www.valuewalk.com/2016/04/fbi-iphone-secret-senators-not-apple/\",a:[{t:\"FBI Sharing iPhone Hacking Secret With Senators But Not Apple Inc.\",u:\"http://www.valuewalk.com/2016/04/fbi-iphone-secret-senators-not-apple/\",s:\"ValueWalk\",sp:\"Apple is still in the dark about how the FBI broke into the iPhone 5c used by Syed Farook, one of the two terrorists involved in December\\\\u0026#39;s San Bernardino attack that killed 14 innocent people.\",d:\"13 hours ago\",tt:\"1460034450\",usg:\"AFQjCNFm6tJV8Nx8BHJxIZIjpK8j5YHWgw\",sru:\"http://news.google.com/news/url?sa=T\\\\u0026ct2=us\\\\u0026fd=S\\\\u0026url=http://www.valuewalk.com/2016/04/fbi-iphone-secret-senators-not-apple/\\\\u0026cid=52779077905723\\\\u0026ei=ARQHV9HuCsStmAGt8ZL4DQ\\\\u0026usg=AFQjCNFc5AgQgrtxGhNXnO4h7ns1k8A2jA\"},{t:\"FBI weighs whether to share hacking details of terrorist\\\\u0026#39;s iPhone with Apple\",u:\"http://www.japantimes.co.jp/news/2016/04/08/business/tech/fbi-weighs-whether-share-hacking-details-terrorists-iphone-apple/\",s:\"The Japan Times\",sp:\"WASHINGTON - The FBI has not decided whether to share with Apple Inc. details about how the bureau hacked into an iPhone linked to a California terrorism investigation, the bureau\\\\u0026#39;s director says.\",d:\"5 hours ago\",tt:\"1460060775\",usg:\"AFQjCNHQL29K0ux-2TRHOjqftSnvtqlYVw\",sru:\"http://news.google.com/news/url?sa=T\\\\u0026ct2=us\\\\u0026fd=S\\\\u0026url=http://www.japantimes.co.jp/news/2016/04/08/business/tech/fbi-weighs-whether-share-hacking-details-terrorists-iphone-apple/\\\\u0026cid=52779077905723\\\\u0026ei=ARQHV9HuCsStmAGt8ZL4DQ\\\\u0026usg=AFQjCNEXr23nNlsRexS3y-uhCPEned0fYg\"}],lead_story_doc_id:\"17548207964480213532\"},{nrel:43,idx:11,id:\"52779078959406\",lead_story_url:\"http://www.bidnessetc.com/66841-apple-unveil-colors-apple-watch-hermes-bands-april-19/\",a:[{t:\"Apple Inc to Unveil New Colors for Apple Watch Hermes Bands on April 19\",u:\"http://www.bidnessetc.com/66841-apple-unveil-colors-apple-watch-hermes-bands-april-19/\",s:\"Bidness ETC\",sp:\"After the debut of Apple Inc.\\\\u0026#39;s (NASDAQ:AAPL) Apple Watch, the tech giant has continued to work on potential accessories for its smartwatch to attract more users.\",d:\"8 hours ago\",tt:\"1460050650\",usg:\"AFQjCNH0bOvozfLF6WJ3HpMf6ZeEr_D2Gw\",sru:\"http://news.google.com/news/url?sa=T\\\\u0026ct2=us\\\\u0026fd=S\\\\u0026url=http://www.bidnessetc.com/66841-apple-unveil-colors-apple-watch-hermes-bands-april-19/\\\\u0026cid=52779078959406\\\\u0026ei=ARQHV9HuCsStmAGt8ZL4DQ\\\\u0026usg=AFQjCNFGw4Io36p6eC63dnyqA4QZG5ZoPQ\"}],lead_story_doc_id:\"8531306210624634486\"},{nrel:2,idx:12,id:\"52779078497511\",lead_story_url:\"http://www.fool.com/investing/general/2016/04/06/what-happens-with-apple-incs-smartwatch-now.aspx?source=yahoo-2\\\\u0026utm_campaign=article\\\\u0026utm_medium=feed\\\\u0026utm_source=yahoo-2\",a:[{t:\"What Happens With Apple Inc.\\\\u0026#39;s Watch Now?\",u:\"http://www.fool.com/investing/general/2016/04/06/what-happens-with-apple-incs-smartwatch-now.aspx?source=yahoo-2\\\\u0026utm_campaign=article\\\\u0026utm_medium=feed\\\\u0026utm_source=yahoo-2\",s:\"Motley Fool\",sp:\"At first glance, 2015 would appear to have been a banner year for Apple (NASDAQ:AAPL) and its much ballyhooed Apple Watch.\",d:\"Apr 6, 2016\",tt:\"1459966275\",usg:\"AFQjCNHkilFRrA_2TMYxj1KkasI-y8TZ4Q\",sru:\"http://news.google.com/news/url?sa=T\\\\u0026ct2=us\\\\u0026fd=S\\\\u0026url=http://www.fool.com/investing/general/2016/04/06/what-happens-with-apple-incs-smartwatch-now.aspx%3Fsource%3Dyahoo-2%26utm_campaign%3Darticle%26utm_medium%3Dfeed%26utm_source%3Dyahoo-2\\\\u0026cid=52779078497511\\\\u0026ei=ARQHV9HuCsStmAGt8ZL4DQ\\\\u0026usg=AFQjCNEVgVEYa0G2ss6utG6K6o_C6iHsZg\"}],lead_story_doc_id:\"14684775736598460710\"},{nrel:348,idx:13,id:\"52779078039058\",lead_story_url:\"http://www.thecountrycaller.com/14606-tesla-motors-inc-tsla-hires-apple-inc-aapl-os-security-expert-into-it-security-team/\",a:[{t:\"Tesla Motors, Inc. (TSLA) Hires Apple Inc (AAPL) OS Security Expert Into IT ...\",u:\"http://www.thecountrycaller.com/14606-tesla-motors-inc-tsla-hires-apple-inc-aapl-os-security-expert-into-it-security-team/\",s:\"Daily Caller\",sp:\"Since Tesla Motors Inc (NASDAQ:TSLA) introduced over-the-air (OTA) technology, it has become an attractive target for hackers.\",d:\"Apr 6, 2016\",tt:\"1459960920\",usg:\"AFQjCNGWrs6pNzruYp5l2RGbfJgqPWW6qA\",sru:\"http://news.google.com/news/url?sa=T\\\\u0026ct2=us\\\\u0026fd=S\\\\u0026url=http://www.thecountrycaller.com/14606-tesla-motors-inc-tsla-hires-apple-inc-aapl-os-security-expert-into-it-security-team/\\\\u0026cid=52779078039058\\\\u0026ei=ARQHV9HuCsStmAGt8ZL4DQ\\\\u0026usg=AFQjCNH52tHEMthbGmtvMr9g37vlsRKElw\"}],lead_story_doc_id:\"3047335231607931740\"},{nrel:541,idx:14,id:\"52779075318598\",lead_story_url:\"http://www.fool.com/investing/general/2016/04/04/report-top-apple-inc-analyst-predicts-lackluster-i.aspx?source=eptfxblnk0000004\",a:[{t:\"Report: Top Apple Inc. Analyst Predicts Lackluster iPhone 7 Sales\",u:\"http://www.fool.com/investing/general/2016/04/04/report-top-apple-inc-analyst-predicts-lackluster-i.aspx?source=eptfxblnk0000004\",s:\"Motley Fool\",sp:\"I think that the iPhone 6s/6s Plus exposed a fundamental flaw in Apple\\\\u0026#39;s product release strategy. If the company\\\\u0026#39;s annual product release is a big hit, then it can easily reap the rewards of that product for the entire fiscal year. However, if its ...\",d:\"Apr 5, 2016\",tt:\"1459815750\",usg:\"AFQjCNE4HMHz0fs0P9E2tueyJWHDSBkmiA\",sru:\"http://news.google.com/news/url?sa=T\\\\u0026ct2=us\\\\u0026fd=S\\\\u0026url=http://www.fool.com/investing/general/2016/04/04/report-top-apple-inc-analyst-predicts-lackluster-i.aspx%3Fsource%3Deptfxblnk0000004\\\\u0026cid=52779075318598\\\\u0026ei=ARQHV9HuCsStmAGt8ZL4DQ\\\\u0026usg=AFQjCNEyM9jt8Sbcl6cd3hKirb8eADawig\"},{t:\"Apple Inc. Plan To Sell Used iPhones In India Faces Challenge As Officials ...\",u:\"http://www.ibtimes.com/apple-inc-plan-sell-used-iphones-india-faces-challenge-officials-worry-about-2348021\",s:\"International Business Times\",sp:\"Apple is facing a second year of lower iPhone sales, according to well-regarded Apple analyst Ming-Chi Kuo of KGI in an investment note published Monday.\",d:\"Apr 4, 2016\",tt:\"1459784607\",usg:\"AFQjCNG5fR1J9maPkIgeOIcCzpg_cLLYHw\",sru:\"http://news.google.com/news/url?sa=T\\\\u0026ct2=us\\\\u0026fd=S\\\\u0026url=http://www.ibtimes.com/apple-inc-plan-sell-used-iphones-india-faces-challenge-officials-worry-about-2348021\\\\u0026cid=52779075318598\\\\u0026ei=ARQHV9HuCsStmAGt8ZL4DQ\\\\u0026usg=AFQjCNFntCl9uLK_XiC9wI5vvgNqnI0qEg\"},{t:\"Apple Inc. iPhone SE Sales \\\\u0026#39;Lackluster\\\\u0026#39; Over First Weekend\",u:\"http://www.valuewalk.com/2016/04/apple-iphone-se-sales-lackluster/\",s:\"ValueWalk\",sp:\"Apple seems to be keeping the first weekend sales figures of its latest release, the iPhone SE, a secret, just like it has been doing for some flagship models in the past.\",d:\"Apr 5, 2016\",tt:\"1459860300\",usg:\"AFQjCNGGTncSAu712_Q-IfZat9Xsub5yOA\",sru:\"http://news.google.com/news/url?sa=T\\\\u0026ct2=us\\\\u0026fd=S\\\\u0026url=http://www.valuewalk.com/2016/04/apple-iphone-se-sales-lackluster/\\\\u0026cid=52779075318598\\\\u0026ei=ARQHV9HuCsStmAGt8ZL4DQ\\\\u0026usg=AFQjCNEFH8j_wy7dmhpGnbHynWG5wJ8wjg\"}],lead_story_doc_id:\"1604767464395187314\"},{nrel:85,idx:15,id:\"52779078055877\",lead_story_url:\"http://www.thecountrycaller.com/74362-apple-inc-aapl-iphone-se-sales-remain-indifferent-97-inch-ipad-pro-matches-previous-ipads/\",a:[{t:\"Apple Inc. (AAPL) iPhone SE Sales Remain Indifferent; 9.7-inch iPad Pro ...\",u:\"http://www.thecountrycaller.com/74362-apple-inc-aapl-iphone-se-sales-remain-indifferent-97-inch-ipad-pro-matches-previous-ipads/\",s:\"Daily Caller\",sp:\"Apple Inc. (NASDAQ: AAPL) iPhone SE sales in the first week are not something which the company can boast about, with only 0.1% market share gained so far.\",d:\"Apr 6, 2016\",tt:\"1459955215\",usg:\"AFQjCNGkfhp4QcPAQUzT2Yis-L9nkGPmsQ\",sru:\"http://news.google.com/news/url?sa=T\\\\u0026ct2=us\\\\u0026fd=S\\\\u0026url=http://www.thecountrycaller.com/74362-apple-inc-aapl-iphone-se-sales-remain-indifferent-97-inch-ipad-pro-matches-previous-ipads/\\\\u0026cid=52779078055877\\\\u0026ei=ARQHV9HuCsStmAGt8ZL4DQ\\\\u0026usg=AFQjCNFplrY98B_0RQRJmq_awldIkRwNFQ\"},{t:\"iPad Pro has capable use 29W Charger, Wait Apple Inc. wants to sell you 29W ...\",u:\"http://www.albanydailystar.com/technology/ipad-pro-has-capable-use-29w-charger-wait-apple-inc-wants-to-sell-you-29w-charger-later-on-kansas-city-tech-part-16461.html\",s:\"Daily Star Gazette\",sp:\"Apple Inc. buried within the hardware regulatory information for the iPad Pro, it\\\\u0026#39;s revealed that the 12.9-inch tablet can use 14.5 volts at 2 amps, which is equivalent to 29 watts.\",d:\"Apr 6, 2016\",tt:\"1459959688\",usg:\"AFQjCNGHLHyArNo3PAqXDgzD5zdS_CLMUw\",sru:\"http://news.google.com/news/url?sa=T\\\\u0026ct2=us\\\\u0026fd=S\\\\u0026url=http://www.albanydailystar.com/technology/ipad-pro-has-capable-use-29w-charger-wait-apple-inc-wants-to-sell-you-29w-charger-later-on-kansas-city-tech-part-16461.html\\\\u0026cid=52779078055877\\\\u0026ei=ARQHV9HuCsStmAGt8ZL4DQ\\\\u0026usg=AFQjCNEI-_fGSeHYqJ4uSNueMr5XpMOANQ\"},{t:\"Apple (NASDAQ:AAPL): Latest Analyst\\\\u0026#39;s Estimations\",u:\"http://cwruobserver.com/2016/04/06/apple-inc-aapl-latest-analysts-estimations-2/\",s:\"CWRU Observer\",sp:\"Apple Inc. (AAPL) moved -1.18% lower at $109.81. The firm\\\\u0026#39;s stock currently has mean rating of Outperform while 18 analysts have recommended the shares as BUY, 19 recommended as OUTPERFORM and 8 recommended as HOLD.\",d:\"Apr 6, 2016\",tt:\"1459960200\",usg:\"AFQjCNHfzcrRq9Ol_Gk_dplEc-ITsnbI9g\",sru:\"http://news.google.com/news/url?sa=T\\\\u0026ct2=us\\\\u0026fd=S\\\\u0026url=http://cwruobserver.com/2016/04/06/apple-inc-aapl-latest-analysts-estimations-2/\\\\u0026cid=52779078055877\\\\u0026ei=ARQHV9HuCsStmAGt8ZL4DQ\\\\u0026usg=AFQjCNHue4u0kVgRcWSamGxRgBJ4cYCcug\"}],lead_story_doc_id:\"7723566040054589355\"},{nrel:423,idx:16,id:\"52779076175238\",lead_story_url:\"http://investorplace.com/2016/04/apple-inc-aapl-baker-hughes-incorporated-bhi-celgene-corporation-celg-3-todays-best-stocks/\",a:[{t:\"Why Apple Inc. (AAPL), Baker Hughes Incorporated (BHI) and Celgene Corporation ...\",u:\"http://investorplace.com/2016/04/apple-inc-aapl-baker-hughes-incorporated-bhi-celgene-corporation-celg-3-todays-best-stocks/\",s:\"Investorplace.com\",sp:\"Analyst commentary, takeover speculation and the possibility of another big deal being scuttled lifted Apple Inc. (NASDAQ:AAPL), Baker Hughes Incorporated (NYSE:BHI) and Celgene Corporation (NASDAQ:CELG) to best stocks of the day status.\",d:\"Apr 6, 2016\",tt:\"1459975050\",usg:\"AFQjCNFmlE19LTgLN6r4_h9xZtt8JsqtBA\",sru:\"http://news.google.com/news/url?sa=T\\\\u0026ct2=us\\\\u0026fd=S\\\\u0026url=http://investorplace.com/2016/04/apple-inc-aapl-baker-hughes-incorporated-bhi-celgene-corporation-celg-3-todays-best-stocks/\\\\u0026cid=52779076175238\\\\u0026ei=ARQHV9HuCsStmAGt8ZL4DQ\\\\u0026usg=AFQjCNEPvzPEFvhEYLNHrF6ytOOInu_u6g\"}],lead_story_doc_id:\"4838638880063942492\"},{nrel:22,idx:17,id:\"52779078305039\",lead_story_url:\"http://www.mysanantonio.com/business/fool/article/What-the-LG-G5-May-Tell-Us-About-the-Apple-Inc-7228865.php\",a:[{t:\"What the LG G5 May Tell Us About the Apple Inc. iPhone 7 Plus\",u:\"http://www.mysanantonio.com/business/fool/article/What-the-LG-G5-May-Tell-Us-About-the-Apple-Inc-7228865.php\",s:\"mySanAntonio.com\",sp:\"It is well known that Apple won\\\\u0026#39;t be switching to OLED-based displays with the iPhone 7/7 Plus phones that are set to launch this year; KGI Securities\\\\u0026#39; Ming-Chi Kuo says that the first OLED iPhone will arrive in the 2017 timeframe, complete with an all ...\",d:\"Apr 5, 2016\",tt:\"1459863000\",usg:\"AFQjCNEoQPSW2T5tsVT695_xILkSy2lTZw\",sru:\"http://news.google.com/news/url?sa=T\\\\u0026ct2=us\\\\u0026fd=S\\\\u0026url=http://www.mysanantonio.com/business/fool/article/What-the-LG-G5-May-Tell-Us-About-the-Apple-Inc-7228865.php\\\\u0026cid=52779078305039\\\\u0026ei=ARQHV9HuCsStmAGt8ZL4DQ\\\\u0026usg=AFQjCNF0o9UQCDZaaP2T74E4P7qjhlHIuQ\"}],lead_story_doc_id:\"14511936163634269473\"},{nrel:2,idx:18,id:\"52779077495597\",lead_story_url:\"http://www.fool.com/investing/general/2016/04/04/whos-building-the-a9-chips-inside-of-the-apple-inc.aspx?source=iedfolrf0000001\",a:[{t:\"Who\\\\u0026#39;s Building the A9 Chips Inside of the Apple Inc. iPhone SE?\",u:\"http://www.fool.com/investing/general/2016/04/04/whos-building-the-a9-chips-inside-of-the-apple-inc.aspx?source=iedfolrf0000001\",s:\"Motley Fool\",sp:\"Last fall, teardowns conclusively revealed that the A9 processor inside of Apple\\\\u0026#39;s (NASDAQ:AAPL) iPhone 6s and iPhone 6s Plus phones were dual sourced from Samsung (NASDAQOTH:SSNLF) and TSMC (NYSE:TSM) -- a first for the iDevice maker.\",d:\"Apr 4, 2016\",tt:\"1459809000\",usg:\"AFQjCNE21f9odXey4DVjM-cohTcb1Dawmw\",sru:\"http://news.google.com/news/url?sa=T\\\\u0026ct2=us\\\\u0026fd=S\\\\u0026url=http://www.fool.com/investing/general/2016/04/04/whos-building-the-a9-chips-inside-of-the-apple-inc.aspx%3Fsource%3Diedfolrf0000001\\\\u0026cid=52779077495597\\\\u0026ei=ARQHV9HuCsStmAGt8ZL4DQ\\\\u0026usg=AFQjCNGM0k6VbNCI2AAJk3BHVsB6hXI0xA\"}],lead_story_doc_id:\"1302399546211183719\"},{idx:19,id:\"0\",lead_story_url:\"http://www.bidnessetc.com/66827-apple-aapl-capital-return-program-a-catalyst-q2-earnings-call/\",a:[{t:\"Apple Inc (AAPL): Capital Return Program a Catalyst in Q2 Earnings Call?\",u:\"http://www.bidnessetc.com/66827-apple-aapl-capital-return-program-a-catalyst-q2-earnings-call/\",s:\"Bidness ETC\",sp:\"Since 2013, Apple Inc. (NASDAQ:AAPL) has updated its capital return program during its earnings call at the end of its second fiscal quarter each year.\",d:\"9 hours ago\",tt:\"1460046134\",usg:\"AFQjCNEONaLVw2eXI2ZkV6INxPLicdJddg\",sru:\"http://news.google.com/news/url?sa=T\\\\u0026ct2=us\\\\u0026fd=S\\\\u0026url=http://www.bidnessetc.com/66827-apple-aapl-capital-return-program-a-catalyst-q2-earnings-call/\\\\u0026cid=0\\\\u0026ei=ARQHV9HuCsStmAGt8ZL4DQ\\\\u0026usg=AFQjCNH3Zjb0shuhLIt6PnOn0-vFwLh19w\"}],lead_story_doc_id:\"14804587748654046314\"},{idx:20,id:\"0\",lead_story_url:\"http://www.thecountrycaller.com/68913-fund-manager-reveals-his-lack-of-interest-in-apple-inc-aapl-heres-why/\",a:[{t:\"Fund Manager Reveals His Lack Of Interest In Apple Inc. (AAPL); Here\\\\u0026#39;s Why\",u:\"http://www.thecountrycaller.com/68913-fund-manager-reveals-his-lack-of-interest-in-apple-inc-aapl-heres-why/\",s:\"Daily Caller\",sp:\"Andrea Poole, a global fund manager, who manages a pool of about $4 billion has displayed his lack of interest in Apple Inc. (NASDAQ:AAPL) stock. Mr. Poole, who works with the Storebrand Global Multifaktor fund, revealed that avoiding stocks of the ...\",d:\"Apr 6, 2016\",tt:\"1459967511\",usg:\"AFQjCNGCQyZcavQ_gxNkaFutOZygkjR_gQ\",sru:\"http://news.google.com/news/url?sa=T\\\\u0026ct2=us\\\\u0026fd=S\\\\u0026url=http://www.thecountrycaller.com/68913-fund-manager-reveals-his-lack-of-interest-in-apple-inc-aapl-heres-why/\\\\u0026cid=0\\\\u0026ei=ARQHV9HuCsStmAGt8ZL4DQ\\\\u0026usg=AFQjCNGfE04u0jbL42yAmdSFFXSeW56GeA\"}],lead_story_doc_id:\"18208053827553687374\"},{nrel:298,idx:21,id:\"52779076408662\",lead_story_url:\"http://investorplace.com/2016/04/hpq-hp-inc-spectre-laptop/\",a:[{t:\"HP Inc (HPQ): Should Apple Fear the Super-Thin Spectre?\",u:\"http://investorplace.com/2016/04/hpq-hp-inc-spectre-laptop/\",s:\"Investorplace.com\",sp:\"But, HPQ isn\\\\u0026#39;t on the cutting edge - or, at least not as close to it as competing tech Goliaths such as Apple Inc. (AAPL) and Alphabet Inc (GOOG, GOOGL).\",d:\"Apr 6, 2016\",tt:\"1459960200\",usg:\"AFQjCNFexjTwLrQ46DM7QJUcCf5ESdLvoQ\",sru:\"http://news.google.com/news/url?sa=T\\\\u0026ct2=us\\\\u0026fd=S\\\\u0026url=http://investorplace.com/2016/04/hpq-hp-inc-spectre-laptop/\\\\u0026cid=52779076408662\\\\u0026ei=ARQHV9HuCsStmAGt8ZL4DQ\\\\u0026usg=AFQjCNFAuIrcAyyKkYXutKNJ5VDgcgyvhg\"},{t:\"iPad Pro has capable use 29W Charger, Wait Apple Inc. wants to sell you 29W ...\",u:\"http://www.albanydailystar.com/technology/ipad-pro-has-capable-use-29w-charger-wait-apple-inc-wants-to-sell-you-29w-charger-later-on-rochester-daily-science-16461.html\",s:\"Daily Star Gazette\",sp:\"Apple Inc. buried within the hardware regulatory information for the iPad Pro, it\\\\u0026#39;s revealed that the 12.9-inch tablet can use 14.5 volts at 2 amps, which is equivalent to 29 watts.\",d:\"Apr 2, 2016\",tt:\"1459559340\",usg:\"AFQjCNGjaQCLcJn7Qb4e_9W7zZCxlHFw1Q\",sru:\"http://news.google.com/news/url?sa=T\\\\u0026ct2=us\\\\u0026fd=S\\\\u0026url=http://www.albanydailystar.com/technology/ipad-pro-has-capable-use-29w-charger-wait-apple-inc-wants-to-sell-you-29w-charger-later-on-rochester-daily-science-16461.html\\\\u0026cid=52779076408662\\\\u0026ei=ARQHV9HuCsStmAGt8ZL4DQ\\\\u0026usg=AFQjCNGGXcPyq6rc8m-3x3tcc96AXikesw\"}],lead_story_doc_id:\"1913263406473433504\"},{idx:22,id:\"0\",lead_story_url:\"http://seekingalpha.com/article/3963795-apple-china-jab-india-right-hook\",a:[{t:\"Apple: China Is The Jab, India Is The Right Hook\",u:\"http://seekingalpha.com/article/3963795-apple-china-jab-india-right-hook\",s:\"Seeking Alpha\",sp:\"As reported on Seeking Alpha in January, I believe China is the number one factor that will determine Apple\\\\u0026#39;s (NASDAQ:AAPL) success in the current (and probably in the next) year.\",d:\"11 hours ago\",tt:\"1460041200\",usg:\"AFQjCNF4bhHVOwDGvzT5yAhAK8Mws7C7tw\",sru:\"http://news.google.com/news/url?sa=T\\\\u0026ct2=us\\\\u0026fd=S\\\\u0026url=http://seekingalpha.com/article/3963795-apple-china-jab-india-right-hook\\\\u0026cid=0\\\\u0026ei=ARQHV9HuCsStmAGt8ZL4DQ\\\\u0026usg=AFQjCNH7YwtO_23j-6Dd-M6XVisYCIpjng\"}],lead_story_doc_id:\"13076907672049891627\"},{idx:23,id:\"0\",lead_story_url:\"http://www.benzinga.com/analyst-ratings/analyst-color/16/04/7815265/apple-only-top-smartphone-brand-to-have-2016-shipment-de\",a:[{t:\"Apple Only Top Smartphone Brand To Have 2016 Shipment Decline: KGI\",u:\"http://www.benzinga.com/analyst-ratings/analyst-color/16/04/7815265/apple-only-top-smartphone-brand-to-have-2016-shipment-de\",s:\"Benzinga\",sp:\"KGI\\\\u0026#39;s Angela Hsiang commented that while iPhone shipments are likely to decline in 2016, other product lines of Apple Inc. (NASDAQ: AAPL) are also unexciting, resulting in a cautious view on the stock.\",d:\"11 hours ago\",tt:\"1460039175\",usg:\"AFQjCNExmhmtA1b6ICIXV0m79jhETlSegw\",sru:\"http://news.google.com/news/url?sa=T\\\\u0026ct2=us\\\\u0026fd=S\\\\u0026url=http://www.benzinga.com/analyst-ratings/analyst-color/16/04/7815265/apple-only-top-smartphone-brand-to-have-2016-shipment-de\\\\u0026cid=0\\\\u0026ei=ARQHV9HuCsStmAGt8ZL4DQ\\\\u0026usg=AFQjCNH3hmXTlEo28V4FUe_0vQL44BJO0A\"}],lead_story_doc_id:\"4917713361711654674\"},{nrel:6,idx:24,id:\"52779079171136\",lead_story_url:\"http://www.thecountrycaller.com/60633-fitbit-incs-fit-contender-for-the-apple-inc-aapl-watch-a-smart-fitness-watch/\",a:[{t:\"Fitbit Inc\\\\u0026#39;s (FIT) Contender For The Apple Inc (AAPL) Watch: A Smart Fitness Watch\",u:\"http://www.thecountrycaller.com/60633-fitbit-incs-fit-contender-for-the-apple-inc-aapl-watch-a-smart-fitness-watch/\",s:\"Daily Caller\",sp:\"Fitbit Inc\\\\u0026#39;s (NYSE:FIT) CEO, James Park thinks that the company\\\\u0026#39;s product is superior to smart watches like Apple Watch and other similar products by Samsung. The reason is simple: companies like Apple have packed too much functionality into their ...\",d:\"11 hours ago\",tt:\"1460041200\",usg:\"AFQjCNG3IY_hK4hy972z9PNFpcr7WycCBQ\",sru:\"http://news.google.com/news/url?sa=T\\\\u0026ct2=us\\\\u0026fd=S\\\\u0026url=http://www.thecountrycaller.com/60633-fitbit-incs-fit-contender-for-the-apple-inc-aapl-watch-a-smart-fitness-watch/\\\\u0026cid=52779079171136\\\\u0026ei=ARQHV9HuCsStmAGt8ZL4DQ\\\\u0026usg=AFQjCNFliilUwNZ0fOJaOntRhJlgPX_iHA\"}],lead_story_doc_id:\"10237561912346095156\"},{idx:25,id:\"0\",lead_story_url:\"http://247wallst.com/investing/2016/04/07/top-analysts-upgrade-and-downgrades-apple-coach-emc-hewlett-packard-enterprise-pfizer-verizon-and-more/\",a:[{t:\"Top Analysts Upgrade and Downgrades: Apple, Coach, EMC, Hewlett Packard ...\",u:\"http://247wallst.com/investing/2016/04/07/top-analysts-upgrade-and-downgrades-apple-coach-emc-hewlett-packard-enterprise-pfizer-verizon-and-more/\",s:\"24/7 Wall St.\",sp:\"These are this Thursday\\\\u0026#39;s top analyst upgrades, downgrades and initiations. Apple Inc. (NASDAQ: AAPL) was maintained at Buy at BTIG research, but the price target was lowered to $130 from $141.\",d:\"13 hours ago\",tt:\"1460033100\",usg:\"AFQjCNF4ZDD78sjdgzi3coxvyABNDRFTZw\",sru:\"http://news.google.com/news/url?sa=T\\\\u0026ct2=us\\\\u0026fd=S\\\\u0026url=http://247wallst.com/investing/2016/04/07/top-analysts-upgrade-and-downgrades-apple-coach-emc-hewlett-packard-enterprise-pfizer-verizon-and-more/\\\\u0026cid=0\\\\u0026ei=ARQHV9HuCsStmAGt8ZL4DQ\\\\u0026usg=AFQjCNFctJfLjq_tvdXE2MIaS6J0ENqMtw\"}],lead_story_doc_id:\"702718545900939938\"},{idx:26,id:\"-1\"}],results_per_page:10,result_start_num:1,result_end_num:0,result_total_articles:86},related:{cols:[0,1,4,30,34,31,32,5,2,33,3],rows:[{id:\"22144\",values:[\"AAPL\",\"Apple Inc.\",\"108.54\",\"-2.42\",\"chr\",\"-2.18\",\"\",\"608.11B\",\"NASDAQ\",\"22144\",\"AAPL\"]},{id:\"658723\",values:[\"SNDK\",\"SanDisk Corporation\",\"76.32\",\"+0.45\",\"chg\",\"0.59\",\"\",\"15.43B\",\"NASDAQ\",\"658723\",\"SNDK\"]},{id:\"358464\",values:[\"MSFT\",\"Microsoft Corporation\",\"54.46\",\"-0.66\",\"chr\",\"-1.20\",\"\",\"435.16B\",\"NASDAQ\",\"358464\",\"MSFT\"]},{id:\"180086490123759\",values:[\"SSNNF\",\"SAMSUNG ELECTRONIC PFD KRW5000\",\"0.00000\",\"\",\"\",\"\",\"\",\"\",\"OTCMKTS\",\"180086490123759\",\"SSNNF\"]},{id:\"664887\",values:[\"VZ\",\"Verizon Communications Inc.\",\"51.99\",\"-1.53\",\"chr\",\"-2.86\",\"\",\"209.88B\",\"NYSE\",\"664887\",\"VZ\"]},{id:\"17154\",values:[\"HPQ\",\"HP Inc\",\"11.99\",\"-0.28\",\"chr\",\"-2.32\",\"\",\"21.28B\",\"NYSE\",\"17154\",\"HPQ\"]},{id:\"18241\",values:[\"IBM\",\"Intl. Business Machines Corp.\",\"148.21\",\"-1.81\",\"chr\",\"-1.21\",\"\",\"142.43B\",\"NYSE\",\"18241\",\"IBM\"]},{id:\"7583206\",values:[\"HTCKF\",\"HTC CORPORATION SPON GDR REP 4 ORD REG\\'S\\'\",\"9.90\",\"0.00\",\"chb\",\"0.00\",\"\",\"2.05B\",\"OTCMKTS\",\"7583206\",\"HTCKF\"]},{id:\"33095\",values:[\"SNE\",\"Sony Corp (ADR)\",\"25.30\",\"-0.54\",\"chr\",\"-2.09\",\"\",\"32.12B\",\"NYSE\",\"33095\",\"SNE\"]},{id:\"4112\",values:[\"ADBE\",\"Adobe Systems Incorporated\",\"93.78\",\"-1.62\",\"chr\",\"-1.70\",\"\",\"47.52B\",\"NASDAQ\",\"4112\",\"ADBE\"]},{id:\"655931\",values:[\"PCRFY\",\"Panasonic Corp. (ADR)\",\"7.97\",\"+0.01\",\"chg\",\"0.14\",\"\",\"19.00B\",\"OTCMKTS\",\"655931\",\"PCRFY\"]}],visible_cols:[0,1,4,30,34,31,32,5]},related_str:\"22144,658723,358464,180086490123759,664887,17154,18241,7583206,33095,4112,655931\",perf:[{u:\"/finance?q=INDEXDJX:.DJI\",name:\"Dow Jones\",cp:\"-0.98\",p:\"17,541.96\",cid:\"983582\"},{u:\"/finance?q=INDEXNASDAQ:.IXIC\",name:\"Nasdaq\",cp:\"-1.47\",p:\"4,848.37\",cid:\"13756934\"},{u:\"/finance?catid=us-TRBC:57\",name:\"Technology\",cp:\"-1.47\",cid:\"0\"},{u:\"/finance?q=NASDAQ:AAPL\",name:\"AAPL\",cp:\"-2.18\",p:\"108.54\",cid:\"22144\"}],t:\"NASDAQ:AAPL: {LAST} {CHANGE} ({CHANGE_PCT}%) - Apple Inc.\",ticker:\"NASDAQ:AAPL\",cid:\"22144\"},stickyUrlArgs:\"\\\\u0026ei=UxQHV-C7NYKymAHdh5-gCQ\",chart:{_5d:\"EXCHANGE%3DNASDAQ\\\\nMARKET_OPEN_MINUTE=570\\\\nMARKET_CLOSE_MINUTE=960\\\\nINTERVAL=120\\\\nCOLUMNS=DATE,CLOSE,VOLUME\\\\nDATA=\\\\nTIMEZONE_OFFSET=-240\\\\na1459517400,108.84,451142\\\\n1,108.69,280588\\\\n2,108.73,250331\\\\n3,108.44,271960\\\\n4,108.46,254937\\\\n5,108.39,220004\\\\n6,108.33,215954\\\\n7,108.23,163992\\\\n8,108.46,257676\\\\n9,108.5901,265197\\\\n10,108.68,207248\\\\n11,108.6463,164875\\\\n12,108.5,156070\\\\n13,108.54,310412\\\\n14,108.63,156477\\\\n15,108.67,87977\\\\n16,108.63,203148\\\\n17,108.56,123918\\\\n18,108.79,239304\\\\n19,108.84,228898\\\\n20,108.99,105019\\\\n21,109.11,257020\\\\n22,109.0984,175055\\\\n23,109.24,103136\\\\n24,109.02,202881\\\\n25,109.04,131478\\\\n26,109.04,81296\\\\n27,109.15,84900\\\\n28,109.1064,96809\\\\n29,108.975,117733\\\\n30,108.82,181603\\\\n31,108.975,75158\\\\n32,108.9801,69299\\\\n33,109.046,71636\\\\n34,109.23,142609\\\\n35,109.3,154534\\\\n36,109.33,164739\\\\n37,109.335,101768\\\\n38,109.24,240286\\\\n39,109.3,83524\\\\n40,109.305,75414\\\\n41,109.44,124281\\\\n42,109.4,123157\\\\n43,109.395,161809\\\\n44,109.45,152371\\\\n45,109.59,166588\\\\n46,109.54,199325\\\\n47,109.5057,67912\\\\n48,109.445,104726\\\\n49,109.54,173630\\\\n50,109.59,144364\\\\n51,109.58,82559\\\\n52,109.565,78389\\\\n53,109.545,100159\\\\n54,109.64,157471\\\\n55,109.63,104351\\\\n56,109.61,63271\\\\n57,109.515,94306\\\\n58,109.58,74387\\\\n59,109.65,74002\\\\n60,109.63,110413\\\\n61,109.65,55551\\\\n62,109.788,214736\\\\n63,109.94,246958\\\\n64,109.95,240779\\\\n65,109.95,130989\\\\n66,109.9255,123460\\\\n67,109.9507,123779\\\\n68,109.8469,153490\\\\n69,109.8864,93528\\\\n70,109.898,64126\\\\n71,109.77,95791\\\\n72,109.69,120923\\\\n73,109.7,104766\\\\n74,109.63,133077\\\\n75,109.54,180989\\\\n76,109.64,68793\\\\n77,109.56,56977\\\\n78,109.57,76669\\\\n79,109.64,35706\\\\n80,109.6,25378\\\\n81,109.64,79790\\\\n82,109.76,65485\\\\n83,109.665,55710\\\\n84,109.72,34562\\\\n85,109.6299,40106\\\\n86,109.58,93177\\\\n87,109.55,52230\\\\n88,109.635,54173\\\\n89,109.69,38927\\\\n90,109.58,31440\\\\n91,109.51,80453\\\\n92,109.55,59792\\\\n93,109.5401,34299\\\\n94,109.665,69469\\\\n95,109.62,21617\\\\n96,109.64,56925\\\\n97,109.5735,22143\\\\n98,109.58,48110\\\\n99,109.6,25123\\\\n100,109.59,44397\\\\n101,109.61,72084\\\\n102,109.61,51858\\\\n103,109.62,17600\\\\n104,109.68,41050\\\\n105,109.59,19221\\\\n106,109.6031,50683\\\\n107,109.62,29725\\\\n108,109.6563,20706\\\\n109,109.6499,41152\\\\n110,109.6685,43335\\\\n111,109.6955,45753\\\\n112,109.7889,52057\\\\n113,109.79,58346\\\\n114,109.768,46444\\\\n115,109.7922,41224\\\\n116,109.84,39809\\\\n117,109.8,50641\\\\n118,109.75,49513\\\\n119,109.74,6410\\\\n120,109.77,18991\\\\n121,109.72,36180\\\\n122,109.71,44678\\\\n123,109.6,38815\\\\n124,109.538,161526\\\\n125,109.66,77121\\\\n126,109.6308,37602\\\\n127,109.71,41399\\\\n128,109.61,48727\\\\n129,109.56,48796\\\\n130,109.616,57760\\\\n131,109.68,60716\\\\n132,109.645,53550\\\\n133,109.603,51256\\\\n134,109.5889,46584\\\\n135,109.685,76144\\\\n136,109.6599,57921\\\\n137,109.73,47589\\\\n138,109.73,80011\\\\n139,109.76,44164\\\\n140,109.785,74109\\\\n141,109.77,60953\\\\n142,109.74,69173\\\\n143,109.805,89919\\\\n144,109.71,59278\\\\n145,109.6461,44906\\\\n146,109.6165,58535\\\\n147,109.65,48915\\\\n148,109.62,66688\\\\n149,109.55,46279\\\\n150,109.61,67227\\\\n151,109.6,42364\\\\n152,109.61,40512\\\\n153,109.62,76815\\\\n154,109.67,109804\\\\n155,109.7125,27435\\\\n156,109.7364,58485\\\\n157,109.69,51725\\\\n158,109.71,56234\\\\n159,109.68,54779\\\\n160,109.76,67179\\\\n161,109.77,70118\\\\n162,109.7,94658\\\\n163,109.7337,31366\\\\n164,109.6801,33483\\\\n165,109.7,33014\\\\n166,109.76,56343\\\\n167,109.73,57624\\\\n168,109.71,44676\\\\n169,109.651,59296\\\\n170,109.7,50433\\\\n171,109.7,33935\\\\n172,109.65,111565\\\\n173,109.65,82843\\\\n174,109.6399,61932\\\\n175,109.605,84402\\\\n176,109.61,37945\\\\n177,109.5836,72805\\\\n178,109.58,115044\\\\n179,109.61,87470\\\\n180,109.7,111390\\\\n181,109.7407,114786\\\\n182,109.735,153216\\\\n183,109.77,116573\\\\n184,109.8,84931\\\\n185,109.795,112366\\\\n186,109.71,86602\\\\n187,109.73,109379\\\\n188,109.77,90118\\\\n189,109.887,253976\\\\n190,109.97,271565\\\\n191,109.88,208582\\\\n192,109.86,179975\\\\n193,109.9,245608\\\\n194,109.92,251961\\\\n195,109.99,3014662\\\\na1459776600,110.4399,456609\\\\n1,110.5321,408924\\\\n2,110.83,390706\\\\n3,110.989,563432\\\\n4,110.691,312815\\\\n5,110.68,370751\\\\n6,110.7799,324143\\\\n7,110.79,146566\\\\n8,110.94,295671\\\\n9,111.14,463359\\\\n10,110.8401,284908\\\\n11,110.767,312744\\\\n12,111.05,283717\\\\n13,111.19,255185\\\\n14,111.331,638699\\\\n15,111.74,519735\\\\n16,111.83,704279\\\\n17,111.62,423665\\\\n18,111.72,323773\\\\n19,111.705,229342\\\\n20,111.69,377366\\\\n21,111.5737,201986\\\\n22,111.56,300209\\\\n23,111.56,249097\\\\n24,111.48,132165\\\\n25,111.61,266904\\\\n26,111.6835,237900\\\\n27,111.75,220309\\\\n28,111.9434,249013\\\\n29,111.975,202468\\\\n30,112.0444,658602\\\\n31,112.05,245627\\\\n32,112.0501,306692\\\\n33,112.1056,255760\\\\n34,111.825,218286\\\\n35,111.77,214540\\\\n36,111.8035,199980\\\\n37,111.78,140061\\\\n38,111.68,152156\\\\n39,111.6199,144607\\\\n40,111.66,163581\\\\n41,111.6437,124909\\\\n42,111.56,179836\\\\n43,111.54,205360\\\\n44,111.46,195425\\\\n45,111.4601,128352\\\\n46,111.44,174703\\\\n47,111.38,169637\\\\n48,111.38,195209\\\\n49,111.3467,176172\\\\n50,111.54,290635\\\\n51,111.46,134406\\\\n52,111.365,157552\\\\n53,111.16,199440\\\\n54,111.235,129046\\\\n55,111.3118,162649\\\\n56,111.28,162828\\\\n57,111.29,117599\\\\n58,111.21,105288\\\\n59,111.14,152300\\\\n60,111.1501,143294\\\\n61,111.24,101454\\\\n62,111.385,97509\\\\n63,111.435,171034\\\\n64,111.4027,112678\\\\n65,111.44,90495\\\\n66,111.48,72601\\\\n67,111.43,87815\\\\n68,111.479,81345\\\\n69,111.47,149959\\\\n70,111.4492,90071\\\\n71,111.56,133708\\\\n72,111.54,83753\\\\n73,111.52,123608\\\\n74,111.6004,97573\\\\n75,111.58,91285\\\\n76,111.57,125271\\\\n77,111.61,108569\\\\n78,111.68,121650\\\\n79,111.71,179347\\\\n80,111.7,155425\\\\n81,111.73,49876\\\\n82,111.73,105353\\\\n83,111.81,165475\\\\n84,111.79,92448\\\\n85,111.7838,75408\\\\n86,111.815,87584\\\\n87,111.805,56541\\\\n88,111.805,59443\\\\n89,111.7203,71702\\\\n90,111.61,107647\\\\n91,111.68,53575\\\\n92,111.675,49783\\\\n93,111.67,74169\\\\n94,111.71,99657\\\\n95,111.69,98426\\\\n96,111.75,92930\\\\n97,111.7262,93095\\\\n98,111.71,88948\\\\n99,111.725,67119\\\\n100,111.7369,43043\\\\n101,111.75,91246\\\\n102,111.88,143145\\\\n103,111.93,132443\\\\n104,111.9697,144566\\\\n105,111.965,95876\\\\n106,111.865,108359\\\\n107,111.84,106506\\\\n108,111.87,98633\\\\n109,111.79,60995\\\\n110,111.76,48831\\\\n111,111.74,63968\\\\n112,111.82,171936\\\\n113,111.81,110203\\\\n114,111.7161,106041\\\\n115,111.7199,108495\\\\n116,111.72,108965\\\\n117,111.78,118258\\\\n118,111.7144,75208\\\\n119,111.7401,84394\\\\n120,111.74,67841\\\\n121,111.74,73150\\\\n122,111.7,57189\\\\n123,111.64,120723\\\\n124,111.65,130329\\\\n125,111.71,80258\\\\n126,111.62,238168\\\\n127,111.5811,57765\\\\n128,111.64,199557\\\\n129,111.662,87865\\\\n130,111.61,126677\\\\n131,111.63,65307\\\\n132,111.61,72568\\\\n133,111.55,72589\\\\n134,111.5601,91158\\\\n135,111.43,276256\\\\n136,111.43,147673\\\\n137,111.37,149000\\\\n138,111.33,66297\\\\n139,111.3855,106482\\\\n140,111.2899,92177\\\\n141,111.23,106578\\\\n142,111.3538,109733\\\\n143,111.2844,84123\\\\n144,111.16,180467\\\\n145,111.2799,97070\\\\n146,111.2936,42165\\\\n147,111.18,65777\\\\n148,111.2,61395\\\\n149,111.2992,66934\\\\n150,111.39,153231\\\\n151,111.36,117374\\\\n152,111.365,134059\\\\n153,111.44,99480\\\\n154,111.408,135098\\\\n155,111.36,70765\\\\n156,111.505,141842\\\\n157,111.5,113829\\\\n158,111.49,130703\\\\n159,111.4999,151747\\\\n160,111.49,81705\\\\n161,111.49,85900\\\\n162,111.37,105345\\\\n163,111.34,62747\\\\n164,111.33,82648\\\\n165,111.2926,93504\\\\n166,111.3724,173952\\\\n167,111.3201,146128\\\\n168,111.2969,99833\\\\n169,111.28,80296\\\\n170,111.237,123605\\\\n171,111.24,100986\\\\n172,111.235,46808\\\\n173,111.3038,76811\\\\n174,111.2801,103368\\\\n175,111.28,74781\\\\n176,111.115,176286\\\\n177,111.13,84126\\\\n178,111.12,143936\\\\n179,111,301225\\\\n180,111.06,118106\\\\n181,111.2759,188737\\\\n182,111.2,137437\\\\n183,111.305,166141\\\\n184,111.28,152022\\\\n185,111.171,103086\\\\n186,111.21,109597\\\\n187,111.1459,147119\\\\n188,111.1501,147063\\\\n189,111.09,146438\\\\n190,111.05,183245\\\\n191,111.12,187760\\\\n192,111.13,222180\\\\n193,111.12,262644\\\\n194,111.12,279365\\\\n195,111.12,2218465\\\\n720,109.62,388089\\\\n721,110.265,526163\\\\n722,110.0101,260068\\\\n723,110.17,295943\\\\n724,110.31,269068\\\\n725,110.09,259474\\\\n726,109.8799,297679\\\\n727,109.995,182742\\\\n728,109.822,12969\\\\n729,109.68,295557\\\\n730,109.71,209668\\\\n731,109.79,183409\\\\n732,109.71,141688\\\\n733,109.73,175340\\\\n734,109.54,278171\\\\n735,109.799,182758\\\\n736,109.9,308012\\\\n737,109.9,127122\\\\n738,110.087,239525\\\\n739,110.25,262358\\\\n740,110.3301,212521\\\\n741,110.16,194023\\\\n742,110.29,130396\\\\n743,110.23,145045\\\\n744,110.275,88068\\\\n745,110.37,200923\\\\n746,110.27,104698\\\\n747,110.26,116542\\\\n748,110.1901,103421\\\\n749,110.33,105744\\\\n750,110.542,174742\\\\n751,110.6012,141270\\\\n752,110.66,177444\\\\n753,110.602,149387\\\\n754,110.46,139941\\\\n755,110.39,156132\\\\n756,110.34,139466\\\\n757,110.395,98374\\\\n758,110.317,158218\\\\n759,110.44,168651\\\\n760,110.62,137816\\\\n761,110.56,153573\\\\n762,110.565,143980\\\\n763,110.46,99422\\\\n764,110.41,120066\\\\n765,110.31,81439\\\\n766,110.26,174393\\\\n767,110.32,148762\\\\n768,110.345,113078\\\\n769,110.355,68062\\\\n770,110.3,68771\\\\n771,110.315,127354\\\\n772,110.27,102267\\\\n773,110.3099,57436\\\\n774,110.25,98448\\\\n775,110.23,96459\\\\n776,110.3834,227842\\\\n777,110.2759,72190\\\\n778,110.24,90090\\\\n779,110.1659,87895\\\\n780,110.15,115136\\\\n781,110.18,149021\\\\n782,110.17,76441\\\\n783,110.11,108967\\\\n784,110.09,114498\\\\n785,110.17,75648\\\\n786,110.1505,65319\\\\n787,110.08,54009\\\\n788,110.07,80812\\\\n789,110.0055,131709\\\\n790,110.021,89805\\\\n791,109.94,138114\\\\n792,109.917,151168\\\\n793,109.966,73504\\\\n794,109.88,116643\\\\n795,109.97,111218\\\\n796,110.09,155056\\\\n797,110.12,78317\\\\n798,110.145,48732\\\\n799,110.16,46541\\\\n800,110.135,40173\\\\n801,109.99,70114\\\\n802,110.02,54066\\\\n803,109.935,58625\\\\n804,109.81,110702\\\\n805,109.795,117051\\\\n806,109.8189,75884\\\\n807,109.8288,85265\\\\n808,109.7908,58044\\\\n809,109.78,48637\\\\n810,109.72,91987\\\\n811,109.7244,65087\\\\n812,109.68,61500\\\\n813,109.73,93733\\\\n814,109.85,80199\\\\n815,109.9166,92406\\\\n816,109.875,58722\\\\n817,109.8339,37621\\\\n818,109.865,36187\\\\n819,109.8401,36490\\\\n820,109.79,67559\\\\n821,109.765,119249\\\\n822,109.795,50203\\\\n823,109.78,58513\\\\n824,109.9,106169\\\\n825,109.969,176780\\\\n826,109.94,89266\\\\n827,109.9,144299\\\\n828,109.8291,72990\\\\n829,109.8199,43828\\\\n830,109.71,74101\\\\n831,109.82,61452\\\\n832,109.81,95480\\\\n833,109.8876,111693\\\\n834,109.9,50529\\\\n835,109.8735,97061\\\\n836,109.8965,61511\\\\n837,109.91,53264\\\\n838,109.835,84561\\\\n839,109.86,84240\\\\n840,109.9,58212\\\\n841,109.9,71192\\\\n842,109.899,98373\\\\n843,109.94,67077\\\\n844,109.9,118313\\\\n845,109.915,77213\\\\n846,109.9,101381\\\\n847,109.93,69450\\\\n848,109.9509,73943\\\\n849,109.9551,103382\\\\n850,109.97,64588\\\\n851,110.18,199287\\\\n852,110.1804,174019\\\\n853,110.15,68160\\\\n854,110.15,50115\\\\n855,110.15,40794\\\\n856,110.155,61077\\\\n857,110.149,77405\\\\n858,110.14,65288\\\\n859,110.085,90200\\\\n860,110.1389,34400\\\\n861,110.055,105137\\\\n862,110.025,81948\\\\n863,109.965,54718\\\\n864,110,55305\\\\n865,110.06,128360\\\\n866,110.01,63179\\\\n867,110.08,117083\\\\n868,110.1,70952\\\\n869,110.07,59341\\\\n870,110.16,113529\\\\n871,110.206,66823\\\\n872,110.1699,83819\\\\n873,110.125,77727\\\\n874,110.17,57800\\\\n875,110.1968,53730\\\\n876,110.3,72990\\\\n877,110.1759,50548\\\\n878,110.15,52325\\\\n879,110.15,51445\\\\n880,110.13,60436\\\\n881,110.2,117769\\\\n882,110.19,67075\\\\n883,110.25,80198\\\\n884,110.255,71792\\\\n885,110.225,83317\\\\n886,110.15,79453\\\\n887,110.18,53335\\\\n888,110.24,83312\\\\n889,110.145,119394\\\\n890,110.17,46716\\\\n891,110.075,104694\\\\n892,110.06,64492\\\\n893,110.02,95142\\\\n894,110.045,45476\\\\n895,110.075,41760\\\\n896,109.98,126452\\\\n897,109.96,79643\\\\n898,109.98,103756\\\\n899,109.98,111063\\\\n900,109.94,65764\\\\n901,109.94,87978\\\\n902,109.9399,88077\\\\n903,109.95,71515\\\\n904,110.03,78615\\\\n905,109.92,81480\\\\n906,109.89,83210\\\\n907,109.855,58069\\\\n908,109.9,94335\\\\n909,109.905,113015\\\\n910,109.864,61622\\\\n911,109.88,154399\\\\n912,109.74,209331\\\\n913,109.71,238847\\\\n914,109.6,333010\\\\n915,109.81,1409396\\\\na1459949400,110.22,374590\\\\n1,110.38,279027\\\\n2,110.17,299492\\\\n3,110.16,180317\\\\n4,109.81,295601\\\\n5,109.9,283458\\\\n6,110.01,162910\\\\n7,110,267849\\\\n8,109.83,166886\\\\n9,109.9736,218175\\\\n10,109.982,221331\\\\n11,109.97,222838\\\\n12,109.8783,241134\\\\n13,109.9,207978\\\\n14,109.91,163494\\\\n15,109.87,193971\\\\n16,110.02,175898\\\\n17,109.966,139238\\\\n18,109.9092,123186\\\\n19,109.859,130760\\\\n20,109.8192,131221\\\\n21,109.73,223767\\\\n22,109.73,104623\\\\n23,109.775,169927\\\\n24,109.725,122721\\\\n25,109.585,167603\\\\n26,109.5591,252459\\\\n27,109.4599,325564\\\\n28,109.32,237085\\\\n29,109.36,136273\\\\n30,109.2975,436597\\\\n31,109.33,235939\\\\n32,109.44,249866\\\\n33,109.54,149373\\\\n34,109.61,148195\\\\n35,109.5573,165815\\\\n36,109.68,132043\\\\n37,109.76,92750\\\\n38,109.751,97426\\\\n39,109.83,113693\\\\n40,109.75,183507\\\\n41,109.705,108961\\\\n42,109.69,87548\\\\n43,109.81,79215\\\\n44,109.81,103708\\\\n45,109.9,154902\\\\n46,109.89,91214\\\\n47,109.82,114957\\\\n48,109.87,96972\\\\n49,109.88,110212\\\\n50,109.93,103079\\\\n51,110.04,354486\\\\n52,110.1,128120\\\\n53,110.14,191514\\\\n54,110.0701,90577\\\\n55,110.065,57954\\\\n56,110.1,76227\\\\n57,109.985,114442\\\\n58,110.07,46204\\\\n59,110.071,48358\\\\n60,110.1,107388\\\\n61,110.1562,87757\\\\n62,110.071,72734\\\\n63,109.99,140949\\\\n64,109.975,125090\\\\n65,109.9625,104417\\\\n66,110.0889,71595\\\\n67,110.09,122887\\\\n68,110.1,74444\\\\n69,110.09,69476\\\\n70,110.077,117633\\\\n71,110.1,60309\\\\n72,110.16,115484\\\\n73,110.2,153683\\\\n74,110.2199,101121\\\\n75,110.2,65539\\\\n76,110.25,77940\\\\n77,110.17,53977\\\\n78,110.23,49132\\\\n79,110.17,46938\\\\n80,110.24,46391\\\\n81,110.17,109546\\\\n82,110.24,43304\\\\n83,110.23,43825\\\\n84,110.2,39403\\\\n85,110.2764,60270\\\\n86,110.375,110611\\\\n87,110.3562,169785\\\\n88,110.405,68050\\\\n89,110.33,70240\\\\n90,110.35,41027\\\\n91,110.33,47425\\\\n92,110.265,104141\\\\n93,110.268,77669\\\\n94,110.28,43796\\\\n95,110.32,75280\\\\n96,110.3145,37573\\\\n97,110.29,60497\\\\n98,110.3,82096\\\\n99,110.3,29524\\\\n100,110.2801,62023\\\\n101,110.33,25384\\\\n102,110.3101,34446\\\\n103,110.27,36566\\\\n104,110.21,60569\\\\n105,110.17,68761\\\\n106,110.2337,86003\\\\n107,110.21,71802\\\\n108,110.25,25484\\\\n109,110.2199,46763\\\\n110,110.275,105723\\\\n111,110.38,99330\\\\n112,110.345,45698\\\\n113,110.335,36896\\\\n114,110.26,71400\\\\n115,110.165,60335\\\\n116,110.165,68672\\\\n117,110.075,132363\\\\n118,110.105,51519\\\\n119,110.11,59475\\\\n120,110.15,32498\\\\n121,110.21,73605\\\\n122,110.203,64667\\\\n123,110.155,28656\\\\n124,110.1228,57970\\\\n125,110.12,44229\\\\n126,110.08,50601\\\\n127,110.13,50396\\\\n128,110.12,37096\\\\n129,110.1,33229\\\\n130,110.035,65133\\\\n131,110.07,44335\\\\n132,110.111,20279\\\\n133,110.0899,37223\\\\n134,110.07,42243\\\\n135,110.0891,64274\\\\n136,110.04,195926\\\\n137,110.08,126655\\\\n138,110.08,90392\\\\n139,110.125,118156\\\\n140,110.0299,91674\\\\n141,109.955,139119\\\\n142,110.0223,52156\\\\n143,110,42140\\\\n144,110.07,65242\\\\n145,110.04,79423\\\\n146,110.04,45560\\\\n147,110.01,80635\\\\n148,109.99,46027\\\\n149,109.919,105889\\\\n150,109.96,54056\\\\n151,110.01,75327\\\\n152,110.01,44608\\\\n153,109.89,63818\\\\n154,109.871,78138\\\\n155,109.94,44059\\\\n156,109.98,46196\\\\n157,109.97,50487\\\\n158,109.9101,100200\\\\n159,109.92,33763\\\\n160,109.96,34859\\\\n161,109.9201,65517\\\\n162,109.92,61230\\\\n163,110.0499,53539\\\\n164,110.0301,79862\\\\n165,110.08,74327\\\\n166,110.11,88262\\\\n167,110.1201,40920\\\\n168,110.259,191685\\\\n169,110.28,96614\\\\n170,110.289,71554\\\\n171,110.24,72917\\\\n172,110.25,106791\\\\n173,110.22,75943\\\\n174,110.29,76455\\\\n175,110.41,203556\\\\n176,110.346,112690\\\\n177,110.39,59253\\\\n178,110.38,53922\\\\n179,110.405,74262\\\\n180,110.4117,91924\\\\n181,110.489,155739\\\\n182,110.4831,116511\\\\n183,110.49,143344\\\\n184,110.46,68811\\\\n185,110.39,100131\\\\n186,110.46,102551\\\\n187,110.48,114087\\\\n188,110.57,215692\\\\n189,110.63,260762\\\\n190,110.69,181262\\\\n191,110.64,181222\\\\n192,110.77,176806\\\\n193,110.875,276157\\\\n194,110.92,407443\\\\n195,110.96,1703182\\\\n720,110.05,281703\\\\n721,109.96,347044\\\\n722,109.792,449024\\\\n723,110.06,407587\\\\n724,109.91,432003\\\\n725,109.82,465270\\\\n726,109.9,261876\\\\n727,109.9601,210052\\\\n728,109.82,250480\\\\n729,109.64,290942\\\\n730,109.67,261338\\\\n731,109.68,142932\\\\n732,109.67,156931\\\\n733,109.876,177140\\\\n734,109.92,156211\\\\n735,109.94,177525\\\\n736,110.0401,211319\\\\n737,110.1,176603\\\\n738,110.04,119562\\\\n739,110.08,190813\\\\n740,110.04,73352\\\\n741,109.9145,146717\\\\n742,109.88,82521\\\\n743,109.79,199431\\\\n744,109.71,134405\\\\n745,109.76,103608\\\\n746,109.68,78994\\\\n747,109.63,114686\\\\n748,109.65,131365\\\\n749,109.555,153618\\\\n750,109.54,145403\\\\n751,109.625,328257\\\\n752,109.755,157209\\\\n753,109.69,69380\\\\n754,109.665,100458\\\\n755,109.56,79988\\\\n756,109.605,81455\\\\n757,109.57,101571\\\\n758,109.565,141181\\\\n759,109.665,104998\\\\n760,109.7,78884\\\\n761,109.59,58291\\\\n762,109.55,92761\\\\n763,109.45,196635\\\\n764,109.42,94577\\\\n765,109.36,165427\\\\n766,109.26,223915\\\\n767,109.2563,163676\\\\n768,109.184,137944\\\\n769,109.13,133318\\\\n770,109.14,97792\\\\n771,109.1175,114257\\\\n772,109.149,81885\\\\n773,109.075,325437\\\\n774,109.29,151804\\\\n775,109.23,68980\\\\n776,109.0884,148430\\\\n777,109.1683,98096\\\\n778,109.09,84927\\\\n779,109.2288,80250\\\\n780,109.32,110162\\\\n781,109.45,150814\\\\n782,109.4005,97389\\\\n783,109.46,75239\\\\n784,109.35,66301\\\\n785,109.3841,45126\\\\n786,109.41,51026\\\\n787,109.4985,107980\\\\n788,109.4168,71302\\\\n789,109.42,34982\\\\n790,109.3925,45170\\\\n791,109.44,74744\\\\n792,109.37,46522\\\\n793,109.375,57524\\\\n794,109.33,54272\\\\n795,109.37,88533\\\\n796,109.3,101724\\\\n797,109.36,105406\\\\n798,109.3,74529\\\\n799,109.4198,118371\\\\n800,109.5211,148795\\\\n801,109.6569,192557\\\\n802,109.71,214821\\\\n803,109.65,129732\\\\n804,109.54,80773\\\\n805,109.4499,141861\\\\n806,109.49,82622\\\\n807,109.49,61902\\\\n808,109.42,110682\\\\n809,109.54,54282\\\\n810,109.61,43649\\\\n811,109.6,56298\\\\n812,109.5899,66011\\\\n813,109.52,53633\\\\n814,109.45,48268\\\\n815,109.54,45402\\\\n816,109.55,34094\\\\n817,109.49,42356\\\\n818,109.42,38944\\\\n819,109.47,46130\\\\n820,109.48,26741\\\\n821,109.4301,59274\\\\n822,109.4545,35738\\\\n823,109.427,31777\\\\n824,109.494,47433\\\\n825,109.475,56920\\\\n826,109.49,68183\\\\n827,109.47,52228\\\\n828,109.5,18958\\\\n829,109.48,47721\\\\n830,109.467,28535\\\\n831,109.51,66319\\\\n832,109.52,94897\\\\n833,109.54,47558\\\\n834,109.51,52933\\\\n835,109.5,44900\\\\n836,109.51,45403\\\\n837,109.46,42775\\\\n838,109.4701,16100\\\\n839,109.465,42955\\\\n840,109.46,59604\\\\n841,109.5,75034\\\\n842,109.359,137228\\\\n843,109.32,122980\\\\n844,109.286,62472\\\\n845,109.2637,109810\\\\n846,109.246,88076\\\\n847,109.3725,72946\\\\n848,109.31,58485\\\\n849,109.2199,104118\\\\n850,109.19,77085\\\\n851,109.15,73224\\\\n852,109.095,104614\\\\n853,108.975,434611\\\\n854,109.05,127351\\\\n855,108.96,104232\\\\n856,108.846,179769\\\\n857,108.851,101708\\\\n858,108.835,123791\\\\n859,108.809,92273\\\\n860,108.739,242030\\\\n861,108.77,99381\\\\n862,108.82,81879\\\\n863,108.7868,87719\\\\n864,108.73,79251\\\\n865,108.66,125918\\\\n866,108.735,99835\\\\n867,108.745,78816\\\\n868,108.6996,87442\\\\n869,108.65,111477\\\\n870,108.7,153101\\\\n871,108.63,143145\\\\n872,108.64,112301\\\\n873,108.71,102048\\\\n874,108.793,115985\\\\n875,108.77,122694\\\\n876,108.7,101448\\\\n877,108.7,107948\\\\n878,108.645,118172\\\\n879,108.62,97921\\\\n880,108.623,52550\\\\n881,108.6,72059\\\\n882,108.56,179693\\\\n883,108.525,121329\\\\n884,108.45,558593\\\\n885,108.38,122151\\\\n886,108.45,287321\\\\n887,108.442,138882\\\\n888,108.61,111688\\\\n889,108.55,162461\\\\n890,108.6099,87306\\\\n891,108.5892,113574\\\\n892,108.5868,119540\\\\n893,108.46,185558\\\\n894,108.33,155930\\\\n895,108.2,211685\\\\n896,108.26,150426\\\\n897,108.43,156641\\\\n898,108.54,151784\\\\n899,108.39,137075\\\\n900,108.5,116037\\\\n901,108.57,154472\\\\n902,108.75,187145\\\\n903,108.715,201181\\\\n904,108.445,196945\\\\n905,108.45,130817\\\\n906,108.475,138869\\\\n907,108.4616,109583\\\\n908,108.51,193816\\\\n909,108.57,185391\\\\n910,108.5983,137226\\\\n911,108.36,213331\\\\n912,108.4388,189421\\\\n913,108.485,213903\\\\n914,108.45,331530\\\\n915,108.54,1714305\\\\n\",_5Y:\"EXCHANGE%3DNASDAQ\\\\nMARKET_OPEN_MINUTE=570\\\\nMARKET_CLOSE_MINUTE=960\\\\nINTERVAL=604800\\\\nCOLUMNS=DATE,CLOSE,VOLUME,CDAYS\\\\nDATA=\\\\nTIMEZONE_OFFSET=-240\\\\na1302292800,47.87,524140869,5\\\\n1,46.78,481979309,5\\\\na1303416000,50.099,620932130,5\\\\na1304107200,50.02,581972874,5\\\\n1,49.52,440507361,5\\\\n2,48.64,367516352,5\\\\n3,47.889,459264316,5\\\\n4,48.2,356289948,5\\\\n5,49.063,406186613,4\\\\n6,46.56,508819913,5\\\\n7,45.75,547427881,5\\\\n8,46.621,631070790,5\\\\n9,49.04,436379510,5\\\\n10,51.39,422371817,4\\\\n11,52.13,550274676,5\\\\n12,56.19,844086600,5\\\\n13,55.78,738078572,5\\\\n14,53.37,1106294315,5\\\\n15,53.86,1093993719,5\\\\n16,50.86,757201368,5\\\\n17,54.8,832795530,5\\\\n18,53.44,532204526,5\\\\n19,53.93,460376791,4\\\\n20,57.214,639900065,5\\\\n21,57.7571,930136571,5\\\\n22,54.47,768706785,5\\\\n23,52.83,1009354472,5\\\\n24,60.29,667507239,5\\\\n25,56.12,960601691,5\\\\n26,57.85,551737291,5\\\\n27,57.18,497354914,5\\\\nTIMEZONE_OFFSET=-300\\\\na1321045200,54.95,657037857,5\\\\n1,53.5629,516361244,5\\\\na1322244000,51.94,385225176,4\\\\na1322859600,55.6714,473798542,5\\\\n1,56.2314,404917905,5\\\\n2,54.43,431345775,5\\\\n3,57.62,326960396,5\\\\n4,57.86,222505591,4\\\\n5,60.34,288039024,4\\\\n6,59.9729,326606273,5\\\\n7,60.043,298848515,4\\\\n8,63.9,609019936,5\\\\n9,65.67,378736176,5\\\\n10,70.489,622323716,5\\\\n11,71.73,991397253,5\\\\n12,74.63,518046424,4\\\\n13,77.88,803732937,5\\\\n14,77.881,838304838,5\\\\nTIMEZONE_OFFSET=-240\\\\na1331928000,83.653,1125532072,5\\\\n1,85.15,854140910,5\\\\n2,85.65,799400056,5\\\\na1333656000,90.53,661788771,5\\\\na1334347200,86.46,914452497,5\\\\n1,81.85,1224122172,5\\\\n2,86.14,972865761,5\\\\n3,80.75,616325045,5\\\\n4,80.96,542765944,5\\\\n5,75.77,709833831,5\\\\n6,80.33,683859967,5\\\\n7,80.14,480704252,4\\\\n8,82.903,518528801,5\\\\n9,82.02,500427550,5\\\\n10,83.16,443055935,5\\\\n11,83.43,372161503,5\\\\n12,86.55,386303218,4\\\\n13,86.42,525070609,5\\\\n14,86.33,420536284,5\\\\n15,83.59,685307028,5\\\\n16,87.96,475782195,5\\\\n17,88.81,313601211,5\\\\n18,92.59,393510663,5\\\\n19,94.746,712216267,5\\\\n20,95.03,384526408,5\\\\n21,97.21,356324913,4\\\\n22,98.75,725746182,5\\\\n23,100.014,501637178,5\\\\n24,95.301,716101659,5\\\\n25,93.23,640153199,5\\\\n26,89.959,748256446,5\\\\n27,87.12,648071949,5\\\\n28,86.29,871787588,5\\\\n29,82.4,367705457,4\\\\nTIMEZONE_OFFSET=-300\\\\na1352494800,78.151,920975286,5\\\\n1,75.3826,895745214,5\\\\na1353693600,81.6429,527994159,4\\\\na1354309200,83.61,647737377,5\\\\n1,76.18,982954427,5\\\\n2,72.828,836198734,5\\\\n3,74.19,728044821,5\\\\n4,72.7985,321894930,4\\\\n5,75.29,541820461,5\\\\n6,74.33,575588923,5\\\\n7,71.43,807137219,5\\\\n8,62.84,997968482,5\\\\n9,64.803,658135569,5\\\\n10,67.85,745475360,5\\\\n11,65.74,587280127,5\\\\n12,64.4,422477923,5\\\\n13,61.5,584095995,5\\\\n14,61.67,635370519,5\\\\nTIMEZONE_OFFSET=-240\\\\na1363377600,63.38,573448554,5\\\\n1,65.99,554997079,5\\\\na1364500800,63.24,392454741,5\\\\na1365192000,60.457,506267566,5\\\\n1,61.4,387769977,5\\\\n2,55.79,710978289,5\\\\n3,59.601,803274927,5\\\\n4,64.28,655642141,5\\\\n5,64.71,546647234,5\\\\n6,61.89,634345642,5\\\\n7,63.5929,495234957,5\\\\n8,64.248,363735547,5\\\\n9,63.116,444370843,5\\\\n10,61.436,387573025,5\\\\n11,59.0714,401080582,5\\\\n12,56.65,519767255,5\\\\n13,59.63,344067542,5\\\\n14,60.93,384630904,5\\\\n15,60.71,286397069,5\\\\n16,63,399849212,5\\\\n17,66.08,340462864,5\\\\n18,64.92,369061147,5\\\\n19,71.76,713835500,5\\\\n20,71.57,418004426,5\\\\n21,69.602,393704339,5\\\\n22,71.17,318256176,5\\\\n23,66.41,670218052,5\\\\n24,66.77,627157776,5\\\\n25,68.96,477166347,5\\\\n26,69.004,371211848,5\\\\n27,70.402,362818757,5\\\\n28,72.7,344302063,5\\\\n29,75.137,492113048,5\\\\n30,74.29,522749024,5\\\\nTIMEZONE_OFFSET=-300\\\\na1383944400,74.366,318853899,5\\\\n1,74.999,307367732,5\\\\n2,74.26,283454822,5\\\\n3,79.44,328088187,5\\\\n4,80.0029,523313952,5\\\\n5,79.2,388398437,5\\\\n6,78.4314,458932712,5\\\\n7,80.01,274688918,5\\\\n8,77.28,276322921,5\\\\n9,76.13,393704465,5\\\\n10,77.24,442965852,5\\\\n11,78.01,386837661,5\\\\n12,71.51,823094762,5\\\\n13,74.24,435352295,5\\\\n14,77.7129,379678530,5\\\\n15,75.04,290147018,5\\\\n16,75.18,368375560,5\\\\n17,75.78,276573199,5\\\\nTIMEZONE_OFFSET=-240\\\\na1394827200,74.96,288820840,5\\\\n1,76.1243,304198601,5\\\\n2,76.69,340089190,5\\\\n3,75.97,246922340,5\\\\n4,74.23,312864965,5\\\\na1397764800,74.99,242907469,5\\\\na1398456000,81.71,482615539,5\\\\n1,84.65,474868226,5\\\\n2,83.6489,366597980,5\\\\n3,85.36,261663682,5\\\\n4,87.7329,295669360,5\\\\n5,90.43,401262260,5\\\\n6,92.22,413012096,5\\\\n7,91.28,293147031,5\\\\n8,90.91,235227477,5\\\\n9,91.98,216257181,5\\\\na1404417600,94.03,139169331,5\\\\na1405108800,95.22,231829837,5\\\\n1,94.43,249294582,5\\\\n2,97.671,276391278,5\\\\n3,96.13,236824718,5\\\\n4,94.74,223025521,5\\\\n5,97.98,179363532,5\\\\n6,101.32,247332907,5\\\\n7,102.5,238846216,5\\\\n8,98.97,323160039,5\\\\n9,101.66,463569230,5\\\\n10,100.96,297352988,5\\\\n11,100.75,338824941,5\\\\n12,99.62,247749150,5\\\\n13,100.73,280258156,5\\\\n14,97.67,358539741,5\\\\n15,105.22,358532919,5\\\\n16,108,220230607,5\\\\nTIMEZONE_OFFSET=-300\\\\na1415394000,109.01,199952812,5\\\\n1,114.18,205166680,5\\\\n2,116.47,233414685,5\\\\n3,118.93,181937552,5\\\\n4,115,266701088,5\\\\n5,109.73,259937920,5\\\\n6,111.78,328856576,5\\\\n7,113.99,119396530,5\\\\n8,109.33,152088374,4\\\\n9,112.01,283252615,5\\\\n10,105.99,304226647,5\\\\n11,112.98,198737041,4\\\\n12,117.16,465842684,5\\\\n13,118.93,270757404,5\\\\n14,127.08,303206785,5\\\\n15,129.495,194354942,4\\\\n16,128.46,368216362,5\\\\n17,126.6,246938492,5\\\\nTIMEZONE_OFFSET=-240\\\\na1426276800,123.59,326514045,5\\\\n1,125.9,266672975,5\\\\n2,123.25,209326175,5\\\\na1428004800,125.32,162031791,5\\\\na1428696000,127.1,182207413,5\\\\n1,124.75,171186168,5\\\\n2,130.28,207440679,5\\\\n3,128.95,420972321,5\\\\n4,127.62,271891981,5\\\\n5,128.77,208301514,5\\\\n6,132.54,217297426,5\\\\n7,130.28,198148567,4\\\\n8,128.65,170840884,5\\\\n9,127.17,220114589,5\\\\n10,126.6,198525255,5\\\\n11,126.75,195594004,5\\\\na1435867200,126.44,150981872,5\\\\na1436558400,123.28,275718368,5\\\\n1,129.62,189245034,5\\\\n2,124.5,344269021,5\\\\n3,121.3,191598511,5\\\\n4,115.52,385000649,5\\\\n5,115.96,345185326,5\\\\n6,105.76,317786709,5\\\\n7,113.29,496082206,5\\\\n8,109.27,296006231,5\\\\n9,114.21,250575722,4\\\\n10,113.45,274997575,5\\\\n11,114.71,237661814,5\\\\n12,110.38,312273197,5\\\\n13,112.12,260987038,5\\\\n14,111.04,184884970,5\\\\n15,119.08,222074893,5\\\\n16,119.5,322362121,5\\\\nTIMEZONE_OFFSET=-300\\\\na1446843600,121.06,195203256,5\\\\n1,112.34,216555289,5\\\\n2,119.3,189981253,5\\\\na1448647200,117.81,109720453,4\\\\na1449262800,119.03,206765745,5\\\\n1,113.18,188853944,5\\\\n2,106.03,315106458,5\\\\na1450980000,108.03,126634011,4\\\\na1451595600,105.26,123761546,5\\\\na1452286800,96.96,343422014,5\\\\n1,97.13,302072797,5\\\\n2,101.42,242466904,4\\\\n3,97.34,366526430,5\\\\n4,94.02,215137299,5\\\\n5,93.99,230168051,5\\\\n6,96.04,164860869,4\\\\n7,96.91,158197649,5\\\\n8,103.01,200844172,5\\\\n9,102.26,154948209,5\\\\nTIMEZONE_OFFSET=-240\\\\na1458331200,105.92,180635800,5\\\\na1458849600,105.67,118346889,5\\\\na1459540800,109.99,146549368,5\\\\n\",corp_actions:\"[{\\\\\"_quote\\\\\":\\\\\"NASD:AAPL\\\\\",\\\\\"_type\\\\\":\\\\\"split\\\\\",\\\\\"_date\\\\\":\\\\\"550848600\\\\\",\\\\\"_old_shares\\\\\":\\\\\"1\\\\\",\\\\\"_new_shares\\\\\":\\\\\"2\\\\\"},{\\\\\"_quote\\\\\":\\\\\"NASD:AAPL\\\\\",\\\\\"_type\\\\\":\\\\\"split\\\\\",\\\\\"_date\\\\\":\\\\\"961594200\\\\\",\\\\\"_old_shares\\\\\":\\\\\"1\\\\\",\\\\\"_new_shares\\\\\":\\\\\"2\\\\\"},{\\\\\"_quote\\\\\":\\\\\"NASD:AAPL\\\\\",\\\\\"_type\\\\\":\\\\\"split\\\\\",\\\\\"_date\\\\\":\\\\\"1109601000\\\\\",\\\\\"_old_shares\\\\\":\\\\\"1\\\\\",\\\\\"_new_shares\\\\\":\\\\\"2\\\\\"},{\\\\\"_quote\\\\\":\\\\\"NASD:AAPL\\\\\",\\\\\"_type\\\\\":\\\\\"split\\\\\",\\\\\"_date\\\\\":\\\\\"1402320600\\\\\",\\\\\"_old_shares\\\\\":\\\\\"1\\\\\",\\\\\"_new_shares\\\\\":\\\\\"7\\\\\"},{\\\\\"_quote\\\\\":\\\\\"NASD:AAPL\\\\\",\\\\\"_type\\\\\":\\\\\"dividend\\\\\",\\\\\"_date\\\\\":\\\\\"547738200\\\\\",\\\\\"_amount\\\\\":\\\\\"0.002143\\\\\",\\\\\"_payable_date\\\\\":\\\\\"550762200\\\\\"},{\\\\\"_quote\\\\\":\\\\\"NASD:AAPL\\\\\",\\\\\"_type\\\\\":\\\\\"dividend\\\\\",\\\\\"_date\\\\\":\\\\\"555600600\\\\\",\\\\\"_amount\\\\\":\\\\\"0.002143\\\\\",\\\\\"_payable_date\\\\\":\\\\\"558711000\\\\\"},{\\\\\"_quote\\\\\":\\\\\"NASD:AAPL\\\\\",\\\\\"_type\\\\\":\\\\\"dividend\\\\\",\\\\\"_date\\\\\":\\\\\"564157800\\\\\",\\\\\"_amount\\\\\":\\\\\"0.002857\\\\\",\\\\\"_payable_date\\\\\":\\\\\"566577000\\\\\"},{\\\\\"_quote\\\\\":\\\\\"NASD:AAPL\\\\\",\\\\\"_type\\\\\":\\\\\"dividend\\\\\",\\\\\"_date\\\\\":\\\\\"571674600\\\\\",\\\\\"_amount\\\\\":\\\\\"0.002857\\\\\",\\\\\"_payable_date\\\\\":\\\\\"574439400\\\\\"},{\\\\\"_quote\\\\\":\\\\\"NASD:AAPL\\\\\",\\\\\"_type\\\\\":\\\\\"dividend\\\\\",\\\\\"_date\\\\\":\\\\\"579792600\\\\\",\\\\\"_amount\\\\\":\\\\\"0.002857\\\\\",\\\\\"_payable_date\\\\\":\\\\\"582384600\\\\\"},{\\\\\"_quote\\\\\":\\\\\"NASD:AAPL\\\\\",\\\\\"_type\\\\\":\\\\\"dividend\\\\\",\\\\\"_date\\\\\":\\\\\"587655000\\\\\",\\\\\"_amount\\\\\":\\\\\"0.002857\\\\\",\\\\\"_payable_date\\\\\":\\\\\"590333400\\\\\"},{\\\\\"_quote\\\\\":\\\\\"NASD:AAPL\\\\\",\\\\\"_type\\\\\":\\\\\"dividend\\\\\",\\\\\"_date\\\\\":\\\\\"596125800\\\\\",\\\\\"_amount\\\\\":\\\\\"0.003571\\\\\",\\\\\"_payable_date\\\\\":\\\\\"598199400\\\\\"},{\\\\\"_quote\\\\\":\\\\\"NASD:AAPL\\\\\",\\\\\"_type\\\\\":\\\\\"dividend\\\\\",\\\\\"_date\\\\\":\\\\\"603729000\\\\\",\\\\\"_amount\\\\\":\\\\\"0.003571\\\\\",\\\\\"_payable_date\\\\\":\\\\\"605975400\\\\\"},{\\\\\"_quote\\\\\":\\\\\"NASD:AAPL\\\\\",\\\\\"_type\\\\\":\\\\\"dividend\\\\\",\\\\\"_date\\\\\":\\\\\"611847000\\\\\",\\\\\"_amount\\\\\":\\\\\"0.003571\\\\\",\\\\\"_payable_date\\\\\":\\\\\"613920600\\\\\"},{\\\\\"_quote\\\\\":\\\\\"NASD:AAPL\\\\\",\\\\\"_type\\\\\":\\\\\"dividend\\\\\",\\\\\"_date\\\\\":\\\\\"619709400\\\\\",\\\\\"_amount\\\\\":\\\\\"0.003571\\\\\",\\\\\"_payable_date\\\\\":\\\\\"621869400\\\\\"},{\\\\\"_quote\\\\\":\\\\\"NASD:AAPL\\\\\",\\\\\"_type\\\\\":\\\\\"dividend\\\\\",\\\\\"_date\\\\\":\\\\\"627316200\\\\\",\\\\\"_amount\\\\\":\\\\\"0.003929\\\\\",\\\\\"_payable_date\\\\\":\\\\\"629735400\\\\\"},{\\\\\"_quote\\\\\":\\\\\"NASD:AAPL\\\\\",\\\\\"_type\\\\\":\\\\\"dividend\\\\\",\\\\\"_date\\\\\":\\\\\"635178600\\\\\",\\\\\"_amount\\\\\":\\\\\"0.003929\\\\\",\\\\\"_payable_date\\\\\":\\\\\"637511400\\\\\"},{\\\\\"_quote\\\\\":\\\\\"NASD:AAPL\\\\\",\\\\\"_type\\\\\":\\\\\"dividend\\\\\",\\\\\"_date\\\\\":\\\\\"643296600\\\\\",\\\\\"_amount\\\\\":\\\\\"0.003929\\\\\",\\\\\"_payable_date\\\\\":\\\\\"645456600\\\\\"},{\\\\\"_quote\\\\\":\\\\\"NASD:AAPL\\\\\",\\\\\"_type\\\\\":\\\\\"dividend\\\\\",\\\\\"_date\\\\\":\\\\\"651159000\\\\\",\\\\\"_amount\\\\\":\\\\\"0.003929\\\\\",\\\\\"_payable_date\\\\\":\\\\\"653319000\\\\\"},{\\\\\"_quote\\\\\":\\\\\"NASD:AAPL\\\\\",\\\\\"_type\\\\\":\\\\\"dividend\\\\\",\\\\\"_date\\\\\":\\\\\"658765800\\\\\",\\\\\"_amount\\\\\":\\\\\"0.004286\\\\\",\\\\\"_payable_date\\\\\":\\\\\"661185000\\\\\"},{\\\\\"_quote\\\\\":\\\\\"NASD:AAPL\\\\\",\\\\\"_type\\\\\":\\\\\"dividend\\\\\",\\\\\"_date\\\\\":\\\\\"666628200\\\\\",\\\\\"_amount\\\\\":\\\\\"0.004286\\\\\",\\\\\"_payable_date\\\\\":\\\\\"669047400\\\\\"},{\\\\\"_quote\\\\\":\\\\\"NASD:AAPL\\\\\",\\\\\"_type\\\\\":\\\\\"dividend\\\\\",\\\\\"_date\\\\\":\\\\\"674746200\\\\\",\\\\\"_amount\\\\\":\\\\\"0.004286\\\\\",\\\\\"_payable_date\\\\\":\\\\\"676906200\\\\\"},{\\\\\"_quote\\\\\":\\\\\"NASD:AAPL\\\\\",\\\\\"_type\\\\\":\\\\\"dividend\\\\\",\\\\\"_date\\\\\":\\\\\"682608600\\\\\",\\\\\"_amount\\\\\":\\\\\"0.004286\\\\\",\\\\\"_payable_date\\\\\":\\\\\"684768600\\\\\"},{\\\\\"_quote\\\\\":\\\\\"NASD:AAPL\\\\\",\\\\\"_type\\\\\":\\\\\"dividend\\\\\",\\\\\"_date\\\\\":\\\\\"690474600\\\\\",\\\\\"_amount\\\\\":\\\\\"0.004286\\\\\",\\\\\"_payable_date\\\\\":\\\\\"692634600\\\\\"},{\\\\\"_quote\\\\\":\\\\\"NASD:AAPL\\\\\",\\\\\"_type\\\\\":\\\\\"dividend\\\\\",\\\\\"_date\\\\\":\\\\\"698077800\\\\\",\\\\\"_amount\\\\\":\\\\\"0.004286\\\\\",\\\\\"_payable_date\\\\\":\\\\\"700497000\\\\\"},{\\\\\"_quote\\\\\":\\\\\"NASD:AAPL\\\\\",\\\\\"_type\\\\\":\\\\\"dividend\\\\\",\\\\\"_date\\\\\":\\\\\"707405400\\\\\",\\\\\"_amount\\\\\":\\\\\"0.004286\\\\\",\\\\\"_payable_date\\\\\":\\\\\"708960600\\\\\"},{\\\\\"_quote\\\\\":\\\\\"NASD:AAPL\\\\\",\\\\\"_type\\\\\":\\\\\"dividend\\\\\",\\\\\"_date\\\\\":\\\\\"714058200\\\\\",\\\\\"_amount\\\\\":\\\\\"0.004286\\\\\",\\\\\"_payable_date\\\\\":\\\\\"716218200\\\\\"},{\\\\\"_quote\\\\\":\\\\\"NASD:AAPL\\\\\",\\\\\"_type\\\\\":\\\\\"dividend\\\\\",\\\\\"_date\\\\\":\\\\\"723133800\\\\\",\\\\\"_amount\\\\\":\\\\\"0.004286\\\\\",\\\\\"_payable_date\\\\\":\\\\\"724689000\\\\\"},{\\\\\"_quote\\\\\":\\\\\"NASD:AAPL\\\\\",\\\\\"_type\\\\\":\\\\\"dividend\\\\\",\\\\\"_date\\\\\":\\\\\"729527400\\\\\",\\\\\"_amount\\\\\":\\\\\"0.004286\\\\\",\\\\\"_payable_date\\\\\":\\\\\"731946600\\\\\"},{\\\\\"_quote\\\\\":\\\\\"NASD:AAPL\\\\\",\\\\\"_type\\\\\":\\\\\"dividend\\\\\",\\\\\"_date\\\\\":\\\\\"738595800\\\\\",\\\\\"_amount\\\\\":\\\\\"0.004286\\\\\",\\\\\"_payable_date\\\\\":\\\\\"741015000\\\\\"},{\\\\\"_quote\\\\\":\\\\\"NASD:AAPL\\\\\",\\\\\"_type\\\\\":\\\\\"dividend\\\\\",\\\\\"_date\\\\\":\\\\\"745507800\\\\\",\\\\\"_amount\\\\\":\\\\\"0.004286\\\\\",\\\\\"_payable_date\\\\\":\\\\\"747667800\\\\\"},{\\\\\"_quote\\\\\":\\\\\"NASD:AAPL\\\\\",\\\\\"_type\\\\\":\\\\\"dividend\\\\\",\\\\\"_date\\\\\":\\\\\"753719400\\\\\",\\\\\"_amount\\\\\":\\\\\"0.004286\\\\\",\\\\\"_payable_date\\\\\":\\\\\"756138600\\\\\"},{\\\\\"_quote\\\\\":\\\\\"NASD:AAPL\\\\\",\\\\\"_type\\\\\":\\\\\"dividend\\\\\",\\\\\"_date\\\\\":\\\\\"760631400\\\\\",\\\\\"_amount\\\\\":\\\\\"0.004286\\\\\",\\\\\"_payable_date\\\\\":\\\\\"762791400\\\\\"},{\\\\\"_quote\\\\\":\\\\\"NASD:AAPL\\\\\",\\\\\"_type\\\\\":\\\\\"dividend\\\\\",\\\\\"_date\\\\\":\\\\\"770045400\\\\\",\\\\\"_amount\\\\\":\\\\\"0.004286\\\\\",\\\\\"_payable_date\\\\\":\\\\\"772464600\\\\\"},{\\\\\"_quote\\\\\":\\\\\"NASD:AAPL\\\\\",\\\\\"_type\\\\\":\\\\\"dividend\\\\\",\\\\\"_date\\\\\":\\\\\"776957400\\\\\",\\\\\"_amount\\\\\":\\\\\"0.004286\\\\\",\\\\\"_payable_date\\\\\":\\\\\"779117400\\\\\"},{\\\\\"_quote\\\\\":\\\\\"NASD:AAPL\\\\\",\\\\\"_type\\\\\":\\\\\"dividend\\\\\",\\\\\"_date\\\\\":\\\\\"785169000\\\\\",\\\\\"_amount\\\\\":\\\\\"0.004286\\\\\",\\\\\"_payable_date\\\\\":\\\\\"787588200\\\\\"},{\\\\\"_quote\\\\\":\\\\\"NASD:AAPL\\\\\",\\\\\"_type\\\\\":\\\\\"dividend\\\\\",\\\\\"_date\\\\\":\\\\\"792685800\\\\\",\\\\\"_amount\\\\\":\\\\\"0.004286\\\\\",\\\\\"_payable_date\\\\\":\\\\\"794845800\\\\\"},{\\\\\"_quote\\\\\":\\\\\"NASD:AAPL\\\\\",\\\\\"_type\\\\\":\\\\\"dividend\\\\\",\\\\\"_date\\\\\":\\\\\"801495000\\\\\",\\\\\"_amount\\\\\":\\\\\"0.004286\\\\\",\\\\\"_payable_date\\\\\":\\\\\"803914200\\\\\"},{\\\\\"_quote\\\\\":\\\\\"NASD:AAPL\\\\\",\\\\\"_type\\\\\":\\\\\"dividend\\\\\",\\\\\"_date\\\\\":\\\\\"808579800\\\\\",\\\\\"_amount\\\\\":\\\\\"0.004286\\\\\",\\\\\"_payable_date\\\\\":\\\\\"810567000\\\\\"},{\\\\\"_quote\\\\\":\\\\\"NASD:AAPL\\\\\",\\\\\"_type\\\\\":\\\\\"dividend\\\\\",\\\\\"_date\\\\\":\\\\\"816964200\\\\\",\\\\\"_amount\\\\\":\\\\\"0.004286\\\\\",\\\\\"_payable_date\\\\\":\\\\\"819037800\\\\\"},{\\\\\"_quote\\\\\":\\\\\"NASD:AAPL\\\\\",\\\\\"_type\\\\\":\\\\\"dividend\\\\\",\\\\\"_date\\\\\":\\\\\"1344519000\\\\\",\\\\\"_amount\\\\\":\\\\\"0.379\\\\\",\\\\\"_amount_currency\\\\\":\\\\\"USD\\\\\",\\\\\"_payable_date\\\\\":\\\\\"1345123800\\\\\"},{\\\\\"_quote\\\\\":\\\\\"NASD:AAPL\\\\\",\\\\\"_type\\\\\":\\\\\"dividend\\\\\",\\\\\"_date\\\\\":\\\\\"1352298600\\\\\",\\\\\"_amount\\\\\":\\\\\"0.379\\\\\",\\\\\"_amount_currency\\\\\":\\\\\"USD\\\\\",\\\\\"_payable_date\\\\\":\\\\\"1352989800\\\\\"},{\\\\\"_quote\\\\\":\\\\\"NASD:AAPL\\\\\",\\\\\"_type\\\\\":\\\\\"dividend\\\\\",\\\\\"_date\\\\\":\\\\\"1360247400\\\\\",\\\\\"_amount\\\\\":\\\\\"0.379\\\\\",\\\\\"_amount_currency\\\\\":\\\\\"USD\\\\\",\\\\\"_payable_date\\\\\":\\\\\"1360852200\\\\\"},{\\\\\"_quote\\\\\":\\\\\"NASD:AAPL\\\\\",\\\\\"_type\\\\\":\\\\\"dividend\\\\\",\\\\\"_date\\\\\":\\\\\"1368106200\\\\\",\\\\\"_amount\\\\\":\\\\\"0.436\\\\\",\\\\\"_amount_currency\\\\\":\\\\\"USD\\\\\",\\\\\"_payable_date\\\\\":\\\\\"1368711000\\\\\"},{\\\\\"_quote\\\\\":\\\\\"NASD:AAPL\\\\\",\\\\\"_type\\\\\":\\\\\"dividend\\\\\",\\\\\"_date\\\\\":\\\\\"1375968600\\\\\",\\\\\"_amount\\\\\":\\\\\"0.436\\\\\",\\\\\"_amount_currency\\\\\":\\\\\"USD\\\\\",\\\\\"_payable_date\\\\\":\\\\\"1376573400\\\\\"},{\\\\\"_quote\\\\\":\\\\\"NASD:AAPL\\\\\",\\\\\"_type\\\\\":\\\\\"dividend\\\\\",\\\\\"_date\\\\\":\\\\\"1383748200\\\\\",\\\\\"_amount\\\\\":\\\\\"0.436\\\\\",\\\\\"_amount_currency\\\\\":\\\\\"USD\\\\\",\\\\\"_payable_date\\\\\":\\\\\"1384439400\\\\\"},{\\\\\"_quote\\\\\":\\\\\"NASD:AAPL\\\\\",\\\\\"_type\\\\\":\\\\\"dividend\\\\\",\\\\\"_date\\\\\":\\\\\"1391697000\\\\\",\\\\\"_amount\\\\\":\\\\\"0.436\\\\\",\\\\\"_amount_currency\\\\\":\\\\\"USD\\\\\",\\\\\"_payable_date\\\\\":\\\\\"1392301800\\\\\"},{\\\\\"_quote\\\\\":\\\\\"NASD:AAPL\\\\\",\\\\\"_type\\\\\":\\\\\"dividend\\\\\",\\\\\"_date\\\\\":\\\\\"1399555800\\\\\",\\\\\"_amount\\\\\":\\\\\"0.470\\\\\",\\\\\"_amount_currency\\\\\":\\\\\"USD\\\\\",\\\\\"_payable_date\\\\\":\\\\\"1400160600\\\\\"},{\\\\\"_quote\\\\\":\\\\\"NASD:AAPL\\\\\",\\\\\"_type\\\\\":\\\\\"dividend\\\\\",\\\\\"_date\\\\\":\\\\\"1407418200\\\\\",\\\\\"_amount\\\\\":\\\\\"0.47\\\\\",\\\\\"_amount_currency\\\\\":\\\\\"USD\\\\\",\\\\\"_payable_date\\\\\":\\\\\"1408023000\\\\\"},{\\\\\"_quote\\\\\":\\\\\"NASD:AAPL\\\\\",\\\\\"_type\\\\\":\\\\\"dividend\\\\\",\\\\\"_date\\\\\":\\\\\"1415284200\\\\\",\\\\\"_amount\\\\\":\\\\\"0.47\\\\\",\\\\\"_amount_currency\\\\\":\\\\\"USD\\\\\",\\\\\"_payable_date\\\\\":\\\\\"1415889000\\\\\"},{\\\\\"_quote\\\\\":\\\\\"NASD:AAPL\\\\\",\\\\\"_type\\\\\":\\\\\"dividend\\\\\",\\\\\"_date\\\\\":\\\\\"1423146600\\\\\",\\\\\"_amount\\\\\":\\\\\"0.47\\\\\",\\\\\"_amount_currency\\\\\":\\\\\"USD\\\\\",\\\\\"_payable_date\\\\\":\\\\\"1423751400\\\\\"},{\\\\\"_quote\\\\\":\\\\\"NASD:AAPL\\\\\",\\\\\"_type\\\\\":\\\\\"dividend\\\\\",\\\\\"_date\\\\\":\\\\\"1431005400\\\\\",\\\\\"_amount\\\\\":\\\\\"0.52\\\\\",\\\\\"_amount_currency\\\\\":\\\\\"USD\\\\\",\\\\\"_payable_date\\\\\":\\\\\"1431610200\\\\\"},{\\\\\"_quote\\\\\":\\\\\"NASD:AAPL\\\\\",\\\\\"_type\\\\\":\\\\\"dividend\\\\\",\\\\\"_date\\\\\":\\\\\"1438867800\\\\\",\\\\\"_amount\\\\\":\\\\\"0.52\\\\\",\\\\\"_amount_currency\\\\\":\\\\\"USD\\\\\",\\\\\"_payable_date\\\\\":\\\\\"1439472600\\\\\"},{\\\\\"_quote\\\\\":\\\\\"NASD:AAPL\\\\\",\\\\\"_type\\\\\":\\\\\"dividend\\\\\",\\\\\"_date\\\\\":\\\\\"1446733800\\\\\",\\\\\"_amount\\\\\":\\\\\"0.52\\\\\",\\\\\"_amount_currency\\\\\":\\\\\"USD\\\\\",\\\\\"_payable_date\\\\\":\\\\\"1447338600\\\\\"},{\\\\\"_quote\\\\\":\\\\\"NASD:AAPL\\\\\",\\\\\"_type\\\\\":\\\\\"dividend\\\\\",\\\\\"_date\\\\\":\\\\\"1454596200\\\\\",\\\\\"_amount\\\\\":\\\\\"0.52\\\\\",\\\\\"_amount_currency\\\\\":\\\\\"USD\\\\\",\\\\\"_payable_date\\\\\":\\\\\"1455201000\\\\\"}]\",related_items:[{ticker:\"INDEXDJX:.DJI\",name:\"Dow Jones\",timezone_offset:-18000,is_index:true,different_market_session:false},{ticker:\"INDEXNASDAQ:.IXIC\",name:\"Nasdaq\",timezone_offset:-18000,is_index:true,different_market_session:false},{ticker:\"NASDAQ:SNDK\",name:\"SNDK\",timezone_offset:-18000,is_index:false},{ticker:\"NASDAQ:MSFT\",name:\"MSFT\",timezone_offset:-18000,is_index:false},{ticker:\"OTCMKTS:SSNNF\",name:\"SSNNF\",timezone_offset:-18000,is_index:false},{ticker:\"NYSE:VZ\",name:\"VZ\",timezone_offset:-18000,is_index:false},{ticker:\"NYSE:HPQ\",name:\"HPQ\",timezone_offset:-18000,is_index:false},{ticker:\"NYSE:IBM\",name:\"IBM\",timezone_offset:-18000,is_index:false},{ticker:\"OTCMKTS:HTCKF\",name:\"HTCKF\",timezone_offset:-18000,is_index:false}]}};\\ngoogle.finance.data.numberFormat = [{\\'threshold\\':1000000, \\'symbol\\':\\'M\\'}, {\\'threshold\\':1000000000,\\'symbol\\':\\'B\\'}, {\\'threshold\\':1000000000000,\\'symbol\\':\\'T\\'}] ;\\n_setStickyUrlParams(\"ei=UxQHV-C7NYKymAHdh5-gCQ\");\\nif (_s_Store) {\\n_s_Store._allowMatchAdvancedSearch = true;\\nvar _fieldToDisplayNameMap = {GrossMargin:\"Gross margin&nbsp;(%)\",Return1Week:\"1w return\",Return156Week:\"156w return\",NextYearEPS:\"Next year EPS\",LTDebtToAssetsYear:\"LT debt/assets (Recent&nbsp;yr)&nbsp;(%)\",RevenueGrowthRate5Years:\"5y revenue growth rate\",EarningsAfterTaxes:\"Earnings after taxes\",DividendPerShare:\"Div per share\",MarketCap:\"Market cap\",NetProfitMarginPercent:\"Net profit margin&nbsp;(%)\",Float:\"Float\",EarningsBeforeTaxes:\"Earnings before taxes\",QuotePercChange:\"Quote change&nbsp;(%)\",TotalDebtToEquityYear:\"Total debt/equity (Recent&nbsp;yr)&nbsp;(%)\",TotalDebtToCapitalQuarter:\"Total debt/capital (Recent&nbsp;qtr)&nbsp;(%)\",LTDebtToCapitalQuarter:\"LT debt/capital (Recent&nbsp;qtr)&nbsp;(%)\",EPSGrowthRate10Years:\"10y EPS growth rate\",Beta:\"Beta\",ReturnOnAssetsPTM:\"Return on assets (PTM)&nbsp;(%)\",CapitalGain:\"Capital gain\",BetaDown:\"Beta down from RAS\",IncomeDividend:\"Income dividend\",RevenueGrowthRate10Years:\"10y revenue growth rate\",MarketCapShareBasis:\"Market cap share basis\",IAD:\"Div rate indicated annual\",Return4Week:\"4w return\",Price150DayAverage:\"150d avg price\",EPSGrowthRate5Years:\"5y EPS growth rate\",ReturnOnAssetsTTM:\"Return on assets (TTM)&nbsp;(%)\",TotalDebtToAssetsYear:\"Total debt/assets (Recent&nbsp;yr)&nbsp;(%)\",Volume:\"Volume\",DividendRecentQuarter:\"Div recent quarter\",CurrentRatioYear:\"Current ratio\",Low52Week:\"52w low\",ExpenseRatio:\"Expense ratio\",Price13WeekPercChange:\"13w&nbsp;price change&nbsp;(%)\",Price1DayPercChange:\"1d&nbsp;price change&nbsp;(%)\",ReturnOnEquity5Years:\"Return on equity (5&nbsp;yr&nbsp;avg)&nbsp;(%)\",TotalDebtToCapitalYear:\"Total debt/capital (Recent&nbsp;yr)&nbsp;(%)\",TotalDebtToAssetsQuarter:\"Total debt/assets (Recent&nbsp;qtr)&nbsp;(%)\",NavChange:\"Nav change\",OperatingMargin:\"Operating margin&nbsp;(%)\",DPSRecentYear:\"Div per share (Recent&nbsp;yr)\",ANI:\"Earnings after taxes (Recent&nbsp;yr)\",AverageVolume:\"Average volume\",High52Week:\"52w high\",Return13Week:\"13w return\",PriceToCashFlowPerShare:\"Price to cash flow per share\",ATAXRATE:\"Tax rate (Recent&nbsp;yr)\",Price26WeekPercChange:\"26w&nbsp;price change&nbsp;(%)\",QuoteChange:\"Quote change\",NetIncomeChangePerc:\"Net income change&nbsp;(%)\",ReturnOnInvestment5Years:\"Return on investment (5&nbsp;yr&nbsp;avg)&nbsp;(%)\",PE:\"P/E ratio\",ReturnOnInvestmentYear:\"Return on investment (Recent&nbsp;yr)&nbsp;(%)\",Price200DayAverage:\"200d avg price\",DividendNextQuarter:\"Div next quarter\",EBITD:\"EBITDA\",PriceYTDPercChange:\"YTD&nbsp;price change&nbsp;(%)\",ReturnOnInvestmentTTM:\"Return on investment (TTM)&nbsp;(%)\",NavChangePercent:\"Nav change&nbsp;(%)\",EBITDMargin:\"EBITDA margin&nbsp;(%)\",LTDebtToEquityQuarter:\"LT debt/equity (Recent&nbsp;qtr)&nbsp;(%)\",BetaRAS:\"Beta from RAS\",PriceSales:\"Price to sales\",NetAssets:\"Net assets\",ReturnOnEquityTTM:\"Return on equity (TTM)&nbsp;(%)\",CashPerShareYear:\"Cash/share\",ReturnOnAssets5Years:\"Return on assets (5&nbsp;yr&nbsp;avg)&nbsp;(%)\",ReturnDay:\"1d return\",Return52Week:\"52w return\",ForwardPE1Year:\"1y fwd P/E\",NetIncomeGrowthRate5Years:\"5y net income growth rate\",DividendYield:\"Div yield&nbsp;(%)\",Dividend:\"Div from cash flow\",BetaUp:\"Beta up from RAS\",LTDebtToCapitalYear:\"LT debt/capital (Recent&nbsp;yr)&nbsp;(%)\",nprice:\"Price from RAS\",Return260Week:\"260w return\",ReturnOnEquityQuarter:\"Return on equity (Recent&nbsp;qtr)&nbsp;(%)\",ACOGS:\"Cost of goods sold\",LTDebtToAssetsQuarter:\"LT debt/assets (Recent&nbsp;qtr)&nbsp;(%)\",PriceToBook:\"Price to book\",LTDebtToEquityYear:\"LT debt/equity (Recent&nbsp;yr)&nbsp;(%)\",ReturnYTD:\"Return YTD\",ReturnOnEquityYear:\"Return on equity (Recent&nbsp;yr)&nbsp;(%)\",ReturnOnAssetsQuarter:\"Return on assets (Recent&nbsp;qtr)&nbsp;(%)\",TotalDebtToEquityQuarter:\"Total debt/equity (Recent&nbsp;qtr)&nbsp;(%)\",NavPrior:\"Nav prior\",AINTCOV:\"Interest coverage\",EPS:\"EPS\",ReturnOnInvestmentQuarter:\"Return on investment (Recent&nbsp;qtr)&nbsp;(%)\",QuoteLast:\"Last price\",Price50DayAverage:\"50d avg price\",Price4WeekPercChange:\"4w&nbsp;price change&nbsp;(%)\",ReturnOnAssetsYear:\"Return on assets (Recent&nbsp;yr)&nbsp;(%)\",MarketCapRAS:\"Mkt cap from RAS\",Price52WeekPercChange:\"52w&nbsp;price change&nbsp;(%)\",ShortInterestRatioPercent:\"Short interest ratio&nbsp;(%)\",InstitutionalPercentHeld:\"Institutional percent held\",BookValuePerShareYear:\"Book value/share\",ReturnOnEquityPTM:\"Return on equity (PTM)&nbsp;(%)\"};\\n_s_Store._asStore._addStrings(_fieldToDisplayNameMap);\\n}\\nif (_s_Store) {\\n_s_Store._allowMultipleInBox = true;\\n}\\ngoogle.finance.renderRecentQuotes();\\n          </script>\\n          <div class=\"g-section g-tpl-right-1\">\\n           <div class=\"g-unit g-first\">\\n            <div class=\"g-c\">\\n             <div class=\"g-section g-tpl-67-33 g-split nwp\" id=\"r-perf\">\\n              <div class=\"id-r-perf-quotes g-unit g-first\" id=\"r-perf-quotes\">\\n              </div>\\n              <div class=\"id-r-perf-charts g-unit\" id=\"r-perf-charts\">\\n              </div>\\n             </div>\\n             <script>\\n              google.finance.renderRelativePerformance();\\n             </script>\\n            </div>\\n           </div>\\n           <div class=\"g-unit\">\\n            <div class=\"id-market-data-div nwp g-floatfix\" id=\"market-data-div\">\\n             <div class=\"id-price-panel goog-inline-block\" id=\"price-panel\">\\n              <div>\\n               <span class=\"pr\">\\n                <span id=\"ref_22144_l\">\\n                 108.54\\n                </span>\\n               </span>\\n               <div class=\"id-price-change nwp\">\\n                <span class=\"ch bld\">\\n                 <span class=\"chr\" id=\"ref_22144_c\">\\n                  -2.42\\n                 </span>\\n                 <span class=\"chr\" id=\"ref_22144_cp\">\\n                  (-2.18%)\\n                 </span>\\n                </span>\\n               </div>\\n              </div>\\n              <div>\\n               After Hours:\\n               <span class=\"bld\" id=\"ref_22144_el\">\\n                108.39\\n               </span>\\n               <span class=\"chr\" id=\"ref_22144_ec\">\\n                -0.15\\n               </span>\\n               <span class=\"chr\" id=\"ref_22144_ecp\">\\n                (-0.14%)\\n               </span>\\n               <div id=\"ref_22144_elt\">\\n                Apr 7, 7:59PM EDT\\n                <div class=\"mdata-dis\">\\n                 <span class=\"dis-large\">\\n                  <nobr>\\n                   NASDAQ\\nreal-time data -\\n                   <a class=\"dis-large\" href=\"//www.google.com/help/stock_disclaimer.html#realtime\">\\n                    Disclaimer\\n                   </a>\\n                  </nobr>\\n                 </span>\\n                 <div>\\n                  Currency in USD\\n                 </div>\\n                </div>\\n               </div>\\n              </div>\\n             </div>\\n             <div class=\"snap-panel-and-plusone\">\\n              <div class=\"snap-panel\">\\n               <table class=\"snap-data\">\\n                <tbody>\\n                 <tr>\\n                  <td class=\"key\" data-snapfield=\"range\">\\n                   Range\\n                  </td>\\n                  <td class=\"val\">\\n                   108.12 - 110.42\\n                  </td>\\n                 </tr>\\n                 <tr>\\n                  <td class=\"key\" data-snapfield=\"range_52week\">\\n                   52 week\\n                  </td>\\n                  <td class=\"val\">\\n                   92.00 - 134.54\\n                  </td>\\n                 </tr>\\n                 <tr>\\n                  <td class=\"key\" data-snapfield=\"open\">\\n                   Open\\n                  </td>\\n                  <td class=\"val\">\\n                   109.95\\n                  </td>\\n                 </tr>\\n                 <tr>\\n                  <td class=\"key\" data-snapfield=\"vol_and_avg\">\\n                   Vol / Avg.\\n                  </td>\\n                  <td class=\"val\">\\n                   31.80M/33.01M\\n                  </td>\\n                 </tr>\\n                 <tr>\\n                  <td class=\"key\" data-snapfield=\"market_cap\">\\n                   Mkt cap\\n                  </td>\\n                  <td class=\"val\">\\n                   608.11B\\n                  </td>\\n                 </tr>\\n                 <tr>\\n                  <td class=\"key\" data-snapfield=\"pe_ratio\">\\n                   P/E\\n                  </td>\\n                  <td class=\"val\">\\n                   11.53\\n                  </td>\\n                 </tr>\\n                </tbody>\\n               </table>\\n               <table class=\"snap-data\">\\n                <tbody>\\n                 <tr>\\n                  <td class=\"key\" data-snapfield=\"latest_dividend-dividend_yield\">\\n                   Div/yield\\n                  </td>\\n                  <td class=\"val\">\\n                   0.52/1.92\\n                  </td>\\n                 </tr>\\n                 <tr>\\n                  <td class=\"key\" data-snapfield=\"eps\">\\n                   EPS\\n                  </td>\\n                  <td class=\"val\">\\n                   9.41\\n                  </td>\\n                 </tr>\\n                 <tr>\\n                  <td class=\"key\" data-snapfield=\"shares\">\\n                   Shares\\n                  </td>\\n                  <td class=\"val\">\\n                   5.54B\\n                  </td>\\n                 </tr>\\n                 <tr>\\n                  <td class=\"key\" data-snapfield=\"beta\">\\n                   Beta\\n                  </td>\\n                  <td class=\"val\">\\n                   1.01\\n                  </td>\\n                 </tr>\\n                 <tr>\\n                  <td class=\"key\" data-snapfield=\"inst_own\">\\n                   Inst. own\\n                  </td>\\n                  <td class=\"val\">\\n                   59%\\n                  </td>\\n                 </tr>\\n                </tbody>\\n               </table>\\n              </div>\\n              <div class=\"plusone-box\" id=\"plusone-box\">\\n               <g:plusone size=\"standard\" source=\"google:FINANCE\">\\n               </g:plusone>\\n              </div>\\n             </div>\\n            </div>\\n            <script>\\n             google.finance.renderMarketData();\\n            </script>\\n            <div id=\"sharebox-data\" itemscope=\"itemscope\" itemtype=\"http://schema.org/Intangible/FinancialQuote\">\\n             <meta content=\"Apple Inc.\" itemprop=\"name\"/>\\n             <meta content=\"https://www.google.com/finance?cid=22144\" itemprop=\"url\"/>\\n             <meta content=\"https://www.google.com/finance/chart?cht=g&amp;q=NASDAQ:AAPL&amp;tkr=1&amp;p=1d&amp;enddatetime=2016-04-07T16:00:02Z\" itemprop=\"imageUrl\"/>\\n             <meta content=\"AAPL\" itemprop=\"tickerSymbol\"/>\\n             <meta content=\"NASDAQ\" itemprop=\"exchange\"/>\\n             <meta content=\"America/New_York\" itemprop=\"exchangeTimezone\"/>\\n             <meta content=\"108.54\" itemprop=\"price\"/>\\n             <meta content=\"-2.42\" itemprop=\"priceChange\"/>\\n             <meta content=\"-2.18\" itemprop=\"priceChangePercent\"/>\\n             <meta content=\"true\" itemprop=\"isAfterHours\"/>\\n             <meta content=\"108.39\" itemprop=\"afterHoursPrice\"/>\\n             <meta content=\"-0.15\" itemprop=\"afterHoursPriceChange\"/>\\n             <meta content=\"-0.14\" itemprop=\"afterHoursPriceChangePercent\"/>\\n             <meta content=\"2016-04-07T23:59:54Z\" itemprop=\"afterHoursQuoteTime\"/>\\n             <meta content=\"2016-04-07T16:00:02Z\" itemprop=\"quoteTime\"/>\\n             <meta content=\"NASDAQ real-time data\" itemprop=\"dataSource\"/>\\n             <meta content=\"//www.google.com/help/stock_disclaimer.html#realtime\" itemprop=\"dataSourceDisclaimerUrl\"/>\\n             <meta content=\"USD\" itemprop=\"priceCurrency\"/>\\n            </div>\\n           </div>\\n          </div>\\n          <div class=\"g-section g-tpl-right-1 sfe-break-top-5\">\\n           <div class=\"g-unit g-first\">\\n            <div class=\"g-c\">\\n             <div>\\n              <div id=\"newstabsgroup\">\\n               <div class=\"g-section g-tpl-25-75 g-split hdg\">\\n                <div class=\"g-unit g-first\">\\n                 <h3>\\n                  News\\n                 </h3>\\n                </div>\\n                <div class=\"g-unit\">\\n                 <div class=\"id-news-tabs\" id=\"news-panel-tabs\" style=\"display:none;\">\\n                  <div class=\"goog-tab goog-tab-selected\">\\n                   <a class=\"t\" id=\"news_tab_title\">\\n                    <b class=\"t\">\\n                     <b class=\"t\">\\n                      Relevance\\n                     </b>\\n                    </b>\\n                   </a>\\n                  </div>\\n                  <div class=\"goog-tab\">\\n                   <a class=\"t\" id=\"news_by_date_tab_title\">\\n                    <b class=\"t\">\\n                     <b class=\"t\">\\n                      Date\\n                     </b>\\n                    </b>\\n                   </a>\\n                  </div>\\n                 </div>\\n                </div>\\n               </div>\\n               <div class=\"id-tabs-clear goog-tab-bar-clear hide\" id=\"tabs-clear\">\\n               </div>\\n               <div class=\"id-news_div_cont\" id=\"news_div_cont\" style=\"display:none;\">\\n               </div>\\n               <div class=\"id-news_by_date_div_cont\" id=\"news_by_date_div_cont\" style=\"display:none;\">\\n               </div>\\n              </div>\\n              <div class=\"sfe-section clf\" id=\"news-footer\">\\n               <div class=\"g-section g-tpl-67-33 g-split\" id=\"news-sidebar-footer\">\\n                <div class=\"g-unit g-first\">\\n                 <a href=\"/finance/company_news?q=NASDAQ:AAPL&amp;ei=UxQHV-C7NYKymAHdh5-gCQ\">\\n                  All news for Apple Inc. \\xbb\\n                 </a>\\n                </div>\\n                <div class=\"g-unit\">\\n                 <a href=\"/finance/company_news?q=NASDAQ:AAPL&amp;ei=UxQHV-C7NYKymAHdh5-gCQ&amp;output=rss\">\\n                  Subscribe\\n                 </a>\\n                 <a href=\"/finance/company_news?q=NASDAQ:AAPL&amp;ei=UxQHV-C7NYKymAHdh5-gCQ&amp;output=rss\">\\n                  <img alt=\"Subscribe.\" class=\"SP_subscribe\" height=\"15\" id=\"rss\" src=\"/finance/s/m4C5KaofCbA/images/cleardot.gif\" width=\"15\"/>\\n                 </a>\\n                </div>\\n               </div>\\n              </div>\\n             </div>\\n             <div class=\"sfe-break-top sfe-break-bottom-16\" id=\"ad\">\\n              <div class=\"id-ad-label invisible\" id=\"ad-label\">\\n               Advertisement\\n              </div>\\n              <div class=\"id-ad-target ads-300-250\" id=\"ad-target\">\\n              </div>\\n             </div>\\n             <div class=\"g-section g-tpl-25-75 g-split hdg\">\\n              <div class=\"g-unit g-first\">\\n               <h3>\\n                Events\\n               </h3>\\n              </div>\\n              <div class=\"g-unit\">\\n               <div class=\"sfe-break-right-em\">\\n                <img alt=\"\" class=\"SP_calendar\" height=\"16\" id=\"calendar\" src=\"/finance/s/m4C5KaofCbA/images/cleardot.gif\" width=\"16\"/>\\n                <a href=\"//www.google.com/calendar/render?ei=UxQHV-C7NYKymAHdh5-gCQ&amp;hl=en&amp;cid=http://www.google.com:80%2Ffinance%2Fevents%3Fq%3DNASDAQ%3AAAPL%26output%3Dical\" onclick=\"_GF_click(\\'\\', \\'add_ical\\', \\'AAPL\\', \\'\\')\">\\n                 Add AAPL to my calendars\\n                </a>\\n               </div>\\n              </div>\\n             </div>\\n             <div class=\"events sfe-section\">\\n              <div class=\"event\">\\n               <div class=\"bld date\">\\n                Apr 25, 2016\\n               </div>\\n               <div>\\n                Q2 2016 Apple Inc Earnings Release\\n-\\n                <span class=\"time\">\\n                 4:00PM EDT\\n                </span>\\n                -\\n                <a class=\"time\" href=\"\\n  //www.google.com/calendar/event?ei=UxQHV-C7NYKymAHdh5-gCQ&amp;hl=en&amp;action=TEMPLATE&amp;text=Q2+2016+Apple+Inc+Earnings+Release&amp;dates=20160425T200000Z/20160425T210000Z&amp;sprop=finance\" onclick=\"_GF_click(\\'\\', \\'add_cal_evnt\\', \\'AAPL\\', \\'\\')\">\\n                 <img alt=\"Add to calendar\" class=\"SP_calendar\" height=\"16\" id=\"calendar\" src=\"/finance/s/m4C5KaofCbA/images/cleardot.gif\" width=\"16\"/>\\n                </a>\\n               </div>\\n              </div>\\n              <div class=\"event\">\\n               <div class=\"bld date\">\\n                Mar 9, 2016\\n               </div>\\n               <div>\\n                Apple Inc Annual Shareholders Meeting (Estimated)\\n               </div>\\n              </div>\\n              <div class=\"event\">\\n               <div class=\"bld date\">\\n                Feb 26, 2016\\n               </div>\\n               <div>\\n                Apple Inc Annual Shareholders Meeting\\n               </div>\\n              </div>\\n              <div class=\"event\">\\n               <div class=\"bld date\">\\n                Jan 26, 2016\\n               </div>\\n               <div>\\n                Q1 2016 Apple Inc Earnings Call\\n               </div>\\n              </div>\\n              <div class=\"event\">\\n               <div class=\"bld date\">\\n                Jan 26, 2016\\n               </div>\\n               <div>\\n                Q1 2016 Apple Inc Earnings Release\\n               </div>\\n              </div>\\n              <table>\\n               <tbody>\\n                <tr>\\n                 <td>\\n                  <a href=\"//www.google.com/url?source=finance&amp;q=http%3A%2F%2Fwww.dailyfinance.com%2Fevent%2FAAPL%2Fusa&amp;ei=UxQHV-C7NYKymAHdh5-gCQ&amp;usg=AFQjCNG6ImMF9reNeRvMs2mCfJVIXG0QaQ\">\\n                   More events from DailyFinance \\xbb\\n                  </a>\\n                  <nobr>\\n                  </nobr>\\n                 </td>\\n                </tr>\\n               </tbody>\\n              </table>\\n             </div>\\n             <div class=\"hdg\">\\n              <h3>\\n               Key stats and ratios\\n              </h3>\\n             </div>\\n             <div class=\"sfe-section\">\\n              <table class=\"quotes rgt nwp\" width=\"100%\">\\n               <thead>\\n                <tr>\\n                 <td width=\"50%\">\\n                 </td>\\n                 <td class=\"colHeader\">\\n                  Q4 (Dec \\'15)\\n                 </td>\\n                 <td class=\"colHeader\">\\n                  2015\\n                 </td>\\n                </tr>\\n               </thead>\\n               <tbody>\\n                <tr>\\n                 <td class=\"lft name\">\\n                  Net profit margin\\n                 </td>\\n                 <td class=\"period\">\\n                  24.20%\\n                 </td>\\n                 <td class=\"period\">\\n                  22.85%\\n                 </td>\\n                </tr>\\n                <tr>\\n                 <td class=\"lft name\">\\n                  Operating margin\\n                 </td>\\n                 <td class=\"period\">\\n                  31.86%\\n                 </td>\\n                 <td class=\"period\">\\n                  30.48%\\n                 </td>\\n                </tr>\\n                <tr>\\n                 <td class=\"lft name\">\\n                  EBITD margin\\n                 </td>\\n                 <td class=\"period\">\\n                  -\\n                 </td>\\n                 <td class=\"period\">\\n                  34.97%\\n                 </td>\\n                </tr>\\n                <tr>\\n                 <td class=\"lft name\">\\n                  Return on average assets\\n                 </td>\\n                 <td class=\"period\">\\n                  25.23%\\n                 </td>\\n                 <td class=\"period\">\\n                  20.45%\\n                 </td>\\n                </tr>\\n                <tr>\\n                 <td class=\"lft name\">\\n                  Return on average equity\\n                 </td>\\n                 <td class=\"period\">\\n                  59.48%\\n                 </td>\\n                 <td class=\"period\">\\n                  46.25%\\n                 </td>\\n                </tr>\\n                <tr>\\n                 <td class=\"lft name\">\\n                  Employees\\n                 </td>\\n                 <td class=\"period\">\\n                  110,000\\n                 </td>\\n                 <td class=\"period\">\\n                  -\\n                 </td>\\n                </tr>\\n                <tr>\\n                 <td class=\"lft name\">\\n                  CDP Score\\n                 </td>\\n                 <td class=\"period\">\\n                  -\\n                 </td>\\n                 <td class=\"period\">\\n                  <a href=\"//www.google.com/url?source=finance&amp;q=https%3A%2F%2Fwww.cdp.net%2Fen-US%2FResults%2FPages%2FCompany-Responses.aspx%3Fcompany%3D865&amp;ei=UxQHV-C7NYKymAHdh5-gCQ&amp;usg=AFQjCNHVMvPEqESBIA7SBIhkuec0SKR4rA\" id=\"m-cdi\">\\n                   99 A\\n                  </a>\\n                 </td>\\n                </tr>\\n               </tbody>\\n              </table>\\n              <div class=\"sfe-break-top\">\\n               <a href=\"/finance/similar?q=NASDAQ:AAPL&amp;ei=UxQHV-C7NYKymAHdh5-gCQ\" id=\"similar\">\\n                Screen stocks with similar metrics \\xbb\\n               </a>\\n              </div>\\n             </div>\\n             <div class=\"hdg\">\\n              <h3>\\n               Address\\n              </h3>\\n             </div>\\n             <div class=\"sfe-section\">\\n              1 Infinite Loop\\n              <br/>\\n              CUPERTINO, CA 95014-2083\\n              <br/>\\n              United States\\n-\\n              <a href=\"http://maps.google.com/maps?ei=UxQHV-C7NYKymAHdh5-gCQ&amp;q=1+Infinite+Loop+CUPERTINO+95014-2083+United+States%20(Apple+Inc.)\">\\n               Map\\n              </a>\\n              <br/>\\n              +1-408-9961010 (Phone)\\n              <br/>\\n             </div>\\n             <div class=\"hdg\">\\n              <h3>\\n               Website links\\n              </h3>\\n             </div>\\n             <div class=\"sfe-section\">\\n              <div class=\"item\">\\n               <a href=\"//www.google.com/url?source=finance&amp;q=http%3A%2F%2Fwww.apple.com&amp;ei=UxQHV-C7NYKymAHdh5-gCQ&amp;usg=AFQjCNHx70fArH9P11H3a_DgKEIhtjjm7w\" id=\"fs-chome\">\\n                http://www.apple.com\\n               </a>\\n              </div>\\n             </div>\\n             <div class=\"hdg\">\\n              <h3>\\n               External links\\n              </h3>\\n             </div>\\n             <div class=\"sfe-section\">\\n              <div class=\"item\">\\n               <a href=\"//www.google.com/url?source=finance&amp;q=http%3A%2F%2Fwww.marketwatch.com%2Finvesting%2Fstock%2FAAPL%2Fanalystestimates&amp;ei=UxQHV-C7NYKymAHdh5-gCQ&amp;usg=AFQjCNHsAi0dSbR0V1QIJggUUTrvX89jMQ\" id=\"m-analyst\">\\n                Analyst Estimates\\n               </a>\\n               -\\n               <font color=\"#6F6F6F\">\\n                MarketWatch\\n               </font>\\n              </div>\\n              <div class=\"item\">\\n               <a href=\"//www.google.com/url?source=finance&amp;q=http%3A%2F%2Fgoogle.brand.edgar-online.com%3Fsym%3DAAPL&amp;ei=UxQHV-C7NYKymAHdh5-gCQ&amp;usg=AFQjCNEJ6QkyvtlKoL8H1yPOMOA4UlNZPw\" id=\"m-sec\">\\n                SEC Filings\\n               </a>\\n               -\\n               <font color=\"#6F6F6F\">\\n                EDGAR Online\\n               </font>\\n              </div>\\n              <div class=\"item\">\\n               <a href=\"//www.google.com/url?source=finance&amp;q=http%3A%2F%2Finvesting.money.msn.com%2Finvestments%2Finstitutional-ownership%3Fsymbol%3DAAPL&amp;ei=UxQHV-C7NYKymAHdh5-gCQ&amp;usg=AFQjCNGHPOhGasDUblHPsOTm-BkVIyzvJg\" id=\"m-hold\">\\n                Major Holders\\n               </a>\\n               -\\n               <font color=\"#6F6F6F\">\\n                MSN Money\\n               </font>\\n              </div>\\n              <div class=\"item\">\\n               <a href=\"//www.google.com/url?source=finance&amp;q=https%3A%2F%2Fcommerce.us.reuters.com%2Fpurchase%2FadvancedSearch.do%3Fsymbol%3DAAPL.O%26rpc%3D68&amp;ei=UxQHV-C7NYKymAHdh5-gCQ&amp;usg=AFQjCNFfPoLoXbkOTLN_xY6iYk88AZrRYw\" id=\"m-research\">\\n                Research Reports\\n               </a>\\n               -\\n               <font color=\"#6F6F6F\">\\n                Reuters\\n               </font>\\n              </div>\\n              <div class=\"item\">\\n               <a href=\"//www.google.com/url?source=finance&amp;q=http%3A%2F%2Fwww.seekingalpha.com%2Ftranscripts%2Ffor%2FAAPL&amp;ei=UxQHV-C7NYKymAHdh5-gCQ&amp;usg=AFQjCNGlWfwCx6_CNOS3_4tZg7VvC00SZQ\" id=\"m-transcripts\">\\n                Transcripts\\n               </a>\\n               -\\n               <font color=\"#6F6F6F\">\\n                SeekingAlpha\\n               </font>\\n              </div>\\n              <div class=\"item\">\\n               <a href=\"//www.google.com/url?source=finance&amp;q=http%3A%2F%2Fen.wikipedia.org%2Fwiki%2FApple_Computer&amp;ei=UxQHV-C7NYKymAHdh5-gCQ&amp;usg=AFQjCNErN9YG9qoc9d5X_dnVbUl3qkUhjA\" id=\"m-wiki\">\\n                About Company\\n               </a>\\n               -\\n               <font color=\"#6F6F6F\">\\n                Wikipedia\\n               </font>\\n              </div>\\n             </div>\\n            </div>\\n           </div>\\n           <div class=\"g-unit\">\\n            <div class=\"g-c sfe-break-right\" id=\"top-section\">\\n             <div id=\"chart-section\">\\n              <div>\\n               <div class=\"id-compare-bar-wrapper\" id=\"compare-bar-wrapper\">\\n                <div class=\"id-compare-bar g-section\" id=\"compare-bar\">\\n                </div>\\n               </div>\\n               <div class=\"id-chart_anchor\" id=\"chart_anchor\">\\n               </div>\\n               <div class=\"id-chart-footer\">\\n                <div class=\"g-section g-tpl-67-33 g-split sfe-break-bottom-8 overflow-floatfix\">\\n                 <div class=\"g-unit g-first\">\\n                  <div class=\"id-chart-footer-links hide\">\\n                   <span class=\"settings-link\">\\n                    Settings\\n                   </span>\\n                   |\\n                   <span class=\"technicals-link\">\\n                    Technicals\\n                   </span>\\n                   |\\n                   <span style=\"white-space:nowrap;\">\\n                    <img alt=\"Link to chart icon.\" class=\"linktochart-img SP_link\" hight=\"9\" src=\"/finance/s/m4C5KaofCbA/images/cleardot.gif\" width=\"16\"/>\\n                    <span class=\"linktochart-link\">\\n                     Link to this view\\n                    </span>\\n                   </span>\\n                  </div>\\n                 </div>\\n                 <div class=\"g-unit\">\\n                  <span class=\"chart-dis\">\\n                   Volume delayed by 15 mins.\\n                   <br/>\\n                   Prices are not from all markets.\\n                   <br/>\\n                   Sources include SIX.\\n                   <br/>\\n                  </span>\\n                 </div>\\n                </div>\\n               </div>\\n               <script>\\n                var _minZoomDays = 1;\\nvar _minZoomDaysNoIntraDay = _minZoomDays;\\nvar _timeZoneOffset = \\'-18000\\';\\n_chartConfigObject = {};\\n_chartConfigObject.hasVolume = _displayVolume;\\n_chartConfigObject.hasNews = true;\\n_chartConfigObject.hasExtendedHours = true;\\n_chartConfigObject.hasDefaultZoomSetting = true;\\n_chartConfigObject.hasVerticalScaleSetting = true;\\n_chartConfigObject.displayVolume = \\'true\\';\\n_chartConfigObject.displayNewsPins = \\'true\\';\\n_chartConfigObject.displayDividends = \\'true\\';\\n_chartConfigObject.displaySplits = \\'true\\';\\n_chartConfigObject.displayExtendedHours = \\'false\\';\\n_chartConfigObject.enableCustomDateEntry = true\\n_chartConfigObject.defaultZoomDays = \\'3\\';\\n_chartConfigObject.snapping = false;\\n_chartConfigObject.verticalScaling = \\'maximized\\';\\n_chartConfigObject.sparklineType = \\'dynamic\\';\\n// set _minZoomDays and _minZoomDaysNoIntraDay in each page before emit the\\n// chart to passing the value to chart, otherwise default value will be use.\\n_chartConfigObject.minZoomDaysNormal = _minZoomDays;\\n_chartConfigObject.minZoomDaysNoIntraDay = _minZoomDaysNoIntraDay;\\n_chartConfigObject.enableIndicator = true;\\n_chartConfigObject.companyId = \\'22144\\';\\n_chartConfigObject.enableRealtimeChart = true;\\n_chartConfigObject.isMarketOpenState = 0;\\n_chartConfigObject.stateRemainingMinutes = 675;\\n_chartConfigObject.delayedMinutes = 0;\\n_chartConfigObject.delayedMinutes = Math.max(\\n_chartConfigObject.delayedMinutes,\\n15);\\n_chartConfigObject.enableChartTypeSetting = true;\\n_chartConfigObject.lineStyle = \\'IntervalBasedLine\\';\\n_chartConfigObject.defaultInterval = \\'86400\\';\\n_chartConfigObject.enableIndicatorSetting = true;\\n_chartConfigObject.biasSetting = \\'\\';\\n_chartConfigObject.emaSetting = \\'\\';\\n_chartConfigObject.kdjSetting = \\'\\';\\n_chartConfigObject.macdSetting = \\'\\';\\n_chartConfigObject.rsiSetting = \\'\\';\\n_chartConfigObject.smaSetting = \\'\\';\\n_chartConfigObject.vmaSetting = \\'\\';\\n_chartConfigObject.cciSetting = \\'\\';\\n_chartConfigObject.williamsPercentRSetting = \\'\\';\\n_chartConfigObject.bollingerBandsSetting = \\'\\';\\n_chartConfigObject.fastStochasticSetting = \\'\\';\\n_chartConfigObject.slowStochasticSetting = \\'\\';\\n_chartConfigObject.expandButtonEnabled = true;\\n_chartConfigObject.companyCurrency = \\'USD\\';\\n_chartConfigObject.displayDividendsUnits = \\'true\\';\\n_external_target = \"\";\\n_emitFlashChart(\\n\"/finance/s/n-VxNKK74DU/chart9.swf?hl=en&gl=us\",\\n_ticker, _chartConfigObject,\"http:\\\\x2F\\\\x2Fwww.google.com:80\");\\n               </script>\\n               <noscript>\\n                &lt;div id=image_chart style=\"display:block;\"&gt;\\n&lt;table&gt;\\n&lt;tr&gt;&lt;td class=itxt align=left&gt;\\n&lt;/td&gt;&lt;/tr&gt;\\n&lt;tr&gt;&lt;td&gt;\\n&lt;img alt=\"Chart.\" src=\"/finance/getchart?q=AAPL&amp;x=NASD&amp;p=3d&amp;i=240&amp;ei=UxQHV-C7NYKymAHdh5-gCQ\" width=\"500\" height=\"322\"&gt;\\n&lt;/td&gt;&lt;/tr&gt;\\n&lt;/table&gt;\\n&lt;/div&gt;\\n               </noscript>\\n               <div style=\"height:1em;\">\\n               </div>\\n              </div>\\n             </div>\\n             <div id=\"ad2\">\\n              <div class=\"invisible\" id=\"ad2-label\">\\n               Advertisement\\n              </div>\\n              <div class=\"id-ad2-target\" id=\"ad2-target\">\\n              </div>\\n             </div>\\n            </div>\\n            <div class=\"g-c sfe-break-right\">\\n             <div class=\"id-related hide\" id=\"related\">\\n              <div class=\"hdg\">\\n               <div class=\"float\">\\n                <h3>\\n                 Related companies\\n                </h3>\\n               </div>\\n              </div>\\n              <div>\\n               <div class=\"g-section g-tpl-50-50 g-split gf-control\">\\n                <div class=\"g-unit g-first\">\\n                 Show:\\n                 <select class=\"id-related-select\" id=\"related-select\">\\n                  <option value=\"mrq\">\\n                   Most Recent Quarter\\n                  </option>\\n                  <option selected=\"\" value=\"mra\">\\n                   Most Recent Annual\\n                  </option>\\n                 </select>\\n                </div>\\n                <div class=\"g-unit\">\\n                 <span class=\"id-related-edit-col linkbtn\">\\n                  Add or remove columns\\n                 </span>\\n                 <button class=\"id-related-save\" style=\"display:none\">\\n                  Save changes\\n                 </button>\\n                 <button class=\"id-related-cancel\" style=\"display:none\">\\n                  Cancel\\n                 </button>\\n                </div>\\n               </div>\\n              </div>\\n              <div class=\"id-related-table gf-table-scroll-x jfk-scrollbar\" style=\"padding-bottom:15px;\">\\n              </div>\\n              <div class=\"sfe-section\">\\n               <div class=\"g-section g-tpl-50-50 g-split\">\\n                <div class=\"g-unit g-first\">\\n                 Sector:\\n                 <a href=\"?catid=us-TRBC:57&amp;ei=UxQHV-C7NYKymAHdh5-gCQ\" id=\"sector\">\\n                  Technology\\n                 </a>\\n                 &gt; Industry:\\n                 <a href=\"?catid=us-TRBC:5710601010&amp;ei=UxQHV-C7NYKymAHdh5-gCQ\">\\n                  Computer Hardware - NEC\\n                 </a>\\n                </div>\\n                <div class=\"g-unit\">\\n                 <a href=\"//www.google.com/url?source=finance&amp;q=http%3A%2F%2Fwww.factset.com%2Fdata%2Ffactset_data%2Findustry-and-sector&amp;ei=UxQHV-C7NYKymAHdh5-gCQ&amp;usg=AFQjCNHSyvzrzq0Y6_ulJH7_KEQ-HvZoUQ\">\\n                  More from FactSet \\xbb\\n                 </a>\\n                </div>\\n               </div>\\n              </div>\\n             </div>\\n             <div class=\"id-reorder\" id=\"reorder\">\\n              <div class=\"mid-reorder\">\\n               <div id=\"blogs-section\">\\n               </div>\\n               <div id=\"summary-section\">\\n                <div id=\"summary\">\\n                 <div class=\"hdg\">\\n                  <div class=\"float\">\\n                   <h3>\\n                    Description\\n                   </h3>\\n                  </div>\\n                  <div class=\"gf-reorder-btn SP_menu_button\">\\n                  </div>\\n                 </div>\\n                 <div class=\"sfe-section\">\\n                  <div class=\"companySummary\">\\n                   Apple Inc. (Apple) designs, manufactures and markets mobile communication and media devices, personal computers, and portable digital music players, and a variety of related software, services, peripherals, networking solutions, and third-party digital content and applications. The Company\\'s products and services include iPhone, iPad, Mac, iPod, Apple TV, a portfolio of consumer and professional software applications, the iOS and OS X operating systems, iCloud, and a variety of accessory, service and support offerings. The Company also delivers digital content and applications through the iTunes Store, App StoreSM, iBookstoreSM, and Mac App Store. The Company distributes its products worldwide through its retail stores, online stores, and direct sales force, as well as through third-party cellular network carriers, wholesalers, retailers, and value-added resellers. In February 2012, the Company acquired app-search engine Chomp.\\n                   <div class=\"sfe-break-top\">\\n                    <a href=\"//www.google.com/url?source=finance&amp;q=http%3A%2F%2Fstocks.us.reuters.com%2Fstocks%2FfullDescription.asp%3Frpc%3D66%26symbol%3DAAPL.O&amp;ei=UxQHV-C7NYKymAHdh5-gCQ&amp;usg=AFQjCNFgo7p9EPorGfEgS-RiNsAc82MgNw\" id=\"m-rprofile\">\\n                     More from Reuters \\xbb\\n                    </a>\\n                   </div>\\n                  </div>\\n                 </div>\\n                </div>\\n               </div>\\n               <script>\\n                _tck(\\'aft\\');\\n               </script>\\n               <div id=\"mgmt-section\">\\n                <div id=\"management\" style=\"margin-bottom:1.5em;\">\\n                 <div class=\"hdg\">\\n                  <div class=\"float\">\\n                   <h3>\\n                    Officers and directors\\n                   </h3>\\n                  </div>\\n                  <div class=\"gf-reorder-btn SP_menu_button\">\\n                  </div>\\n                 </div>\\n                 <div class=\"sfe-section\">\\n                  <table class=\"id-mgmt-table\" width=\"100%\">\\n                   <tbody>\\n                    <tr>\\n                     <td class=\"p linkbtn\">\\n                      Art D. Levinson Ph.D.\\n                     </td>\\n                     <td class=\"i\">\\n                     </td>\\n                     <td class=\"t\">\\n                      Independent Chairman of the Board\\n                     </td>\\n                    </tr>\\n                    <tr style=\"display:none;\">\\n                     <td>\\n                      <img align=\"right\" border=\"0\" height=\"1\" width=\"1\"/>\\n                     </td>\\n                     <td class=\"i\">\\n                     </td>\\n                     <td class=\"t\">\\n                      Age: 65\\n                      <br/>\\n                      <a class=\"e-p\" href=\"//www.google.com/url?source=finance&amp;q=http%3A%2F%2Fwww.reuters.com%2Ffinance%2Fstocks%2FofficerProfile%3Fsymbol%3DAAPL.O%26officerId%3D156560&amp;ei=UxQHV-C7NYKymAHdh5-gCQ&amp;usg=AFQjCNG0EumaNJXZwyDJE3Ry_MS8eh60qg\">\\n                       Bio\\xa0&amp;\\xa0Compensation\\n                      </a>\\n                      -\\n                      <font color=\"#606060\">\\n                       Reuters\\n                      </font>\\n                      <br/>\\n                     </td>\\n                    </tr>\\n                    <tr class=\"grey-top\">\\n                     <td class=\"p linkbtn\">\\n                      Timothy D. Cook\\n                     </td>\\n                     <td class=\"i\">\\n                     </td>\\n                     <td class=\"t\">\\n                      Chief Executive Officer, Director\\n                     </td>\\n                    </tr>\\n                    <tr style=\"display:none;\">\\n                     <td>\\n                      <img align=\"right\" border=\"0\" height=\"1\" width=\"1\"/>\\n                     </td>\\n                     <td class=\"i\">\\n                     </td>\\n                     <td class=\"t\">\\n                      Age: 55\\n                      <br/>\\n                      <a class=\"e-p\" href=\"//www.google.com/url?source=finance&amp;q=http%3A%2F%2Fwww.reuters.com%2Ffinance%2Fstocks%2FofficerProfile%3Fsymbol%3DAAPL.O%26officerId%3D88090&amp;ei=UxQHV-C7NYKymAHdh5-gCQ&amp;usg=AFQjCNGxqt4vJeEPZHNKveNjhKjBeFwkkg\">\\n                       Bio\\xa0&amp;\\xa0Compensation\\n                      </a>\\n                      -\\n                      <font color=\"#606060\">\\n                       Reuters\\n                      </font>\\n                      <br/>\\n                      <a class=\"e-t\" href=\"//www.google.com/url?source=finance&amp;q=http%3A%2F%2Fbiz.yahoo.com%2Ft%2F15%2F6289.html&amp;ei=UxQHV-C7NYKymAHdh5-gCQ&amp;usg=AFQjCNFWUqd2k0s0SwaFgFQiQNhg_Q1SSg\">\\n                       Trading\\xa0Activity\\n                      </a>\\n                      -\\n                      <font color=\"#606060\">\\n                       Yahoo\\xa0Finance\\n                      </font>\\n                      <br/>\\n                     </td>\\n                    </tr>\\n                    <tr class=\"grey-top\">\\n                     <td class=\"p linkbtn\">\\n                      Luca Maestri\\n                     </td>\\n                     <td class=\"i\">\\n                     </td>\\n                     <td class=\"t\">\\n                      Chief Financial Officer, Senior Vice President, Principal Accounting Officer\\n                     </td>\\n                    </tr>\\n                    <tr style=\"display:none;\">\\n                     <td>\\n                      <img align=\"right\" border=\"0\" height=\"1\" width=\"1\"/>\\n                     </td>\\n                     <td class=\"i\">\\n                     </td>\\n                     <td class=\"t\">\\n                      Age: 52\\n                      <br/>\\n                      <a class=\"e-p\" href=\"//www.google.com/url?source=finance&amp;q=http%3A%2F%2Fwww.reuters.com%2Ffinance%2Fstocks%2FofficerProfile%3Fsymbol%3DAAPL.O%26officerId%3D2486890&amp;ei=UxQHV-C7NYKymAHdh5-gCQ&amp;usg=AFQjCNFxnrPv4scYMOYJ2wWXUTXf77QPTQ\">\\n                       Bio\\xa0&amp;\\xa0Compensation\\n                      </a>\\n                      -\\n                      <font color=\"#606060\">\\n                       Reuters\\n                      </font>\\n                      <br/>\\n                     </td>\\n                    </tr>\\n                    <tr class=\"grey-top\">\\n                     <td class=\"p linkbtn\">\\n                      Jeff Williams\\n                     </td>\\n                     <td class=\"i\">\\n                     </td>\\n                     <td class=\"t\">\\n                      Chief Operating Officer\\n                     </td>\\n                    </tr>\\n                    <tr style=\"display:none;\">\\n                     <td>\\n                      <img align=\"right\" border=\"0\" height=\"1\" width=\"1\"/>\\n                     </td>\\n                     <td class=\"i\">\\n                     </td>\\n                     <td class=\"t\">\\n                      Age: 52\\n                      <br/>\\n                      <a class=\"e-p\" href=\"//www.google.com/url?source=finance&amp;q=http%3A%2F%2Fwww.reuters.com%2Ffinance%2Fstocks%2FofficerProfile%3Fsymbol%3DAAPL.O%26officerId%3D1541701&amp;ei=UxQHV-C7NYKymAHdh5-gCQ&amp;usg=AFQjCNGTuxaJKhzk1ngycBVUI1lWDaQ2KQ\">\\n                       Bio\\xa0&amp;\\xa0Compensation\\n                      </a>\\n                      -\\n                      <font color=\"#606060\">\\n                       Reuters\\n                      </font>\\n                      <br/>\\n                     </td>\\n                    </tr>\\n                    <tr class=\"grey-top\">\\n                     <td class=\"p linkbtn\">\\n                      .. Bruce Sewell\\n                     </td>\\n                     <td class=\"i\">\\n                     </td>\\n                     <td class=\"t\">\\n                      Senior Vice President, General Counsel, Secretary\\n                     </td>\\n                    </tr>\\n                    <tr style=\"display:none;\">\\n                     <td>\\n                      <img align=\"right\" border=\"0\" height=\"1\" width=\"1\"/>\\n                     </td>\\n                     <td class=\"i\">\\n                     </td>\\n                     <td class=\"t\">\\n                      Age: 57\\n                      <br/>\\n                      <a class=\"e-p\" href=\"//www.google.com/url?source=finance&amp;q=http%3A%2F%2Fwww.reuters.com%2Ffinance%2Fstocks%2FofficerProfile%3Fsymbol%3DAAPL.O%26officerId%3D1396053&amp;ei=UxQHV-C7NYKymAHdh5-gCQ&amp;usg=AFQjCNFj1_GAOjaL58FptEQA3-UKB_r8aw\">\\n                       Bio\\xa0&amp;\\xa0Compensation\\n                      </a>\\n                      -\\n                      <font color=\"#606060\">\\n                       Reuters\\n                      </font>\\n                      <br/>\\n                     </td>\\n                    </tr>\\n                    <tr class=\"grey-top\">\\n                     <td class=\"p linkbtn\">\\n                      Phil Schiller\\n                     </td>\\n                     <td class=\"i\">\\n                     </td>\\n                     <td class=\"t\">\\n                      Senior Vice President - Worldwide Marketing\\n                     </td>\\n                    </tr>\\n                    <tr style=\"display:none;\">\\n                     <td>\\n                      <img align=\"right\" border=\"0\" height=\"1\" width=\"1\"/>\\n                     </td>\\n                     <td class=\"i\">\\n                     </td>\\n                     <td class=\"t\">\\n                      Age: 55\\n                      <br/>\\n                      <a class=\"e-p\" href=\"//www.google.com/url?source=finance&amp;q=http%3A%2F%2Fwww.reuters.com%2Ffinance%2Fstocks%2FofficerProfile%3Fsymbol%3DAAPL.O%26officerId%3D346990&amp;ei=UxQHV-C7NYKymAHdh5-gCQ&amp;usg=AFQjCNFKIgV6GhAd2N1gsyLcp26JwZ7K8g\">\\n                       Bio\\xa0&amp;\\xa0Compensation\\n                      </a>\\n                      -\\n                      <font color=\"#606060\">\\n                       Reuters\\n                      </font>\\n                      <br/>\\n                     </td>\\n                    </tr>\\n                    <tr class=\"grey-top\">\\n                     <td class=\"p linkbtn\">\\n                      Angela J. Ahrendts\\n                     </td>\\n                     <td class=\"i\">\\n                     </td>\\n                     <td class=\"t\">\\n                      Senior Vice President - Retail and Online Stores\\n                     </td>\\n                    </tr>\\n                    <tr style=\"display:none;\">\\n                     <td>\\n                      <img align=\"right\" border=\"0\" height=\"1\" width=\"1\"/>\\n                     </td>\\n                     <td class=\"i\">\\n                     </td>\\n                     <td class=\"t\">\\n                      Age: 55\\n                      <br/>\\n                      <a class=\"e-p\" href=\"//www.google.com/url?source=finance&amp;q=http%3A%2F%2Fwww.reuters.com%2Ffinance%2Fstocks%2FofficerProfile%3Fsymbol%3DAAPL.O%26officerId%3D2581904&amp;ei=UxQHV-C7NYKymAHdh5-gCQ&amp;usg=AFQjCNEV688go3uhhLF2wXeDMhp2tKT2GQ\">\\n                       Bio\\xa0&amp;\\xa0Compensation\\n                      </a>\\n                      -\\n                      <font color=\"#606060\">\\n                       Reuters\\n                      </font>\\n                      <br/>\\n                     </td>\\n                    </tr>\\n                    <tr class=\"grey-top\">\\n                     <td class=\"p linkbtn\">\\n                      Eddy Cue\\n                     </td>\\n                     <td class=\"i\">\\n                     </td>\\n                     <td class=\"t\">\\n                      Senior Vice President - Internet Software and Services\\n                     </td>\\n                    </tr>\\n                    <tr style=\"display:none;\">\\n                     <td>\\n                      <img align=\"right\" border=\"0\" height=\"1\" width=\"1\"/>\\n                     </td>\\n                     <td class=\"i\">\\n                     </td>\\n                     <td class=\"t\">\\n                      Age: 51\\n                      <br/>\\n                      <a class=\"e-p\" href=\"//www.google.com/url?source=finance&amp;q=http%3A%2F%2Fwww.reuters.com%2Ffinance%2Fstocks%2FofficerProfile%3Fsymbol%3DAAPL.O%26officerId%3D1677766&amp;ei=UxQHV-C7NYKymAHdh5-gCQ&amp;usg=AFQjCNGxEhNWWvlALxAxNcQliEJQejjhrA\">\\n                       Bio\\xa0&amp;\\xa0Compensation\\n                      </a>\\n                      -\\n                      <font color=\"#606060\">\\n                       Reuters\\n                      </font>\\n                      <br/>\\n                     </td>\\n                    </tr>\\n                    <tr class=\"grey-top\">\\n                     <td class=\"p linkbtn\">\\n                      Craig Federighi\\n                     </td>\\n                     <td class=\"i\">\\n                     </td>\\n                     <td class=\"t\">\\n                      Senior Vice President - Software Engineering\\n                     </td>\\n                    </tr>\\n                    <tr style=\"display:none;\">\\n                     <td>\\n                      <img align=\"right\" border=\"0\" height=\"1\" width=\"1\"/>\\n                     </td>\\n                     <td class=\"i\">\\n                     </td>\\n                     <td class=\"t\">\\n                      Age: 46\\n                      <br/>\\n                      <a class=\"e-p\" href=\"//www.google.com/url?source=finance&amp;q=http%3A%2F%2Fwww.reuters.com%2Ffinance%2Fstocks%2FofficerProfile%3Fsymbol%3DAAPL.O%26officerId%3D1768087&amp;ei=UxQHV-C7NYKymAHdh5-gCQ&amp;usg=AFQjCNEgGTz_hJfjnuFwahXzwnNbH_Hq7w\">\\n                       Bio\\xa0&amp;\\xa0Compensation\\n                      </a>\\n                      -\\n                      <font color=\"#606060\">\\n                       Reuters\\n                      </font>\\n                      <br/>\\n                     </td>\\n                    </tr>\\n                    <tr class=\"grey-top\">\\n                     <td class=\"p linkbtn\">\\n                      Dan Riccio\\n                     </td>\\n                     <td class=\"i\">\\n                     </td>\\n                     <td class=\"t\">\\n                      Senior Vice President - Hardware Engineering\\n                     </td>\\n                    </tr>\\n                    <tr style=\"display:none;\">\\n                     <td>\\n                      <img align=\"right\" border=\"0\" height=\"1\" width=\"1\"/>\\n                     </td>\\n                     <td class=\"i\">\\n                     </td>\\n                     <td class=\"t\">\\n                      Age: 53\\n                      <br/>\\n                      <a class=\"e-p\" href=\"//www.google.com/url?source=finance&amp;q=http%3A%2F%2Fwww.reuters.com%2Ffinance%2Fstocks%2FofficerProfile%3Fsymbol%3DAAPL.O%26officerId%3D1747873&amp;ei=UxQHV-C7NYKymAHdh5-gCQ&amp;usg=AFQjCNGVbUhWY1yQo2tlvRkJdUIjdHZURQ\">\\n                       Bio\\xa0&amp;\\xa0Compensation\\n                      </a>\\n                      -\\n                      <font color=\"#606060\">\\n                       Reuters\\n                      </font>\\n                      <br/>\\n                     </td>\\n                    </tr>\\n                   </tbody>\\n                  </table>\\n                  <div class=\"gb\">\\n                   <a href=\"//www.google.com/url?source=finance&amp;q=http%3A%2F%2Fstocks.us.reuters.com%2Fstocks%2FofficersDirectors.asp%3Fsymbol%3DAAPL.O%26WTmodLOC%3DC4-Officers-5&amp;ei=UxQHV-C7NYKymAHdh5-gCQ&amp;usg=AFQjCNGbRyJpLfmQV5ijt6wS3hGiT0nlTQ\">\\n                    Full list on Reuters \\xbb\\n                   </a>\\n                  </div>\\n                 </div>\\n                </div>\\n               </div>\\n              </div>\\n             </div>\\n            </div>\\n           </div>\\n          </div>\\n         </div>\\n        </div>\\n       </div>\\n      </div>\\n     </div>\\n    </div>\\n    <div id=\"gf-foot\">\\n     <div class=\"fjfe-footer-links\" id=\"fjfe-edition-links\">\\n      Google Finance Beta available in:\\n      <a class=\"fjfe-edition-link\" href=\"http://www.google.com.hk/finance?ei=UxQHV-C7NYKymAHdh5-gCQ\">\\n       Hong Kong\\n      </a>\\n      -\\n      <a class=\"fjfe-edition-link\" href=\"http://www.google.ca/finance?ei=UxQHV-C7NYKymAHdh5-gCQ\">\\n       Canada\\n      </a>\\n      -\\n      <a class=\"fjfe-edition-link\" href=\"http://www.google.com/finance?ei=UxQHV-C7NYKymAHdh5-gCQ\">\\n       U.S.\\n      </a>\\n      -\\n      <a class=\"fjfe-edition-link\" href=\"http://www.google.com.hk/finance?hl=zh-CN&amp;ei=UxQHV-C7NYKymAHdh5-gCQ\">\\n       China\\n      </a>\\n      -\\n      <a class=\"fjfe-edition-link\" href=\"http://www.google.co.uk/finance?ei=UxQHV-C7NYKymAHdh5-gCQ\">\\n       U.K.\\n      </a>\\n     </div>\\n     <p class=\"fjfe-footer-disclaimer\">\\n      Information is provided \"as is\" and solely for informational purposes, not for trading purposes or advice, and may be delayed.\\n      <br/>\\n      To see all exchange delays, please\\n      <a class=\"fjfe-secondary-link fjfe-no-sticky-params\" href=\"http://www.google.com/intl/en/googlefinance/disclaimer/?ei=UxQHV-C7NYKymAHdh5-gCQ\">\\n       see disclaimer\\n      </a>\\n      .\\n     </p>\\n     <div class=\"fjfe-footer-links\">\\n      \\xa92016 Google -\\n      <a href=\"http://www.google.com?hl=en&amp;ei=UxQHV-C7NYKymAHdh5-gCQ\">\\n       Google Home\\n      </a>\\n      -\\n      <a href=\"http://googlefinanceblog.blogspot.com?ei=UxQHV-C7NYKymAHdh5-gCQ\">\\n       Blog\\n      </a>\\n      -\\n      <a href=\"http://support.google.com/finance?hl=en&amp;ei=UxQHV-C7NYKymAHdh5-gCQ\">\\n       Help\\n      </a>\\n      -\\n      <a href=\"http://support.google.com/finance?ctx=report&amp;hl=en&amp;ei=UxQHV-C7NYKymAHdh5-gCQ&amp;exch=NASDAQ&amp;sym=AAPL\">\\n       Report a Problem\\n      </a>\\n      -\\n      <a href=\"http://www.google.com/intl/en/policies/privacy/?ei=UxQHV-C7NYKymAHdh5-gCQ\">\\n       Privacy Policy\\n      </a>\\n      -\\n      <a href=\"http://www.google.com/intl/en/policies/terms/?ei=UxQHV-C7NYKymAHdh5-gCQ\">\\n       Terms of Service\\n      </a>\\n     </div>\\n    </div>\\n    <script>\\n     var _chartConfigObject;\\nvar _cleardot;\\nvar _companyName;\\nvar _eventid = \\'UxQHV-C7NYKymAHdh5-gCQ\\';\\nvar _expid;\\nvar _external_target;\\nvar _localDomain = \\'www.google.com\\';\\nvar _minZoomDays;\\nvar _minZoomDaysNoIntraDay;\\nvar _prefs;\\nvar _ticker;\\nvar _urlSuffix;\\n_setStickyUrlParams(\"ei=UxQHV-C7NYKymAHdh5-gCQ\");\\nif (_s_Store) {\\n_s_Store._allowMatchAdvancedSearch = true;\\nvar _fieldToDisplayNameMap = {GrossMargin:\"Gross margin&nbsp;(%)\",Return1Week:\"1w return\",Return156Week:\"156w return\",NextYearEPS:\"Next year EPS\",LTDebtToAssetsYear:\"LT debt/assets (Recent&nbsp;yr)&nbsp;(%)\",RevenueGrowthRate5Years:\"5y revenue growth rate\",EarningsAfterTaxes:\"Earnings after taxes\",DividendPerShare:\"Div per share\",MarketCap:\"Market cap\",NetProfitMarginPercent:\"Net profit margin&nbsp;(%)\",Float:\"Float\",EarningsBeforeTaxes:\"Earnings before taxes\",QuotePercChange:\"Quote change&nbsp;(%)\",TotalDebtToEquityYear:\"Total debt/equity (Recent&nbsp;yr)&nbsp;(%)\",TotalDebtToCapitalQuarter:\"Total debt/capital (Recent&nbsp;qtr)&nbsp;(%)\",LTDebtToCapitalQuarter:\"LT debt/capital (Recent&nbsp;qtr)&nbsp;(%)\",EPSGrowthRate10Years:\"10y EPS growth rate\",Beta:\"Beta\",ReturnOnAssetsPTM:\"Return on assets (PTM)&nbsp;(%)\",CapitalGain:\"Capital gain\",BetaDown:\"Beta down from RAS\",IncomeDividend:\"Income dividend\",RevenueGrowthRate10Years:\"10y revenue growth rate\",MarketCapShareBasis:\"Market cap share basis\",IAD:\"Div rate indicated annual\",Return4Week:\"4w return\",Price150DayAverage:\"150d avg price\",EPSGrowthRate5Years:\"5y EPS growth rate\",ReturnOnAssetsTTM:\"Return on assets (TTM)&nbsp;(%)\",TotalDebtToAssetsYear:\"Total debt/assets (Recent&nbsp;yr)&nbsp;(%)\",Volume:\"Volume\",DividendRecentQuarter:\"Div recent quarter\",CurrentRatioYear:\"Current ratio\",Low52Week:\"52w low\",ExpenseRatio:\"Expense ratio\",Price13WeekPercChange:\"13w&nbsp;price change&nbsp;(%)\",Price1DayPercChange:\"1d&nbsp;price change&nbsp;(%)\",ReturnOnEquity5Years:\"Return on equity (5&nbsp;yr&nbsp;avg)&nbsp;(%)\",TotalDebtToCapitalYear:\"Total debt/capital (Recent&nbsp;yr)&nbsp;(%)\",TotalDebtToAssetsQuarter:\"Total debt/assets (Recent&nbsp;qtr)&nbsp;(%)\",NavChange:\"Nav change\",OperatingMargin:\"Operating margin&nbsp;(%)\",DPSRecentYear:\"Div per share (Recent&nbsp;yr)\",ANI:\"Earnings after taxes (Recent&nbsp;yr)\",AverageVolume:\"Average volume\",High52Week:\"52w high\",Return13Week:\"13w return\",PriceToCashFlowPerShare:\"Price to cash flow per share\",ATAXRATE:\"Tax rate (Recent&nbsp;yr)\",Price26WeekPercChange:\"26w&nbsp;price change&nbsp;(%)\",QuoteChange:\"Quote change\",NetIncomeChangePerc:\"Net income change&nbsp;(%)\",ReturnOnInvestment5Years:\"Return on investment (5&nbsp;yr&nbsp;avg)&nbsp;(%)\",PE:\"P/E ratio\",ReturnOnInvestmentYear:\"Return on investment (Recent&nbsp;yr)&nbsp;(%)\",Price200DayAverage:\"200d avg price\",DividendNextQuarter:\"Div next quarter\",EBITD:\"EBITDA\",PriceYTDPercChange:\"YTD&nbsp;price change&nbsp;(%)\",ReturnOnInvestmentTTM:\"Return on investment (TTM)&nbsp;(%)\",NavChangePercent:\"Nav change&nbsp;(%)\",EBITDMargin:\"EBITDA margin&nbsp;(%)\",LTDebtToEquityQuarter:\"LT debt/equity (Recent&nbsp;qtr)&nbsp;(%)\",BetaRAS:\"Beta from RAS\",PriceSales:\"Price to sales\",NetAssets:\"Net assets\",ReturnOnEquityTTM:\"Return on equity (TTM)&nbsp;(%)\",CashPerShareYear:\"Cash/share\",ReturnOnAssets5Years:\"Return on assets (5&nbsp;yr&nbsp;avg)&nbsp;(%)\",ReturnDay:\"1d return\",Return52Week:\"52w return\",ForwardPE1Year:\"1y fwd P/E\",NetIncomeGrowthRate5Years:\"5y net income growth rate\",DividendYield:\"Div yield&nbsp;(%)\",Dividend:\"Div from cash flow\",BetaUp:\"Beta up from RAS\",LTDebtToCapitalYear:\"LT debt/capital (Recent&nbsp;yr)&nbsp;(%)\",nprice:\"Price from RAS\",Return260Week:\"260w return\",ReturnOnEquityQuarter:\"Return on equity (Recent&nbsp;qtr)&nbsp;(%)\",ACOGS:\"Cost of goods sold\",LTDebtToAssetsQuarter:\"LT debt/assets (Recent&nbsp;qtr)&nbsp;(%)\",PriceToBook:\"Price to book\",LTDebtToEquityYear:\"LT debt/equity (Recent&nbsp;yr)&nbsp;(%)\",ReturnYTD:\"Return YTD\",ReturnOnEquityYear:\"Return on equity (Recent&nbsp;yr)&nbsp;(%)\",ReturnOnAssetsQuarter:\"Return on assets (Recent&nbsp;qtr)&nbsp;(%)\",TotalDebtToEquityQuarter:\"Total debt/equity (Recent&nbsp;qtr)&nbsp;(%)\",NavPrior:\"Nav prior\",AINTCOV:\"Interest coverage\",EPS:\"EPS\",ReturnOnInvestmentQuarter:\"Return on investment (Recent&nbsp;qtr)&nbsp;(%)\",QuoteLast:\"Last price\",Price50DayAverage:\"50d avg price\",Price4WeekPercChange:\"4w&nbsp;price change&nbsp;(%)\",ReturnOnAssetsYear:\"Return on assets (Recent&nbsp;yr)&nbsp;(%)\",MarketCapRAS:\"Mkt cap from RAS\",Price52WeekPercChange:\"52w&nbsp;price change&nbsp;(%)\",ShortInterestRatioPercent:\"Short interest ratio&nbsp;(%)\",InstitutionalPercentHeld:\"Institutional percent held\",BookValuePerShareYear:\"Book value/share\",ReturnOnEquityPTM:\"Return on equity (PTM)&nbsp;(%)\"};\\n_s_Store._asStore._addStrings(_fieldToDisplayNameMap);\\n}\\nif (_s_Store) {\\n_s_Store._allowMultipleInBox = true;\\n}\\n_regOnLoad(onCompanyLoad);\\n    </script>\\n   </div>\\n  </div>\\n  <script>\\n   var googlefinance = {i: [\"f.b.id\",\"\",null,0,\"\",0,null,[\"f.b.cf\",\"MnpGClQlpGg.en_US.\",0],[],1,[],\"UxQHV-C7NYKymAHdh5-gCQ\",\"www.google.com\",\"oepCbGVycva7lbwO4AXX8H_eGiY:1460081748037\",1]}; GF_domReady = 1;\\n  </script>\\n </body>\\n</html>'"
      ]
     },
     "execution_count": 7,
     "metadata": {},
     "output_type": "execute_result"
    }
   ],
   "source": [
    "b.prettify() # will print the html nicely"
   ]
  },
  {
   "cell_type": "code",
   "execution_count": 8,
   "metadata": {
    "collapsed": false
   },
   "outputs": [
    {
     "data": {
      "text/plain": [
       "[<span class=\"gbi\" id=\"gbn\"></span>,\n",
       " <span class=\"gbf\" id=\"gbf\"></span>,\n",
       " <span id=\"gbe\"></span>,\n",
       " <span class=\"fjfe-searchbox-button-wrapper\"><span class=\"fjfe-searchbox-button-wrapper2\"><input class=\"fjfe-searchbox-button\" tabindex=\"2\" type=\"submit\" value=\"Get quotes\"/></span></span>,\n",
       " <span class=\"fjfe-searchbox-button-wrapper2\"><input class=\"fjfe-searchbox-button\" tabindex=\"2\" type=\"submit\" value=\"Get quotes\"/></span>,\n",
       " <span class=\"fjfe-recentquotes-duration\">(<a href=\"//www.google.com/history/optout?hl=en\">30 days</a>)</span>,\n",
       " <span class=\"fjfe-chg-toggle\">chg</span>,\n",
       " <span class=\"fjfe-perc-toggle\">%</span>,\n",
       " <span class=\"pr\">\\n<span id=\"ref_22144_l\">109.38</span>\\n</span>,\n",
       " <span id=\"ref_22144_l\">109.38</span>,\n",
       " <span class=\"ch bld\"><span class=\"chr\" id=\"ref_22144_c\">-0.10</span>\\n<span class=\"chr\" id=\"ref_22144_cp\">(-0.09%)</span>\\n</span>,\n",
       " <span class=\"chr\" id=\"ref_22144_c\">-0.10</span>,\n",
       " <span class=\"chr\" id=\"ref_22144_cp\">(-0.09%)</span>,\n",
       " <span class=\"bld\" id=\"ref_22144_el\">109.38</span>,\n",
       " <span class=\"chb\" id=\"ref_22144_ec\">0.00</span>,\n",
       " <span class=\"chb\" id=\"ref_22144_ecp\">(0.00%)</span>,\n",
       " <span class=\"dis-large\"><nobr>NASDAQ\\nreal-time data -\\n<a class=\"dis-large\" href=\"//www.google.com/help/stock_disclaimer.html#realtime\">Disclaimer</a>\\n</nobr></span>,\n",
       " <span class=\"time\">4:00PM EDT</span>,\n",
       " <span class=\"settings-link\">Settings</span>,\n",
       " <span class=\"technicals-link\">Technicals</span>,\n",
       " <span style=\"white-space:nowrap;\">\\n<img alt=\"Link to chart icon.\" class=\"linktochart-img SP_link\" hight=\"9\" src=\"/finance/s/m4C5KaofCbA/images/cleardot.gif\" width=\"16\"/>\\n<span class=\"linktochart-link\">\\nLink to this view</span>\\n</span>,\n",
       " <span class=\"linktochart-link\">\\nLink to this view</span>,\n",
       " <span class=\"chart-dis\">Volume delayed by 15 mins.<br>Prices are not from all markets.<br>Sources include SIX.<br>\\n</br></br></br></span>,\n",
       " <span class=\"id-related-edit-col linkbtn\">Add or remove columns</span>]"
      ]
     },
     "execution_count": 8,
     "metadata": {},
     "output_type": "execute_result"
    }
   ],
   "source": [
    "# find all span tags\n",
    "b.findAll('span')\n",
    "# b.find_all('span') for bs4 users"
   ]
  },
  {
   "cell_type": "code",
   "execution_count": 9,
   "metadata": {
    "collapsed": true
   },
   "outputs": [],
   "source": [
    "# the pattern we recognized from the website\n",
    "re_tag = re.compile(\"ref_\\d+_l\") "
   ]
  },
  {
   "cell_type": "code",
   "execution_count": 10,
   "metadata": {
    "collapsed": false
   },
   "outputs": [],
   "source": [
    "#this tag finds the tag with the price in it!!!!\n",
    "span_tag = b.find('span', attrs={'id': re_tag}) \n",
    "# use find to return THE ONE AND ONLY span tags with an id that matches our regex\n",
    "# use findAll to find all matches"
   ]
  },
  {
   "cell_type": "code",
   "execution_count": 11,
   "metadata": {
    "collapsed": false
   },
   "outputs": [
    {
     "data": {
      "text/plain": [
       "u'109.38'"
      ]
     },
     "execution_count": 11,
     "metadata": {},
     "output_type": "execute_result"
    }
   ],
   "source": [
    "quote = span_tag.text\n",
    "quote"
   ]
  },
  {
   "cell_type": "code",
   "execution_count": null,
   "metadata": {
    "collapsed": true
   },
   "outputs": [],
   "source": []
  },
  {
   "cell_type": "code",
   "execution_count": 46,
   "metadata": {
    "collapsed": true
   },
   "outputs": [],
   "source": [
    "##### EXERCISE #####\n",
    "# Make a method  get_stock_price that takes in ANY stock ticker and grabs the current price\n",
    "# If the stock ticker doesn't exist, return -1\n",
    "\n",
    "\n",
    "\n",
    "\n",
    "\n",
    "\n"
   ]
  },
  {
   "cell_type": "code",
   "execution_count": 12,
   "metadata": {
    "collapsed": true
   },
   "outputs": [],
   "source": [
    "def get_stock_price(ticker):\n",
    "    response = requests.get(\"http://google.com/finance?q=\"+ticker)\n",
    "    parser = BeautifulSoup(response.text, \"html.parser\")\n",
    "    pattern = re.compile(\"ref_\\d+_l\")\n",
    "    span_tag = parser.find(\"span\", attrs={\"id\":pattern})\n",
    "    if span_tag:\n",
    "        return span_tag.text\n",
    "    else:\n",
    "        return -1\n",
    "    \n",
    "    \n",
    "    "
   ]
  },
  {
   "cell_type": "code",
   "execution_count": 13,
   "metadata": {
    "collapsed": false
   },
   "outputs": [
    {
     "name": "stdout",
     "output_type": "stream",
     "text": [
      "31.19\n",
      "217.96\n"
     ]
    }
   ],
   "source": [
    "for ticker in ['ge', 'spy']:\n",
    "    print get_stock_price(ticker)"
   ]
  },
  {
   "cell_type": "code",
   "execution_count": null,
   "metadata": {
    "collapsed": true
   },
   "outputs": [],
   "source": []
  },
  {
   "cell_type": "code",
   "execution_count": null,
   "metadata": {
    "collapsed": true
   },
   "outputs": [],
   "source": []
  },
  {
   "cell_type": "code",
   "execution_count": 47,
   "metadata": {
    "collapsed": true
   },
   "outputs": [],
   "source": [
    "###### UFO #######"
   ]
  },
  {
   "cell_type": "code",
   "execution_count": 17,
   "metadata": {
    "collapsed": false
   },
   "outputs": [],
   "source": [
    "r = requests.get(\"http://www.nuforc.org/webreports/ndxe201608.html\")\n",
    "b = BeautifulSoup(r.text, 'html.parser')"
   ]
  },
  {
   "cell_type": "code",
   "execution_count": 18,
   "metadata": {
    "collapsed": false
   },
   "outputs": [
    {
     "name": "stdout",
     "output_type": "stream",
     "text": [
      "8/2/16 00:45\n",
      "8/2/16 00:45\n",
      "8/2/16 00:45\n",
      "Alexandria (UK/Scotland)\n",
      "Alexandria (UK/Scotland)\n",
      "\n",
      "\n",
      "\n",
      "Light\n",
      "Light\n",
      "2 minutes\n",
      "2 minutes\n",
      "Myself and my partner where out smoking when we both seen a light (the same size as a star but brighter) travelling at great speed (abo\n",
      "Myself and my partner where out smoking when we both seen a light (the same size as a star but brighter) travelling at great speed (abo\n",
      "8/2/16\n",
      "8/2/16\n"
     ]
    }
   ],
   "source": [
    "# Let's take a look at the first sighting\n",
    "for tr in b.findAll('tr', attrs = {'valign':'TOP'})[:1]:\n",
    "    # the findChildren method returns all children underneath it\n",
    "    for child in tr.findChildren():\n",
    "        print child.text"
   ]
  },
  {
   "cell_type": "code",
   "execution_count": 19,
   "metadata": {
    "collapsed": true
   },
   "outputs": [],
   "source": [
    "# OK, it's a bit messy, Let's clean it up\n",
    "# Looks like the first element is the date, the 4th is the city, 6th if state, 8th is shape (this ones blank)\n",
    "# 13th is the summary"
   ]
  },
  {
   "cell_type": "code",
   "execution_count": 20,
   "metadata": {
    "collapsed": false
   },
   "outputs": [
    {
     "data": {
      "text/plain": [
       "{'City': [u'Alexandria (UK/Scotland)',\n",
       "  u'Hiltons',\n",
       "  u'Port Colbourne (Ontario)(Canada)',\n",
       "  u'Zurich (Switzerland)',\n",
       "  u'Shoreline',\n",
       "  u'Shelbyville',\n",
       "  u'Colorado Springs',\n",
       "  u'Omaha',\n",
       "  u'Jacksonville',\n",
       "  u'Lakewood'],\n",
       " 'Date': [u'8/2/16 00:45',\n",
       "  u'8/1/16 22:45',\n",
       "  u'8/1/16 22:30',\n",
       "  u'8/1/16 22:00',\n",
       "  u'8/1/16 21:45',\n",
       "  u'8/1/16 21:40',\n",
       "  u'8/1/16 21:30',\n",
       "  u'8/1/16 21:27',\n",
       "  u'8/1/16 20:45',\n",
       "  u'8/1/16 03:25'],\n",
       " 'Shape': [u'',\n",
       "  u'Formation',\n",
       "  u'Light',\n",
       "  u'',\n",
       "  u'Unknown',\n",
       "  u'Light',\n",
       "  u'Formation',\n",
       "  u'Circle',\n",
       "  u'Changing',\n",
       "  u'Light'],\n",
       " 'State': [u'', u'VA', u'ON', u'', u'WA', u'IN', u'CO', u'NE', u'FL', u'CO'],\n",
       " 'Summary': [u'Myself and my partner where out smoking when we both seen a light (the same size as a star but brighter) travelling at great speed (abo',\n",
       "  u'Two slow moving strobing lights moving steady in a western direction.',\n",
       "  u'LOTS OF ACTIVITY OVER LAKE ERIE DURING FIREWORKS ON CIVIC HOLIDAY.',\n",
       "  u'Four floating lights, hovered about 500m above ground then disappeared.  ((anonymous report))',\n",
       "  u'I noticed a light way up in the sky, and quickly realized a second light following.  ((anonymous report))',\n",
       "  u\"Orange orb gliding above tree line from east to west.  It blinked it's light off then on 3-4 times and dropped a faint silver object.\",\n",
       "  u'5 colored lights moving in sky east to west.',\n",
       "  u'Black ufo spotted on a late night drive.',\n",
       "  u'Three bright reds lights crossing the sky, and straight up and out of site.',\n",
       "  u'Sky cracked open.']}"
      ]
     },
     "execution_count": 20,
     "metadata": {},
     "output_type": "execute_result"
    }
   ],
   "source": [
    "ufo_sightings = {\n",
    "        'Date':[],\n",
    "        'City':[],\n",
    "        'State':[],\n",
    "        'Shape':[],\n",
    "        'Summary':[]\n",
    "    }\n",
    "\n",
    "for tr in b.findAll('tr', attrs = {'valign':'TOP'}):\n",
    "    # the findChildren method returns all children underneath it\n",
    "    ufo_sighting_info = []\n",
    "    for child in tr.findChildren():\n",
    "        ufo_sighting_info.append(child.text)\n",
    "    ufo_sightings['Date'].append(ufo_sighting_info[0])\n",
    "    ufo_sightings['City'].append(ufo_sighting_info[3])\n",
    "    ufo_sightings['State'].append(ufo_sighting_info[5])\n",
    "    ufo_sightings['Shape'].append(ufo_sighting_info[7])\n",
    "    ufo_sightings['Summary'].append(ufo_sighting_info[12])\n",
    "\n",
    "ufo_sightings"
   ]
  },
  {
   "cell_type": "code",
   "execution_count": 21,
   "metadata": {
    "collapsed": true
   },
   "outputs": [],
   "source": [
    "import pandas as pd"
   ]
  },
  {
   "cell_type": "code",
   "execution_count": 22,
   "metadata": {
    "collapsed": false
   },
   "outputs": [
    {
     "data": {
      "text/html": [
       "<div>\n",
       "<table border=\"1\" class=\"dataframe\">\n",
       "  <thead>\n",
       "    <tr style=\"text-align: right;\">\n",
       "      <th></th>\n",
       "      <th>City</th>\n",
       "      <th>Date</th>\n",
       "      <th>Shape</th>\n",
       "      <th>State</th>\n",
       "      <th>Summary</th>\n",
       "    </tr>\n",
       "  </thead>\n",
       "  <tbody>\n",
       "    <tr>\n",
       "      <th>0</th>\n",
       "      <td>Alexandria (UK/Scotland)</td>\n",
       "      <td>8/2/16 00:45</td>\n",
       "      <td></td>\n",
       "      <td></td>\n",
       "      <td>Myself and my partner where out smoking when w...</td>\n",
       "    </tr>\n",
       "    <tr>\n",
       "      <th>1</th>\n",
       "      <td>Hiltons</td>\n",
       "      <td>8/1/16 22:45</td>\n",
       "      <td>Formation</td>\n",
       "      <td>VA</td>\n",
       "      <td>Two slow moving strobing lights moving steady ...</td>\n",
       "    </tr>\n",
       "    <tr>\n",
       "      <th>2</th>\n",
       "      <td>Port Colbourne (Ontario)(Canada)</td>\n",
       "      <td>8/1/16 22:30</td>\n",
       "      <td>Light</td>\n",
       "      <td>ON</td>\n",
       "      <td>LOTS OF ACTIVITY OVER LAKE ERIE DURING FIREWOR...</td>\n",
       "    </tr>\n",
       "    <tr>\n",
       "      <th>3</th>\n",
       "      <td>Zurich (Switzerland)</td>\n",
       "      <td>8/1/16 22:00</td>\n",
       "      <td></td>\n",
       "      <td></td>\n",
       "      <td>Four floating lights, hovered about 500m above...</td>\n",
       "    </tr>\n",
       "    <tr>\n",
       "      <th>4</th>\n",
       "      <td>Shoreline</td>\n",
       "      <td>8/1/16 21:45</td>\n",
       "      <td>Unknown</td>\n",
       "      <td>WA</td>\n",
       "      <td>I noticed a light way up in the sky, and quick...</td>\n",
       "    </tr>\n",
       "    <tr>\n",
       "      <th>5</th>\n",
       "      <td>Shelbyville</td>\n",
       "      <td>8/1/16 21:40</td>\n",
       "      <td>Light</td>\n",
       "      <td>IN</td>\n",
       "      <td>Orange orb gliding above tree line from east t...</td>\n",
       "    </tr>\n",
       "    <tr>\n",
       "      <th>6</th>\n",
       "      <td>Colorado Springs</td>\n",
       "      <td>8/1/16 21:30</td>\n",
       "      <td>Formation</td>\n",
       "      <td>CO</td>\n",
       "      <td>5 colored lights moving in sky east to west.</td>\n",
       "    </tr>\n",
       "    <tr>\n",
       "      <th>7</th>\n",
       "      <td>Omaha</td>\n",
       "      <td>8/1/16 21:27</td>\n",
       "      <td>Circle</td>\n",
       "      <td>NE</td>\n",
       "      <td>Black ufo spotted on a late night drive.</td>\n",
       "    </tr>\n",
       "    <tr>\n",
       "      <th>8</th>\n",
       "      <td>Jacksonville</td>\n",
       "      <td>8/1/16 20:45</td>\n",
       "      <td>Changing</td>\n",
       "      <td>FL</td>\n",
       "      <td>Three bright reds lights crossing the sky, and...</td>\n",
       "    </tr>\n",
       "    <tr>\n",
       "      <th>9</th>\n",
       "      <td>Lakewood</td>\n",
       "      <td>8/1/16 03:25</td>\n",
       "      <td>Light</td>\n",
       "      <td>CO</td>\n",
       "      <td>Sky cracked open.</td>\n",
       "    </tr>\n",
       "  </tbody>\n",
       "</table>\n",
       "</div>"
      ],
      "text/plain": [
       "                               City          Date      Shape State  \\\n",
       "0          Alexandria (UK/Scotland)  8/2/16 00:45                    \n",
       "1                           Hiltons  8/1/16 22:45  Formation    VA   \n",
       "2  Port Colbourne (Ontario)(Canada)  8/1/16 22:30      Light    ON   \n",
       "3              Zurich (Switzerland)  8/1/16 22:00                    \n",
       "4                         Shoreline  8/1/16 21:45    Unknown    WA   \n",
       "5                       Shelbyville  8/1/16 21:40      Light    IN   \n",
       "6                  Colorado Springs  8/1/16 21:30  Formation    CO   \n",
       "7                             Omaha  8/1/16 21:27     Circle    NE   \n",
       "8                      Jacksonville  8/1/16 20:45   Changing    FL   \n",
       "9                          Lakewood  8/1/16 03:25      Light    CO   \n",
       "\n",
       "                                             Summary  \n",
       "0  Myself and my partner where out smoking when w...  \n",
       "1  Two slow moving strobing lights moving steady ...  \n",
       "2  LOTS OF ACTIVITY OVER LAKE ERIE DURING FIREWOR...  \n",
       "3  Four floating lights, hovered about 500m above...  \n",
       "4  I noticed a light way up in the sky, and quick...  \n",
       "5  Orange orb gliding above tree line from east t...  \n",
       "6       5 colored lights moving in sky east to west.  \n",
       "7           Black ufo spotted on a late night drive.  \n",
       "8  Three bright reds lights crossing the sky, and...  \n",
       "9                                  Sky cracked open.  "
      ]
     },
     "execution_count": 22,
     "metadata": {},
     "output_type": "execute_result"
    }
   ],
   "source": [
    "pd.DataFrame(ufo_sightings) # MAGIC"
   ]
  },
  {
   "cell_type": "code",
   "execution_count": null,
   "metadata": {
    "collapsed": true
   },
   "outputs": [],
   "source": []
  },
  {
   "cell_type": "code",
   "execution_count": 26,
   "metadata": {
    "collapsed": false
   },
   "outputs": [],
   "source": []
  },
  {
   "cell_type": "code",
   "execution_count": 25,
   "metadata": {
    "collapsed": false
   },
   "outputs": [],
   "source": []
  },
  {
   "cell_type": "code",
   "execution_count": null,
   "metadata": {
    "collapsed": false,
    "scrolled": false
   },
   "outputs": [],
   "source": []
  },
  {
   "cell_type": "code",
   "execution_count": null,
   "metadata": {
    "collapsed": false
   },
   "outputs": [],
   "source": [
    "# SOME MORE EXAMPLES"
   ]
  },
  {
   "cell_type": "code",
   "execution_count": null,
   "metadata": {
    "collapsed": false
   },
   "outputs": [],
   "source": [
    "# NY TIMES ARTICLES ON HOME PAGE"
   ]
  },
  {
   "cell_type": "code",
   "execution_count": 27,
   "metadata": {
    "collapsed": false
   },
   "outputs": [
    {
     "name": "stdout",
     "output_type": "stream",
     "text": [
      "Release of Code Raises Fears That the N.S.A. Was Hacked\n",
      "Early Voting Leaves Trump With Less Time to Catch Up\n",
      "Ousted Fox News Chief Ailes Advising Trump for Debates\n",
      "Clinton Warns Supporters to Avoid Complacency 8:42 PM ET\n",
      "F.B.I. Gives Congress Documents Related to Clinton E-Mail Case 5:38 PM ET\n",
      " Podcast: Why They Don’t Trust Her\n",
      "Death Toll Rises as Louisiana Faces a Flood ‘Disaster’\n",
      "For a Glimpse of Climate Change, Look to the South \n",
      "\n",
      "                                            Deadly Floods                                    \n",
      "Hand in Hand: Did German Twins’ Finish Cross a Line?\n",
      "\n",
      "                                            Meet the Biles Family                                    \n",
      "Rio Today: Simone Biles Soars to Fourth Gold Medal\n",
      "Your Evening Briefing\n",
      "18 Recipes to Replace That Sad Desk Lunch\n",
      "How to Get the Most out of Visiting World-Famous Sites\n",
      "John McLaughlin, Scrappy Political Pundit, Dies at 89\n",
      "Univision Is Said to Buy Gawker for $135 Million\n",
      "Evictions by Armed Men Rattle Mexican Tourist Town\n",
      "In August, City Council Slows but It Does Not Stop\n",
      "Russia Uses Iran Base to Raid Syria, Expanding Its Reach 7:43 PM ET\n",
      "Bus of Nepal Quake Survivors Falls Off Road, Killing 27 5:39 PM ET\n",
      "Pennsylvania’s Top Prosecutor Resigns After Conviction 8:30 PM ET\n",
      "El Chapo’s Son Is Kidnapped From a Party in Mexico 10:05 PM ET\n",
      "University of California, Berkeley’s Chancellor Resigns 10:09 PM ET\n",
      "\n",
      "In This ‘Groundhog Day,’ a Strikingly Fresh Déjà Vu\n",
      "\n",
      "\n",
      "Q. and A.: Anthony Weiner Is Keeping Busy\n",
      "\n",
      "\n",
      "Where Germany (but Not German) Inspired Twain\n",
      "\n",
      "Obamacare Will Survive Aetna’s Retreat\n",
      "Editorial: Mr. Trump’s Foreign Policy Confusions \n",
      "Room for Debate: How Do Olympians Stay So Driven? \n",
      "Op-Ed: The Demise of a Prison Lord \n",
      "Join us on Facebook » \n",
      "The Umbrella Movement Fights Back\n",
      "Taking Note: Why Donald Trump’s Test for Immigrants Won’t Work \n",
      "Op-Ed: How Do Trump’s Conspiracy Theories Go Over in the Middle East? Dangerously. \n",
      "\n",
      "Brazil Bureau Chief’s Notebook: When the Olympics Media Circus Comes to Town\n",
      "\n",
      "\n",
      "I Tracked and Tried to Outsmart ‘Hamilton’ Scalpers — With 341 Lines of Code\n",
      "\n",
      "\n",
      "Brazil Bureau Chief’s Notebook: When the Olympics Media Circus Comes to Town\n",
      "\n",
      "\n",
      "Play Today’s Puzzle \n",
      "\n",
      "\n",
      "Play Today’s Puzzle \n",
      "\n",
      "\n",
      "Come On Along With Us\n",
      "\n",
      "341 Lines of Code to Track ‘Hamilton’ Scalpers\n",
      "Op-Ed: Get Out of Gun Control, Apple\n",
      "Taking Summer School to Get Ahead, Not Catch Up\n",
      "MTV Classic: Millennial Nostalgia, Only on TV\n",
      "Peter Thiel: Privacy Issues Won’t End With Gawker\n",
      "Caleb Carr’s New Thriller Takes On Fancy Forensics\n",
      "The Way to Get Rid of Racism? Redefine It.\n",
      "How Do Olympians Stay So Driven?\n",
      "Guantánamo Transfer Is Largest of the Obama Era\n",
      "How the Arab World Came Apart\n",
      "Op-Ed: The Umbrella Movement Fights Back\n",
      "The Next Steps for Marijuana in Canada\n",
      "\n",
      "\n",
      "            Tulum Journal: Evictions by Armed Men Rattle a Mexican Tourist Paradise        \n",
      "\n",
      "\n",
      "\n",
      "            Son of El Chapo Is Kidnapped at Gunpoint From a Party in Mexico        \n",
      "\n",
      "\n",
      "\n",
      "            Deal Professor: Tech Giants Gobble Start-Ups in an Antitrust Blind Spot        \n",
      "\n",
      "\n",
      "\n",
      "            Ford Promises Fleets of Driverless Cars Within Five Years        \n",
      "\n",
      "\n",
      "\n",
      "            Editorial: Obamacare Will Survive Aetna’s Retreat        \n",
      "\n",
      "\n",
      "\n",
      "            Roger Cohen: Brazil’s Uplifting Olympics        \n",
      "\n",
      "\n",
      "\n",
      "            As Louisiana Floodwaters Recede, the Scope of Disaster Comes Into View        \n",
      "\n",
      "\n",
      "\n",
      "            Pennsylvania Attorney General Quits on Heels of Perjury Conviction        \n",
      "\n",
      "\n",
      "\n",
      "            Deal Professor: Tech Giants Gobble Start-Ups in an Antitrust Blind Spot        \n",
      "\n",
      "\n",
      "\n",
      "            China Launches Quantum Satellite in Bid to Pioneer Secure Communications        \n",
      "\n",
      "\n",
      "\n",
      "            Brantley in Britain: Review: ‘Groundhog Day,’ All Over Again, Now With Song and Dance        \n",
      "\n",
      "\n",
      "\n",
      "            Books of The Times: Review: ‘The Fire This Time,’ Stoked by Baldwin’s Legacy        \n",
      "\n",
      "\n",
      "\n",
      "            Political Memo: Martha’s Vineyard Longs for a President Who R.S.V.P.s ‘Yes’        \n",
      "\n",
      "\n",
      "\n",
      "            Trump Casinos’ Tax Debt Was $30 Million. Then Christie Took Office.          \n",
      "\n",
      "\n",
      "\n",
      "            Sharing a Life, but Not a Worldview: Readers React to Trump-Clinton Couples        \n",
      "\n",
      "\n",
      "\n",
      "            Pippa Middleton Goes Out on Her Own. But She’s Not Alone.        \n",
      "\n",
      "\n",
      "\n",
      "            8 Gold-Worthy Olympics Movies        \n",
      "\n",
      "\n",
      "\n",
      "            Review: ‘When Two Worlds Collide’ Portrays a Battle for the Amazon        \n",
      "\n",
      "\n",
      "\n",
      "            First-Degree Murder Charge Added in Killing of Queens Imam and Aide        \n",
      "\n",
      "\n",
      "\n",
      "            Searching for a Great White Shark, in the Waters Off Long Island        \n",
      "\n",
      "\n",
      "\n",
      "            On Olympics: The Anatomy of a Dive Across the Finish Line        \n",
      "\n",
      "\n",
      "\n",
      "            Rio 2016: Rio Olympics Today: Simone Biles Soars to Fourth Gold Medal        \n",
      "\n",
      "\n",
      "\n",
      "            Critic’s Notebook: Finding Some Treasures at FringeNYC        \n",
      "\n",
      "\n",
      "\n",
      "            Brantley in Britain: Summertime, and the Revivals in London are Breezy        \n",
      "\n",
      "\n",
      "\n",
      "            The Psychiatric Question: Is It Fair to Analyze Donald Trump From Afar?        \n",
      "\n",
      "\n",
      "\n",
      "            China Launches Quantum Satellite in Bid to Pioneer Secure Communications        \n",
      "\n",
      "\n",
      "\n",
      "            Bobby Hutcherson, Vibraphonist With Coloristic Range of Sound, Dies at 75        \n",
      "\n",
      "\n",
      "\n",
      "            Joel Cornette, Star Basketball Player for Butler, Dies at 35        \n",
      "\n",
      "\n",
      "\n",
      "            After His Show Is Canceled, Larry Wilmore Thanks Fans and Comedy Central        \n",
      "\n",
      "\n",
      "\n",
      "            The Strange Business of Scoring ‘Stranger Things’        \n",
      "\n",
      "\n",
      "\n",
      "            Osteoporosis, a Disease With Few Treatment Options, May Soon Have One More        \n",
      "\n",
      "\n",
      "\n",
      "            The Psychiatric Question: Is It Fair to Analyze Donald Trump From Afar?        \n",
      "\n",
      "\n",
      "\n",
      "            Pursuits: Uncovering Gay History in San Francisco        \n",
      "\n",
      "\n",
      "\n",
      "            36 Hours: 36 Hours in Minneapolis        \n",
      "\n",
      "\n",
      "\n",
      "            Books of The Times: From Bare Knuckles to Idealism in ‘Bobby Kennedy: The Making of a Liberal Icon’        \n",
      "\n",
      "\n",
      "\n",
      "            Egos: ‘Inside My Head I’m a Girl’: Three Ways of Growing Up Gay        \n",
      "\n",
      "\n",
      "\n",
      "            Your Money Adviser: Earlier Date for Filing Fafsa Form for College Aid        \n",
      "\n",
      "\n",
      "\n",
      "            Employees Sue Four More Universities Over Retirement Plan Fees        \n",
      "\n",
      "\n",
      "\n",
      "            Recipe Lab: Building a Better Vegetable Gratin        \n",
      "\n",
      "\n",
      "\n",
      "            The Movement to Define Native American Cuisine        \n",
      "\n",
      "\n",
      "\n",
      "            Editorial: Donald Trump Courts the Gun Zealots        \n",
      "\n",
      "\n",
      "\n",
      "            Frank Bruni: To Get to Harvard, Go to Haiti?        \n",
      "\n",
      "\n",
      "\n",
      "            An Island in Maine, Four Sisters, Four Houses        \n",
      "\n",
      "\n",
      "\n",
      "            What's Selling Now: Homes That Sold for $700,000 to $899,000        \n",
      "\n",
      "\n",
      "\n",
      "            Who Will Be President?        \n",
      "\n",
      "\n",
      "\n",
      "            Public Safety: Is Terrorism Getting Worse? In the West, Yes. In the World, No.        \n",
      "\n",
      "\n",
      "\n",
      "            First Words: The Easiest Way to Get Rid of Racism? Just Redefine It.        \n",
      "\n",
      "\n",
      "\n",
      "            On Sports: How Do You Tell a Better Story in Sports?        \n",
      "\n",
      "\n",
      "\n",
      "            Driven: Video Review: The Ferrari 488 GTB Is an Operatic Thrill        \n",
      "\n",
      "\n",
      "\n",
      "            New Rules Require Heavy-Duty Trucks to Reduce Emissions by 25% Over the Next Decade        \n",
      "\n",
      "\n",
      "\n",
      "            A Brooklyn Cocktail Bar Dedicated to One Unexpected Ingredient        \n",
      "\n",
      "\n",
      "\n",
      "            Three's a Trend: Fashion, Food and Fitness Greats Give Back to Rio        \n",
      "\n",
      "\n",
      "\n",
      "            Cooking Club: The Gray Ladle: Summer Produce        \n",
      "\n",
      "\n",
      "\n",
      "            Brazil Bureau Chief’s Notebook: When the Olympics Media Circus Comes to Town        \n",
      "\n",
      "Brown Water in a Rental\n",
      "Search for Homes for Sale or Rent\n",
      "Sell Your Home\n"
     ]
    }
   ],
   "source": [
    "response = requests.get(\"http://www.nytimes.com/\")\n",
    "parser = BeautifulSoup(response.text, \"html.parser\")\n",
    "for story in parser.findAll(\"h2\", attrs={'class':'story-heading'}):\n",
    "    print story.text"
   ]
  },
  {
   "cell_type": "code",
   "execution_count": 28,
   "metadata": {
    "collapsed": false
   },
   "outputs": [],
   "source": [
    "# WIKIPEDIA FEATURED ARTICLE\n",
    "response = requests.get(\"https://en.wikipedia.org/wiki/Wikipedia:Today%27s_featured_article\")\n",
    "parser = BeautifulSoup(response.text, \"html.parser\")"
   ]
  },
  {
   "cell_type": "code",
   "execution_count": 29,
   "metadata": {
    "collapsed": false
   },
   "outputs": [
    {
     "data": {
      "text/plain": [
       "u'\\n\\n\\nToday\\'s featured article\\n\\nAt the top of the Main Page, a summarized lead section from one of Wikipedia\\'s featured articles is displayed as \"Today\\'s featured article\" (TFA). The current month\\'s queue can be found here. TFAs are scheduled by the TFA coordinators, Brianboulton (Brian), Crisco 1492 (Chris) and Dank (Dan). Community discussion of suggestions takes place at the TFA requests page.\\nIf you notice an error in a future TFA summary, you\\'re welcome to fix it yourself, but if the mistake is in today\\'s or tomorrow\\'s summary, you can leave a message at WP:ERRORS to ask an administrator to fix it. The summaries are formatted as a single paragraph of around 1,150 characters (including spaces), with no reference tags or alternative names. Only the link to the specified featured article is bolded, and this must be the first link. The summary should be preceded by an appropriate image when available; fair use images are not allowed.\\nThe editnotice template for Today\\'s Featured Article is {{TFA-editnotice}}. It is automatically applied by {{Editnotices/Namespace/Main}} when the article\\'s title matches the contents of {{TFA title}}. To contact the TFA coordinators, please leave a message on the TFA talk page, or type \"{{@TFA}}\" in a signed comment on any talk page.\\n\\n\\n\\nShortcuts:\\n\\nWP:TFA\\nWP:TOFA\\n\\n\\n\\n\\nv\\nt\\ne\\n\\n\\nFeatured content:\\n\\nFeatured articles \\u2190\\nFeatured lists\\nFeatured pictures\\nFeatured portals\\nFeatured topics\\n\\nToday\\'s featured article (TFA):\\n\\nThis month\\'s queue\\nRecent TFAs and statistics\\nCurrent TFA requests\\nPotential TFA requests\\nTFA oddities\\nMost viewed TFAs\\nFeatured articles yet to appear as TFA\\n\\nFeatured article tools:\\n\\nFeatured article criteria\\nFeatured article candidates\\nFeatured article review\\nFeatured article log\\nFeatured article statistics\\nRandom featured article\\nFormer featured articles\\n\\n\\n\\n\\n\\n\\n\\nToday\\'s featured article archive\\n\\n2004\\n2005\\n2006\\n2007\\n2008\\n2009\\n2010\\n2011\\n2012\\n2013\\n2014\\n2015\\n2016\\n\\n\\nJanuary\\nFebruary\\nMarch\\nApril\\nMay\\nJune\\nJuly\\nAugust\\nSeptember\\nOctober\\nNovember\\nDecember\\n\\n\\nPurge cache for this page \\xb7 Purge the main page cache\\n\\n\\n\\n\\n\\n\\n\\n\\n\\nToday\\'s featured article\\n\\n\\n\\n\\n\\nBanksia scabrella, commonly known as the Burma Road banksia, is a species of woody shrub in the genus Banksia. It is classified in the series Abietinae, a group of several species of shrubs with small round or oval flower spikes. It occurs in several isolated populations south of Geraldton, Western Australia; the largest is south and east of Mount Adams. Found on sandy soils in heathland or shrubland, it grows to 2\\xa0m (7\\xa0ft) high and 3\\xa0m (10\\xa0ft) across with fine needle-like leaves. Appearing in spring and summer, the flower spikes are tan to cream with purple styles. B. scabrella is killed by fire and regenerates by seed. Originally collected in 1966, it was one of several species previously considered to be forms of Banksia sphaerocarpa, before it was finally described by banksia expert Alex George in his 1981 revision of the genus. Like many members of the Abietinae, it is rarely seen in cultivation, but has been described as having horticultural potential. (Full\\xa0article...)\\nRecently featured:\\n\\n\\n24th Waffen Mountain Division of the SS Karstj\\xe4ger\\nThe Seduction of Ingmar Bergman\\nMeteorological history of Hurricane Dean\\n\\n\\n\\n\\n\\nArchive\\nBy email\\nMore featured articles...\\n\\n\\n\\n\\n\\n\\n\\n\\n\\n\\n\\n\\n\\n\\nTomorrow\\'s featured article\\n\\n\\n\\n\\n\\n\\n\\nHMS Formidable was an Illustrious-class aircraft carrier ordered for the Royal Navy before World War II. Transferred to the Mediterranean Fleet as a replacement for the crippled sister ship Illustrious, Formidable\\'s aircraft played a key role in the Battle of Cape Matapan in early 1941, then provided cover for Allied ships and attacked Axis forces until the carrier was badly damaged by German dive bombers in May. Assigned to the Eastern Fleet in the Indian Ocean in early 1942, the carrier covered the invasion of Diego Suarez in Vichy Madagascar in mid-1942 against the possibility of a sortie by the Japanese into the Indian Ocean. The ship participated in Operation Torch, the invasion of French North Africa, in November, and covered the invasions of Sicily and mainland Italy in 1943. Formidable made several attacks on the German battleship\\xa0Tirpitz in Norway with the Home Fleet in mid-1944, and in 1945 attacked targets in the Japanese Home Islands. After repatriating liberated Allied prisoners of war and soldiers and ferrying British personnel across the globe, the ship was placed in reserve, and finally sold for scrap in 1953. (Full\\xa0article...)\\nRecently featured:\\n\\n\\nBanksia scabrella\\n24th Waffen Mountain Division of the SS Karstj\\xe4ger\\nThe Seduction of Ingmar Bergman\\n\\n\\n\\n\\n\\nArchive\\nBy email\\nMore featured articles...\\n\\n\\n\\n\\n\\n\\n\\n\\n\\n'"
      ]
     },
     "execution_count": 29,
     "metadata": {},
     "output_type": "execute_result"
    }
   ],
   "source": [
    "parser.find('div', attrs={'id':'mw-content-text'}).text"
   ]
  },
  {
   "cell_type": "code",
   "execution_count": null,
   "metadata": {
    "collapsed": true
   },
   "outputs": [],
   "source": []
  }
 ],
 "metadata": {
  "anaconda-cloud": {},
  "kernelspec": {
   "display_name": "Python [sfdat26-env]",
   "language": "python",
   "name": "Python [sfdat26-env]"
  },
  "language_info": {
   "codemirror_mode": {
    "name": "ipython",
    "version": 2
   },
   "file_extension": ".py",
   "mimetype": "text/x-python",
   "name": "python",
   "nbconvert_exporter": "python",
   "pygments_lexer": "ipython2",
   "version": "2.7.12"
  }
 },
 "nbformat": 4,
 "nbformat_minor": 0
}
