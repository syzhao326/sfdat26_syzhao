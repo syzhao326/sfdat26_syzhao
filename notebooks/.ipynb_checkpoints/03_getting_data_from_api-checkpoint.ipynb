{
 "cells": [
  {
   "cell_type": "code",
   "execution_count": 4,
   "metadata": {
    "collapsed": false
   },
   "outputs": [
    {
     "data": {
      "text/plain": [
       "'\\nCLASS: Getting Data from APIs\\n\\nWhat is an API?\\n- Application Programming Interface\\n- Structured way to expose specific functionality and data access to users\\n- Web APIs usually follow the \"REST\" standard\\n\\nHow to interact with an API:\\n- Make a \"request\" to a specific URL (an \"endpoint\"), and get the data back in a \"response\"\\n- Most relevant request method for us is GET (other methods: POST, PUT, DELETE)\\n- Response is often JSON format\\n- Web console is sometimes available (allows you to explore an API)\\n'"
      ]
     },
     "execution_count": 4,
     "metadata": {},
     "output_type": "execute_result"
    }
   ],
   "source": [
    "'''\n",
    "CLASS: Getting Data from APIs\n",
    "\n",
    "What is an API?\n",
    "- Application Programming Interface\n",
    "- Structured way to expose specific functionality and data access to users\n",
    "- Web APIs usually follow the \"REST\" standard\n",
    "\n",
    "How to interact with an API:\n",
    "- Make a \"request\" to a specific URL (an \"endpoint\"), and get the data back in a \"response\"\n",
    "- Most relevant request method for us is GET (other methods: POST, PUT, DELETE)\n",
    "- Response is often JSON format\n",
    "- Web console is sometimes available (allows you to explore an API)\n",
    "'''"
   ]
  },
  {
   "cell_type": "code",
   "execution_count": 1,
   "metadata": {
    "collapsed": false
   },
   "outputs": [],
   "source": [
    "import pandas as pd\n",
    "import requests"
   ]
  },
  {
   "cell_type": "code",
   "execution_count": 6,
   "metadata": {
    "collapsed": false
   },
   "outputs": [
    {
     "data": {
      "text/html": [
       "<div>\n",
       "<table border=\"1\" class=\"dataframe\">\n",
       "  <thead>\n",
       "    <tr style=\"text-align: right;\">\n",
       "      <th></th>\n",
       "      <th>star_rating</th>\n",
       "      <th>title</th>\n",
       "      <th>content_rating</th>\n",
       "      <th>genre</th>\n",
       "      <th>duration</th>\n",
       "      <th>actors_list</th>\n",
       "    </tr>\n",
       "  </thead>\n",
       "  <tbody>\n",
       "    <tr>\n",
       "      <th>0</th>\n",
       "      <td>9.3</td>\n",
       "      <td>The Shawshank Redemption</td>\n",
       "      <td>R</td>\n",
       "      <td>Crime</td>\n",
       "      <td>142</td>\n",
       "      <td>[u'Tim Robbins', u'Morgan Freeman', u'Bob Gunt...</td>\n",
       "    </tr>\n",
       "    <tr>\n",
       "      <th>1</th>\n",
       "      <td>9.2</td>\n",
       "      <td>The Godfather</td>\n",
       "      <td>R</td>\n",
       "      <td>Crime</td>\n",
       "      <td>175</td>\n",
       "      <td>[u'Marlon Brando', u'Al Pacino', u'James Caan']</td>\n",
       "    </tr>\n",
       "    <tr>\n",
       "      <th>2</th>\n",
       "      <td>9.1</td>\n",
       "      <td>The Godfather: Part II</td>\n",
       "      <td>R</td>\n",
       "      <td>Crime</td>\n",
       "      <td>200</td>\n",
       "      <td>[u'Al Pacino', u'Robert De Niro', u'Robert Duv...</td>\n",
       "    </tr>\n",
       "    <tr>\n",
       "      <th>3</th>\n",
       "      <td>9.0</td>\n",
       "      <td>The Dark Knight</td>\n",
       "      <td>PG-13</td>\n",
       "      <td>Action</td>\n",
       "      <td>152</td>\n",
       "      <td>[u'Christian Bale', u'Heath Ledger', u'Aaron E...</td>\n",
       "    </tr>\n",
       "    <tr>\n",
       "      <th>4</th>\n",
       "      <td>8.9</td>\n",
       "      <td>Pulp Fiction</td>\n",
       "      <td>R</td>\n",
       "      <td>Crime</td>\n",
       "      <td>154</td>\n",
       "      <td>[u'John Travolta', u'Uma Thurman', u'Samuel L....</td>\n",
       "    </tr>\n",
       "  </tbody>\n",
       "</table>\n",
       "</div>"
      ],
      "text/plain": [
       "   star_rating                     title content_rating   genre  duration  \\\n",
       "0          9.3  The Shawshank Redemption              R   Crime       142   \n",
       "1          9.2             The Godfather              R   Crime       175   \n",
       "2          9.1    The Godfather: Part II              R   Crime       200   \n",
       "3          9.0           The Dark Knight          PG-13  Action       152   \n",
       "4          8.9              Pulp Fiction              R   Crime       154   \n",
       "\n",
       "                                         actors_list  \n",
       "0  [u'Tim Robbins', u'Morgan Freeman', u'Bob Gunt...  \n",
       "1    [u'Marlon Brando', u'Al Pacino', u'James Caan']  \n",
       "2  [u'Al Pacino', u'Robert De Niro', u'Robert Duv...  \n",
       "3  [u'Christian Bale', u'Heath Ledger', u'Aaron E...  \n",
       "4  [u'John Travolta', u'Uma Thurman', u'Samuel L....  "
      ]
     },
     "execution_count": 6,
     "metadata": {},
     "output_type": "execute_result"
    }
   ],
   "source": [
    "# read IMDb data into a DataFrame: we want a year column!\n",
    "movies = pd.read_csv('../data/imdb_1000.csv')\n",
    "movies.head()"
   ]
  },
  {
   "cell_type": "code",
   "execution_count": 7,
   "metadata": {
    "collapsed": false
   },
   "outputs": [
    {
     "name": "stdout",
     "output_type": "stream",
     "text": [
      "(979, 6)\n"
     ]
    },
    {
     "data": {
      "text/html": [
       "<div>\n",
       "<table border=\"1\" class=\"dataframe\">\n",
       "  <thead>\n",
       "    <tr style=\"text-align: right;\">\n",
       "      <th></th>\n",
       "      <th>star_rating</th>\n",
       "      <th>duration</th>\n",
       "    </tr>\n",
       "  </thead>\n",
       "  <tbody>\n",
       "    <tr>\n",
       "      <th>count</th>\n",
       "      <td>979.000000</td>\n",
       "      <td>979.000000</td>\n",
       "    </tr>\n",
       "    <tr>\n",
       "      <th>mean</th>\n",
       "      <td>7.889785</td>\n",
       "      <td>120.979571</td>\n",
       "    </tr>\n",
       "    <tr>\n",
       "      <th>std</th>\n",
       "      <td>0.336069</td>\n",
       "      <td>26.218010</td>\n",
       "    </tr>\n",
       "    <tr>\n",
       "      <th>min</th>\n",
       "      <td>7.400000</td>\n",
       "      <td>64.000000</td>\n",
       "    </tr>\n",
       "    <tr>\n",
       "      <th>25%</th>\n",
       "      <td>7.600000</td>\n",
       "      <td>102.000000</td>\n",
       "    </tr>\n",
       "    <tr>\n",
       "      <th>50%</th>\n",
       "      <td>7.800000</td>\n",
       "      <td>117.000000</td>\n",
       "    </tr>\n",
       "    <tr>\n",
       "      <th>75%</th>\n",
       "      <td>8.100000</td>\n",
       "      <td>134.000000</td>\n",
       "    </tr>\n",
       "    <tr>\n",
       "      <th>max</th>\n",
       "      <td>9.300000</td>\n",
       "      <td>242.000000</td>\n",
       "    </tr>\n",
       "  </tbody>\n",
       "</table>\n",
       "</div>"
      ],
      "text/plain": [
       "       star_rating    duration\n",
       "count   979.000000  979.000000\n",
       "mean      7.889785  120.979571\n",
       "std       0.336069   26.218010\n",
       "min       7.400000   64.000000\n",
       "25%       7.600000  102.000000\n",
       "50%       7.800000  117.000000\n",
       "75%       8.100000  134.000000\n",
       "max       9.300000  242.000000"
      ]
     },
     "execution_count": 7,
     "metadata": {},
     "output_type": "execute_result"
    }
   ],
   "source": [
    "print movies.shape\n",
    "movies.describe()"
   ]
  },
  {
   "cell_type": "code",
   "execution_count": 8,
   "metadata": {
    "collapsed": false
   },
   "outputs": [],
   "source": [
    "###### exercise #######\n",
    "\n",
    "# Is the title column unique? If not, what are the non unique names?\n",
    "\n",
    "\n",
    "\n",
    "# answer below"
   ]
  },
  {
   "cell_type": "code",
   "execution_count": 9,
   "metadata": {
    "collapsed": false
   },
   "outputs": [
    {
     "name": "stdout",
     "output_type": "stream",
     "text": [
      "The Girl with the Dragon Tattoo\n",
      "Les Miserables\n",
      "True Grit\n",
      "Dracula\n"
     ]
    }
   ],
   "source": [
    "from collections import Counter\n",
    "for title, count in Counter(movies['title']).items():\n",
    "    if count > 1:\n",
    "        print title"
   ]
  },
  {
   "cell_type": "code",
   "execution_count": 10,
   "metadata": {
    "collapsed": true
   },
   "outputs": [],
   "source": [
    "# use requests library to interact with a URL http://www.omdbapi.com\n",
    "r = requests.get('http://www.omdbapi.com?t=the shawshank redemption&r=json&type=movie')"
   ]
  },
  {
   "cell_type": "code",
   "execution_count": 11,
   "metadata": {
    "collapsed": false
   },
   "outputs": [
    {
     "data": {
      "text/plain": [
       "200"
      ]
     },
     "execution_count": 11,
     "metadata": {},
     "output_type": "execute_result"
    }
   ],
   "source": [
    "# check the status: 200 means success, 4xx or 5xx means error\n",
    "r.status_code"
   ]
  },
  {
   "cell_type": "code",
   "execution_count": 11,
   "metadata": {
    "collapsed": false
   },
   "outputs": [
    {
     "data": {
      "text/plain": [
       "u'{\"Title\":\"The Shawshank Redemption\",\"Year\":\"1994\",\"Rated\":\"R\",\"Released\":\"14 Oct 1994\",\"Runtime\":\"142 min\",\"Genre\":\"Crime, Drama\",\"Director\":\"Frank Darabont\",\"Writer\":\"Stephen King (short story \\\\\"Rita Hayworth and Shawshank Redemption\\\\\"), Frank Darabont (screenplay)\",\"Actors\":\"Tim Robbins, Morgan Freeman, Bob Gunton, William Sadler\",\"Plot\":\"Two imprisoned men bond over a number of years, finding solace and eventual redemption through acts of common decency.\",\"Language\":\"English\",\"Country\":\"USA\",\"Awards\":\"Nominated for 7 Oscars. Another 16 wins & 20 nominations.\",\"Poster\":\"http://ia.media-imdb.com/images/M/MV5BODU4MjU4NjIwNl5BMl5BanBnXkFtZTgwMDU2MjEyMDE@._V1_SX300.jpg\",\"Metascore\":\"80\",\"imdbRating\":\"9.3\",\"imdbVotes\":\"1,684,836\",\"imdbID\":\"tt0111161\",\"Type\":\"movie\",\"Response\":\"True\"}'"
      ]
     },
     "execution_count": 11,
     "metadata": {},
     "output_type": "execute_result"
    }
   ],
   "source": [
    "# view the raw response text\n",
    "r.text"
   ]
  },
  {
   "cell_type": "code",
   "execution_count": 12,
   "metadata": {
    "collapsed": false
   },
   "outputs": [
    {
     "data": {
      "text/plain": [
       "{u'Actors': u'Tim Robbins, Morgan Freeman, Bob Gunton, William Sadler',\n",
       " u'Awards': u'Nominated for 7 Oscars. Another 16 wins & 20 nominations.',\n",
       " u'Country': u'USA',\n",
       " u'Director': u'Frank Darabont',\n",
       " u'Genre': u'Crime, Drama',\n",
       " u'Language': u'English',\n",
       " u'Metascore': u'80',\n",
       " u'Plot': u'Two imprisoned men bond over a number of years, finding solace and eventual redemption through acts of common decency.',\n",
       " u'Poster': u'http://ia.media-imdb.com/images/M/MV5BODU4MjU4NjIwNl5BMl5BanBnXkFtZTgwMDU2MjEyMDE@._V1_SX300.jpg',\n",
       " u'Rated': u'R',\n",
       " u'Released': u'14 Oct 1994',\n",
       " u'Response': u'True',\n",
       " u'Runtime': u'142 min',\n",
       " u'Title': u'The Shawshank Redemption',\n",
       " u'Type': u'movie',\n",
       " u'Writer': u'Stephen King (short story \"Rita Hayworth and Shawshank Redemption\"), Frank Darabont (screenplay)',\n",
       " u'Year': u'1994',\n",
       " u'imdbID': u'tt0111161',\n",
       " u'imdbRating': u'9.3',\n",
       " u'imdbVotes': u'1,684,836'}"
      ]
     },
     "execution_count": 12,
     "metadata": {},
     "output_type": "execute_result"
    }
   ],
   "source": [
    "# decode the JSON response body into a dictionary\n",
    "r.json()"
   ]
  },
  {
   "cell_type": "code",
   "execution_count": 14,
   "metadata": {
    "collapsed": false
   },
   "outputs": [
    {
     "data": {
      "text/plain": [
       "u'1994'"
      ]
     },
     "execution_count": 14,
     "metadata": {},
     "output_type": "execute_result"
    }
   ],
   "source": [
    "# extracting the year from the dictionary\n",
    "r.json()['Year']"
   ]
  },
  {
   "cell_type": "code",
   "execution_count": 13,
   "metadata": {
    "collapsed": false
   },
   "outputs": [
    {
     "name": "stdout",
     "output_type": "stream",
     "text": [
      "200\n"
     ]
    },
    {
     "data": {
      "text/plain": [
       "{u'Error': u'Movie not found!', u'Response': u'False'}"
      ]
     },
     "execution_count": 13,
     "metadata": {},
     "output_type": "execute_result"
    }
   ],
   "source": [
    "# what happens if the movie name is not recognized?\n",
    "r = requests.get('http://www.omdbapi.com/?t=thebestmovieevermade&r=json&type=movie')\n",
    "print r.status_code\n",
    "r.json()"
   ]
  },
  {
   "cell_type": "code",
   "execution_count": 15,
   "metadata": {
    "collapsed": false
   },
   "outputs": [
    {
     "name": "stdout",
     "output_type": "stream",
     "text": [
      "200\n"
     ]
    },
    {
     "data": {
      "text/plain": [
       "{u'Actors': u\"Ellen DeGeneres, Albert Brooks, Ed O'Neill, Kaitlin Olson\",\n",
       " u'Awards': u'2 nominations.',\n",
       " u'Country': u'USA',\n",
       " u'Director': u'Andrew Stanton, Angus MacLane',\n",
       " u'Genre': u'Animation, Adventure, Comedy',\n",
       " u'Language': u'English, Indonesian',\n",
       " u'Metascore': u'77',\n",
       " u'Plot': u'The friendly but forgetful blue tang fish begins a search for her long-lost parents, and everyone learns a few things about the real meaning of family along the way.',\n",
       " u'Poster': u'http://ia.media-imdb.com/images/M/MV5BNzg4MjM2NDQ4MV5BMl5BanBnXkFtZTgwMzk3MTgyODE@._V1_SX300.jpg',\n",
       " u'Rated': u'PG',\n",
       " u'Released': u'17 Jun 2016',\n",
       " u'Response': u'True',\n",
       " u'Runtime': u'97 min',\n",
       " u'Title': u'Finding Dory',\n",
       " u'Type': u'movie',\n",
       " u'Writer': u'Andrew Stanton (original story by), Andrew Stanton (screenplay), Victoria Strouse (screenplay), Bob Peterson (additional screenplay material by), Angus MacLane (additional story material by)',\n",
       " u'Year': u'2016',\n",
       " u'imdbID': u'tt2277860',\n",
       " u'imdbRating': u'7.8',\n",
       " u'imdbVotes': u'51,956'}"
      ]
     },
     "execution_count": 15,
     "metadata": {},
     "output_type": "execute_result"
    }
   ],
   "source": [
    "# another example\n",
    "movie_title = 'finding dory'\n",
    "r = requests.get('http://www.omdbapi.com/?t='+movie_title+'&r=json&type=movie')\n",
    "print r.status_code\n",
    "r.json()"
   ]
  },
  {
   "cell_type": "code",
   "execution_count": 16,
   "metadata": {
    "collapsed": false
   },
   "outputs": [],
   "source": [
    "##### Exercise #####\n",
    "\n",
    "# define a function to return the year of release of a given movie title, return None if no movie found\n",
    "def get_movie_year(title):\n",
    "    return -1\n",
    "\n",
    "\n",
    "\n",
    "\n",
    "\n"
   ]
  },
  {
   "cell_type": "code",
   "execution_count": 17,
   "metadata": {
    "collapsed": true
   },
   "outputs": [],
   "source": [
    "def get_movie_year(title):\n",
    "    response = requests.get('http://www.omdbapi.com/?t='+title+'&r=json&type=movie').json()\n",
    "    if 'Error' not in response: return response['Year']\n"
   ]
  },
  {
   "cell_type": "code",
   "execution_count": 18,
   "metadata": {
    "collapsed": false
   },
   "outputs": [
    {
     "name": "stdout",
     "output_type": "stream",
     "text": [
      "2016\n",
      "None\n"
     ]
    }
   ],
   "source": [
    "# test the function\n",
    "print get_movie_year('finding dory')\n",
    "print get_movie_year('blahblahblah')"
   ]
  },
  {
   "cell_type": "code",
   "execution_count": 19,
   "metadata": {
    "collapsed": true
   },
   "outputs": [],
   "source": [
    "# create a smaller DataFrame for testing\n",
    "# the copy method makes a carbon copy of the dataframe\n",
    "top_movies = movies.head().copy()"
   ]
  },
  {
   "cell_type": "code",
   "execution_count": 20,
   "metadata": {
    "collapsed": false
   },
   "outputs": [],
   "source": [
    "# write a for loop to build a list of years\n",
    "from time import sleep # timey wimey stuff\n",
    "years = []\n",
    "for title in top_movies.title:\n",
    "    years.append(get_movie_year(title))\n",
    "    sleep(1)\n",
    "    \n",
    "# the sleep is used to not over hit the API\n",
    "# this is called \"rate limiting\"\n",
    "# Most APIs don't allow you to hit it too much"
   ]
  },
  {
   "cell_type": "code",
   "execution_count": null,
   "metadata": {
    "collapsed": false
   },
   "outputs": [
    {
     "ename": "AssertionError",
     "evalue": "",
     "output_type": "error",
     "traceback": [
      "\u001b[0;31m---------------------------------------------------------------------------\u001b[0m",
      "\u001b[0;31mAssertionError\u001b[0m                            Traceback (most recent call last)",
      "\u001b[0;32m<ipython-input-21-eda2d9072f25>\u001b[0m in \u001b[0;36m<module>\u001b[0;34m()\u001b[0m\n\u001b[1;32m      1\u001b[0m \u001b[0;31m# assert will throw an error if the value inside is NOT True\u001b[0m\u001b[0;34m\u001b[0m\u001b[0;34m\u001b[0m\u001b[0m\n\u001b[1;32m      2\u001b[0m \u001b[0;34m\u001b[0m\u001b[0m\n\u001b[0;32m----> 3\u001b[0;31m \u001b[0;32massert\u001b[0m\u001b[0;34m(\u001b[0m\u001b[0;36m3\u001b[0m\u001b[0;34m==\u001b[0m\u001b[0;36m4\u001b[0m\u001b[0;34m)\u001b[0m\u001b[0;34m\u001b[0m\u001b[0m\n\u001b[0m",
      "\u001b[0;31mAssertionError\u001b[0m: "
     ]
    }
   ],
   "source": [
    "# assert will throw an error if the value inside is NOT True\n",
    "\n",
    "assert(3==4)"
   ]
  },
  {
   "cell_type": "code",
   "execution_count": 29,
   "metadata": {
    "collapsed": false
   },
   "outputs": [],
   "source": [
    "# check that the DataFrame and the list of years are the same length\n",
    "assert(len(top_movies) == len(years))"
   ]
  },
  {
   "cell_type": "code",
   "execution_count": 31,
   "metadata": {
    "collapsed": false
   },
   "outputs": [
    {
     "data": {
      "text/html": [
       "<div style=\"max-height:1000px;max-width:1500px;overflow:auto;\">\n",
       "<table border=\"1\" class=\"dataframe\">\n",
       "  <thead>\n",
       "    <tr style=\"text-align: right;\">\n",
       "      <th></th>\n",
       "      <th>star_rating</th>\n",
       "      <th>title</th>\n",
       "      <th>content_rating</th>\n",
       "      <th>genre</th>\n",
       "      <th>duration</th>\n",
       "      <th>actors_list</th>\n",
       "      <th>year</th>\n",
       "    </tr>\n",
       "  </thead>\n",
       "  <tbody>\n",
       "    <tr>\n",
       "      <th>0</th>\n",
       "      <td> 9.3</td>\n",
       "      <td> The Shawshank Redemption</td>\n",
       "      <td>     R</td>\n",
       "      <td>  Crime</td>\n",
       "      <td> 142</td>\n",
       "      <td> [u'Tim Robbins', u'Morgan Freeman', u'Bob Gunt...</td>\n",
       "      <td> 1994</td>\n",
       "    </tr>\n",
       "    <tr>\n",
       "      <th>1</th>\n",
       "      <td> 9.2</td>\n",
       "      <td>            The Godfather</td>\n",
       "      <td>     R</td>\n",
       "      <td>  Crime</td>\n",
       "      <td> 175</td>\n",
       "      <td>   [u'Marlon Brando', u'Al Pacino', u'James Caan']</td>\n",
       "      <td> 1972</td>\n",
       "    </tr>\n",
       "    <tr>\n",
       "      <th>2</th>\n",
       "      <td> 9.1</td>\n",
       "      <td>   The Godfather: Part II</td>\n",
       "      <td>     R</td>\n",
       "      <td>  Crime</td>\n",
       "      <td> 200</td>\n",
       "      <td> [u'Al Pacino', u'Robert De Niro', u'Robert Duv...</td>\n",
       "      <td> 1974</td>\n",
       "    </tr>\n",
       "    <tr>\n",
       "      <th>3</th>\n",
       "      <td> 9.0</td>\n",
       "      <td>          The Dark Knight</td>\n",
       "      <td> PG-13</td>\n",
       "      <td> Action</td>\n",
       "      <td> 152</td>\n",
       "      <td> [u'Christian Bale', u'Heath Ledger', u'Aaron E...</td>\n",
       "      <td> 2008</td>\n",
       "    </tr>\n",
       "    <tr>\n",
       "      <th>4</th>\n",
       "      <td> 8.9</td>\n",
       "      <td>             Pulp Fiction</td>\n",
       "      <td>     R</td>\n",
       "      <td>  Crime</td>\n",
       "      <td> 154</td>\n",
       "      <td> [u'John Travolta', u'Uma Thurman', u'Samuel L....</td>\n",
       "      <td> 1994</td>\n",
       "    </tr>\n",
       "  </tbody>\n",
       "</table>\n",
       "</div>"
      ],
      "text/plain": [
       "   star_rating                     title content_rating   genre  duration  \\\n",
       "0          9.3  The Shawshank Redemption              R   Crime       142   \n",
       "1          9.2             The Godfather              R   Crime       175   \n",
       "2          9.1    The Godfather: Part II              R   Crime       200   \n",
       "3          9.0           The Dark Knight          PG-13  Action       152   \n",
       "4          8.9              Pulp Fiction              R   Crime       154   \n",
       "\n",
       "                                         actors_list  year  \n",
       "0  [u'Tim Robbins', u'Morgan Freeman', u'Bob Gunt...  1994  \n",
       "1    [u'Marlon Brando', u'Al Pacino', u'James Caan']  1972  \n",
       "2  [u'Al Pacino', u'Robert De Niro', u'Robert Duv...  1974  \n",
       "3  [u'Christian Bale', u'Heath Ledger', u'Aaron E...  2008  \n",
       "4  [u'John Travolta', u'Uma Thurman', u'Samuel L....  1994  "
      ]
     },
     "execution_count": 31,
     "metadata": {},
     "output_type": "execute_result"
    }
   ],
   "source": [
    "# save that list as a new column\n",
    "top_movies['year'] = years\n",
    "top_movies"
   ]
  },
  {
   "cell_type": "code",
   "execution_count": null,
   "metadata": {
    "collapsed": false
   },
   "outputs": [],
   "source": [
    "'''\n",
    "Bonus content: Updating the DataFrame as part of a loop\n",
    "'''\n",
    "\n",
    "# enumerate allows you to access the item location while iterating\n",
    "letters = ['a', 'b', 'c']\n",
    "for index, letter in enumerate(letters):\n",
    "    print index, letter"
   ]
  },
  {
   "cell_type": "code",
   "execution_count": null,
   "metadata": {
    "collapsed": false
   },
   "outputs": [],
   "source": [
    "# iterrows method for DataFrames is similar\n",
    "for index, row in top_movies.iterrows():\n",
    "    print index, row.title"
   ]
  },
  {
   "cell_type": "code",
   "execution_count": null,
   "metadata": {
    "collapsed": false
   },
   "outputs": [],
   "source": [
    "# create a new column and set a default value\n",
    "movies['yearsr'] = None\n",
    "movies.head()"
   ]
  },
  {
   "cell_type": "code",
   "execution_count": null,
   "metadata": {
    "collapsed": false
   },
   "outputs": [],
   "source": [
    "# loc method allows you to access a DataFrame element by 'label'\n",
    "movies.loc[0, 'year'] = 1994\n",
    "movies.head()"
   ]
  },
  {
   "cell_type": "code",
   "execution_count": null,
   "metadata": {
    "collapsed": false
   },
   "outputs": [],
   "source": [
    "# write a for loop to update the year for the first three movies\n",
    "for index, row in movies.iterrows():\n",
    "    if index < 3:\n",
    "        movies.loc[index, 'year'] = get_movie_year(row.title)\n",
    "        sleep(1)\n",
    "    else:\n",
    "        break"
   ]
  },
  {
   "cell_type": "code",
   "execution_count": 30,
   "metadata": {
    "collapsed": false
   },
   "outputs": [
    {
     "data": {
      "text/html": [
       "<div style=\"max-height:1000px;max-width:1500px;overflow:auto;\">\n",
       "<table border=\"1\" class=\"dataframe\">\n",
       "  <thead>\n",
       "    <tr style=\"text-align: right;\">\n",
       "      <th></th>\n",
       "      <th>star_rating</th>\n",
       "      <th>title</th>\n",
       "      <th>content_rating</th>\n",
       "      <th>genre</th>\n",
       "      <th>duration</th>\n",
       "      <th>actors_list</th>\n",
       "    </tr>\n",
       "  </thead>\n",
       "  <tbody>\n",
       "    <tr>\n",
       "      <th>0</th>\n",
       "      <td> 9.3</td>\n",
       "      <td> The Shawshank Redemption</td>\n",
       "      <td>     R</td>\n",
       "      <td>  Crime</td>\n",
       "      <td> 142</td>\n",
       "      <td> [u'Tim Robbins', u'Morgan Freeman', u'Bob Gunt...</td>\n",
       "    </tr>\n",
       "    <tr>\n",
       "      <th>1</th>\n",
       "      <td> 9.2</td>\n",
       "      <td>            The Godfather</td>\n",
       "      <td>     R</td>\n",
       "      <td>  Crime</td>\n",
       "      <td> 175</td>\n",
       "      <td>   [u'Marlon Brando', u'Al Pacino', u'James Caan']</td>\n",
       "    </tr>\n",
       "    <tr>\n",
       "      <th>2</th>\n",
       "      <td> 9.1</td>\n",
       "      <td>   The Godfather: Part II</td>\n",
       "      <td>     R</td>\n",
       "      <td>  Crime</td>\n",
       "      <td> 200</td>\n",
       "      <td> [u'Al Pacino', u'Robert De Niro', u'Robert Duv...</td>\n",
       "    </tr>\n",
       "    <tr>\n",
       "      <th>3</th>\n",
       "      <td> 9.0</td>\n",
       "      <td>          The Dark Knight</td>\n",
       "      <td> PG-13</td>\n",
       "      <td> Action</td>\n",
       "      <td> 152</td>\n",
       "      <td> [u'Christian Bale', u'Heath Ledger', u'Aaron E...</td>\n",
       "    </tr>\n",
       "    <tr>\n",
       "      <th>4</th>\n",
       "      <td> 8.9</td>\n",
       "      <td>             Pulp Fiction</td>\n",
       "      <td>     R</td>\n",
       "      <td>  Crime</td>\n",
       "      <td> 154</td>\n",
       "      <td> [u'John Travolta', u'Uma Thurman', u'Samuel L....</td>\n",
       "    </tr>\n",
       "  </tbody>\n",
       "</table>\n",
       "</div>"
      ],
      "text/plain": [
       "   star_rating                     title content_rating   genre  duration  \\\n",
       "0          9.3  The Shawshank Redemption              R   Crime       142   \n",
       "1          9.2             The Godfather              R   Crime       175   \n",
       "2          9.1    The Godfather: Part II              R   Crime       200   \n",
       "3          9.0           The Dark Knight          PG-13  Action       152   \n",
       "4          8.9              Pulp Fiction              R   Crime       154   \n",
       "\n",
       "                                         actors_list  \n",
       "0  [u'Tim Robbins', u'Morgan Freeman', u'Bob Gunt...  \n",
       "1    [u'Marlon Brando', u'Al Pacino', u'James Caan']  \n",
       "2  [u'Al Pacino', u'Robert De Niro', u'Robert Duv...  \n",
       "3  [u'Christian Bale', u'Heath Ledger', u'Aaron E...  \n",
       "4  [u'John Travolta', u'Uma Thurman', u'Samuel L....  "
      ]
     },
     "execution_count": 30,
     "metadata": {},
     "output_type": "execute_result"
    }
   ],
   "source": [
    "movies.head()"
   ]
  },
  {
   "cell_type": "code",
   "execution_count": null,
   "metadata": {
    "collapsed": false
   },
   "outputs": [],
   "source": []
  },
  {
   "cell_type": "code",
   "execution_count": null,
   "metadata": {
    "collapsed": true
   },
   "outputs": [],
   "source": []
  },
  {
   "cell_type": "code",
   "execution_count": 12,
   "metadata": {
    "collapsed": true
   },
   "outputs": [],
   "source": [
    "# this is my own personal twitter api information\n",
    "# if you could be so kind as to sign up yourself on both twitter and mashape that'd be great :)\n",
    "# It's FREEEEEEE\n",
    "api_key = 'g5uPIpw80nULQI1gfklv2zrh4'\n",
    "api_secret = 'cOWvNWxYvPmEZ0ArZVeeVVvJu41QYHdUS2GpqIKtSQ1isd5PJy'\n",
    "access_token = '49722956-TWl8J0aAS6KTdcbz3ppZ7NfqZEmrwmbsb9cYPNELG'\n",
    "access_secret = '3eqrVssF3ppv23qyflyAto8wLEiYRA8sXEPSghuOJWTub'\n",
    "\n",
    "# Masahpe Key\n",
    "mashape_key = '0CLvblsJOxmshWkaep4szo9CILOMp1PM3hhjsnDi4k8g8ME14o'"
   ]
  },
  {
   "cell_type": "code",
   "execution_count": 13,
   "metadata": {
    "collapsed": false
   },
   "outputs": [
    {
     "ename": "NameError",
     "evalue": "name 'requests' is not defined",
     "output_type": "error",
     "traceback": [
      "\u001b[0;31m---------------------------------------------------------------------------\u001b[0m",
      "\u001b[0;31mNameError\u001b[0m                                 Traceback (most recent call last)",
      "\u001b[0;32m<ipython-input-13-e8ab0bebcda3>\u001b[0m in \u001b[0;36m<module>\u001b[0;34m()\u001b[0m\n\u001b[1;32m     15\u001b[0m         }\n\u001b[1;32m     16\u001b[0m \u001b[0;34m\u001b[0m\u001b[0m\n\u001b[0;32m---> 17\u001b[0;31m \u001b[0;32mprint\u001b[0m \u001b[0mrequests\u001b[0m\u001b[0;34m.\u001b[0m\u001b[0mpost\u001b[0m\u001b[0;34m(\u001b[0m\u001b[0murl\u001b[0m\u001b[0;34m,\u001b[0m \u001b[0mheaders\u001b[0m \u001b[0;34m=\u001b[0m \u001b[0mheaders\u001b[0m\u001b[0;34m,\u001b[0m \u001b[0mdata\u001b[0m \u001b[0;34m=\u001b[0m \u001b[0mdata\u001b[0m\u001b[0;34m)\u001b[0m\u001b[0;34m.\u001b[0m\u001b[0mjson\u001b[0m\u001b[0;34m(\u001b[0m\u001b[0;34m)\u001b[0m\u001b[0;34m\u001b[0m\u001b[0m\n\u001b[0m",
      "\u001b[0;31mNameError\u001b[0m: name 'requests' is not defined"
     ]
    }
   ],
   "source": [
    "# more complicated request\n",
    "\n",
    "# HEADERS tell the API (or website) the type of system attempting the request\n",
    "# DATA tells the API (or website) any pertinent info needed to make the request\n",
    "# it is up to whoever wrote the API how access keys are passed in\n",
    "\n",
    "url = \"https://japerk-text-processing.p.mashape.com/sentiment/\"\n",
    "headers ={\n",
    "        \"X-Mashape-Key\": mashape_key,\n",
    "        \"Content-Type\": \"application/x-www-form-urlencoded\"\n",
    "        }\n",
    "data={\n",
    "        \"language\": \"english\",\n",
    "        \"text\": \"what an amazing failure\"\n",
    "        }\n",
    "\n",
    "print requests.post(url, headers = headers, data = data).json()"
   ]
  },
  {
   "cell_type": "code",
   "execution_count": 5,
   "metadata": {
    "collapsed": false
   },
   "outputs": [
    {
     "data": {
      "text/plain": [
       "'\\nExample of API WITH WRAPPER\\ntweepy is the python wrapper for twitter data\\n'"
      ]
     },
     "execution_count": 5,
     "metadata": {},
     "output_type": "execute_result"
    }
   ],
   "source": [
    "'''\n",
    "Example of API WITH WRAPPER\n",
    "tweepy is the python wrapper for twitter data\n",
    "'''"
   ]
  },
  {
   "cell_type": "code",
   "execution_count": 10,
   "metadata": {
    "collapsed": false
   },
   "outputs": [],
   "source": [
    "import tweepy       # python wrapper for twitter api\n",
    "import json\n",
    "import time"
   ]
  },
  {
   "cell_type": "code",
   "execution_count": 16,
   "metadata": {
    "collapsed": false
   },
   "outputs": [],
   "source": [
    "tag = 'donald trump'\n",
    "\n",
    "# Documentation is your friend! http://docs.tweepy.org/en/v3.1.0/\n",
    "auth = tweepy.OAuthHandler(api_key, api_secret)\n",
    "auth.set_access_token(access_token, access_secret)\n",
    "api = tweepy.API(auth) # returns a tweepy authorization handler object\n",
    "tweets = api.search(q=tag)"
   ]
  },
  {
   "cell_type": "code",
   "execution_count": 17,
   "metadata": {
    "collapsed": false
   },
   "outputs": [
    {
     "data": {
      "text/plain": [
       "Status(contributors=None, truncated=False, text=u\"RT @mattyglesias: Trump's original crime control policy was to execute 5 teens for a crime they didn't commit https://t.co/ndepgLX4dt https\\u2026\", is_quote_status=False, in_reply_to_status_id=None, id=765741393750949888, favorite_count=0, _api=<tweepy.api.API object at 0x10aefb6d0>, author=User(follow_request_sent=False, has_extended_profile=False, profile_use_background_image=True, _json={u'follow_request_sent': False, u'has_extended_profile': False, u'profile_use_background_image': True, u'default_profile_image': False, u'id': 746487314046685184, u'profile_background_image_url_https': None, u'verified': False, u'profile_text_color': u'333333', u'profile_image_url_https': u'https://pbs.twimg.com/profile_images/746490546831691776/n3aQiG8f_normal.jpg', u'profile_sidebar_fill_color': u'DDEEF6', u'entities': {u'description': {u'urls': []}}, u'followers_count': 50, u'profile_sidebar_border_color': u'C0DEED', u'id_str': u'746487314046685184', u'profile_background_color': u'F5F8FA', u'listed_count': 0, u'is_translation_enabled': False, u'utc_offset': None, u'statuses_count': 115, u'description': u\"My handle is a great handle! I'm amazing at building handles. The handles love me. (Also popular with people with less than a high school education.)\", u'friends_count': 110, u'location': u'United States', u'profile_link_color': u'2B7BB9', u'profile_image_url': u'http://pbs.twimg.com/profile_images/746490546831691776/n3aQiG8f_normal.jpg', u'following': False, u'geo_enabled': False, u'profile_banner_url': u'https://pbs.twimg.com/profile_banners/746487314046685184/1466812064', u'profile_background_image_url': None, u'screen_name': u'donfucktrumpet', u'lang': u'en', u'profile_background_tile': False, u'favourites_count': 347, u'name': u'toup\\xe9d fucktrumpet', u'notifications': False, u'url': None, u'created_at': u'Fri Jun 24 23:36:59 +0000 2016', u'contributors_enabled': False, u'time_zone': None, u'protected': False, u'default_profile': True, u'is_translator': False}, time_zone=None, id=746487314046685184, _api=<tweepy.api.API object at 0x10aefb6d0>, verified=False, profile_text_color=u'333333', profile_image_url_https=u'https://pbs.twimg.com/profile_images/746490546831691776/n3aQiG8f_normal.jpg', profile_sidebar_fill_color=u'DDEEF6', is_translator=False, geo_enabled=False, entities={u'description': {u'urls': []}}, followers_count=50, protected=False, id_str=u'746487314046685184', default_profile_image=False, listed_count=0, lang=u'en', utc_offset=None, statuses_count=115, description=u\"My handle is a great handle! I'm amazing at building handles. The handles love me. (Also popular with people with less than a high school education.)\", friends_count=110, profile_link_color=u'2B7BB9', profile_image_url=u'http://pbs.twimg.com/profile_images/746490546831691776/n3aQiG8f_normal.jpg', notifications=False, profile_background_image_url_https=None, profile_background_color=u'F5F8FA', profile_banner_url=u'https://pbs.twimg.com/profile_banners/746487314046685184/1466812064', profile_background_image_url=None, name=u'toup\\xe9d fucktrumpet', is_translation_enabled=False, profile_background_tile=False, favourites_count=347, screen_name=u'donfucktrumpet', url=None, created_at=datetime.datetime(2016, 6, 24, 23, 36, 59), contributors_enabled=False, location=u'United States', profile_sidebar_border_color=u'C0DEED', default_profile=True, following=False), _json={u'contributors': None, u'truncated': False, u'text': u\"RT @mattyglesias: Trump's original crime control policy was to execute 5 teens for a crime they didn't commit https://t.co/ndepgLX4dt https\\u2026\", u'is_quote_status': False, u'in_reply_to_status_id': None, u'id': 765741393750949888, u'favorite_count': 0, u'entities': {u'symbols': [], u'user_mentions': [{u'id': 15446531, u'indices': [3, 16], u'id_str': u'15446531', u'screen_name': u'mattyglesias', u'name': u'Matthew Yglesias'}], u'hashtags': [], u'urls': [{u'url': u'https://t.co/ndepgLX4dt', u'indices': [110, 133], u'expanded_url': u'http://www.vox.com/2015/8/3/9089495/donald-trump-racist', u'display_url': u'vox.com/2015/8/3/90894\\u2026'}], u'media': [{u'source_user_id': 15446531, u'source_status_id_str': u'765740617196601344', u'expanded_url': u'http://twitter.com/mattyglesias/status/765740617196601344/photo/1', u'display_url': u'pic.twitter.com/U2uDpWtKRL', u'url': u'https://t.co/U2uDpWtKRL', u'media_url_https': u'https://pbs.twimg.com/media/CqB1BfvWAAQ1-oX.jpg', u'source_user_id_str': u'15446531', u'source_status_id': 765740617196601344, u'id_str': u'765740605213376516', u'sizes': {u'large': {u'h': 2048, u'resize': u'fit', u'w': 1536}, u'small': {u'h': 680, u'resize': u'fit', u'w': 510}, u'medium': {u'h': 1200, u'resize': u'fit', u'w': 900}, u'thumb': {u'h': 150, u'resize': u'crop', u'w': 150}}, u'indices': [139, 140], u'type': u'photo', u'id': 765740605213376516, u'media_url': u'http://pbs.twimg.com/media/CqB1BfvWAAQ1-oX.jpg'}]}, u'retweeted': False, u'coordinates': None, u'source': u'<a href=\"http://twitter.com/download/iphone\" rel=\"nofollow\">Twitter for iPhone</a>', u'in_reply_to_screen_name': None, u'in_reply_to_user_id': None, u'retweet_count': 58, u'id_str': u'765741393750949888', u'favorited': False, u'retweeted_status': {u'contributors': None, u'truncated': False, u'text': u\"Trump's original crime control policy was to execute 5 teens for a crime they didn't commit https://t.co/ndepgLX4dt https://t.co/U2uDpWtKRL\", u'is_quote_status': False, u'in_reply_to_status_id': None, u'id': 765740617196601344, u'favorite_count': 49, u'entities': {u'symbols': [], u'user_mentions': [], u'hashtags': [], u'urls': [{u'url': u'https://t.co/ndepgLX4dt', u'indices': [92, 115], u'expanded_url': u'http://www.vox.com/2015/8/3/9089495/donald-trump-racist', u'display_url': u'vox.com/2015/8/3/90894\\u2026'}], u'media': [{u'expanded_url': u'http://twitter.com/mattyglesias/status/765740617196601344/photo/1', u'display_url': u'pic.twitter.com/U2uDpWtKRL', u'url': u'https://t.co/U2uDpWtKRL', u'media_url_https': u'https://pbs.twimg.com/media/CqB1BfvWAAQ1-oX.jpg', u'id_str': u'765740605213376516', u'sizes': {u'large': {u'h': 2048, u'resize': u'fit', u'w': 1536}, u'small': {u'h': 680, u'resize': u'fit', u'w': 510}, u'medium': {u'h': 1200, u'resize': u'fit', u'w': 900}, u'thumb': {u'h': 150, u'resize': u'crop', u'w': 150}}, u'indices': [116, 139], u'type': u'photo', u'id': 765740605213376516, u'media_url': u'http://pbs.twimg.com/media/CqB1BfvWAAQ1-oX.jpg'}]}, u'retweeted': False, u'coordinates': None, u'source': u'<a href=\"http://twitter.com/#!/download/ipad\" rel=\"nofollow\">Twitter for iPad</a>', u'in_reply_to_screen_name': None, u'in_reply_to_user_id': None, u'retweet_count': 58, u'id_str': u'765740617196601344', u'favorited': False, u'user': {u'follow_request_sent': False, u'has_extended_profile': False, u'profile_use_background_image': True, u'default_profile_image': False, u'id': 15446531, u'profile_background_image_url_https': u'https://pbs.twimg.com/profile_background_images/436390291/31135-The-Rent-is-Too-Damn-High-twitter.jpg', u'verified': True, u'profile_text_color': u'333333', u'profile_image_url_https': u'https://pbs.twimg.com/profile_images/665951848637960192/QSeHOlE2_normal.jpg', u'profile_sidebar_fill_color': u'DDEEF6', u'entities': {u'url': {u'urls': [{u'url': u'https://t.co/Wytx3mUUTn', u'indices': [0, 23], u'expanded_url': u'http://www.tinyletter.com/mattyglesias', u'display_url': u'tinyletter.com/mattyglesias'}]}, u'description': {u'urls': []}}, u'followers_count': 183017, u'profile_sidebar_border_color': u'C0DEED', u'id_str': u'15446531', u'profile_background_color': u'ABB8C2', u'listed_count': 7698, u'is_translation_enabled': False, u'utc_offset': -18000, u'statuses_count': 112943, u'description': u'Dad. Voxxer.', u'friends_count': 647, u'location': u'Washington, DC', u'profile_link_color': u'89C9FA', u'profile_image_url': u'http://pbs.twimg.com/profile_images/665951848637960192/QSeHOlE2_normal.jpg', u'following': False, u'geo_enabled': True, u'profile_banner_url': u'https://pbs.twimg.com/profile_banners/15446531/1388068610', u'profile_background_image_url': u'http://pbs.twimg.com/profile_background_images/436390291/31135-The-Rent-is-Too-Damn-High-twitter.jpg', u'screen_name': u'mattyglesias', u'lang': u'en', u'profile_background_tile': False, u'favourites_count': 2431, u'name': u'Matthew Yglesias', u'notifications': False, u'url': u'https://t.co/Wytx3mUUTn', u'created_at': u'Tue Jul 15 21:44:28 +0000 2008', u'contributors_enabled': False, u'time_zone': u'Quito', u'protected': False, u'default_profile': False, u'is_translator': False}, u'geo': None, u'in_reply_to_user_id_str': None, u'possibly_sensitive': False, u'lang': u'en', u'created_at': u'Wed Aug 17 02:42:44 +0000 2016', u'in_reply_to_status_id_str': None, u'place': None, u'extended_entities': {u'media': [{u'expanded_url': u'http://twitter.com/mattyglesias/status/765740617196601344/photo/1', u'display_url': u'pic.twitter.com/U2uDpWtKRL', u'url': u'https://t.co/U2uDpWtKRL', u'media_url_https': u'https://pbs.twimg.com/media/CqB1BfvWAAQ1-oX.jpg', u'id_str': u'765740605213376516', u'sizes': {u'large': {u'h': 2048, u'resize': u'fit', u'w': 1536}, u'small': {u'h': 680, u'resize': u'fit', u'w': 510}, u'medium': {u'h': 1200, u'resize': u'fit', u'w': 900}, u'thumb': {u'h': 150, u'resize': u'crop', u'w': 150}}, u'indices': [116, 139], u'type': u'photo', u'id': 765740605213376516, u'media_url': u'http://pbs.twimg.com/media/CqB1BfvWAAQ1-oX.jpg'}]}, u'metadata': {u'iso_language_code': u'en', u'result_type': u'recent'}}, u'user': {u'follow_request_sent': False, u'has_extended_profile': False, u'profile_use_background_image': True, u'default_profile_image': False, u'id': 746487314046685184, u'profile_background_image_url_https': None, u'verified': False, u'profile_text_color': u'333333', u'profile_image_url_https': u'https://pbs.twimg.com/profile_images/746490546831691776/n3aQiG8f_normal.jpg', u'profile_sidebar_fill_color': u'DDEEF6', u'entities': {u'description': {u'urls': []}}, u'followers_count': 50, u'profile_sidebar_border_color': u'C0DEED', u'id_str': u'746487314046685184', u'profile_background_color': u'F5F8FA', u'listed_count': 0, u'is_translation_enabled': False, u'utc_offset': None, u'statuses_count': 115, u'description': u\"My handle is a great handle! I'm amazing at building handles. The handles love me. (Also popular with people with less than a high school education.)\", u'friends_count': 110, u'location': u'United States', u'profile_link_color': u'2B7BB9', u'profile_image_url': u'http://pbs.twimg.com/profile_images/746490546831691776/n3aQiG8f_normal.jpg', u'following': False, u'geo_enabled': False, u'profile_banner_url': u'https://pbs.twimg.com/profile_banners/746487314046685184/1466812064', u'profile_background_image_url': None, u'screen_name': u'donfucktrumpet', u'lang': u'en', u'profile_background_tile': False, u'favourites_count': 347, u'name': u'toup\\xe9d fucktrumpet', u'notifications': False, u'url': None, u'created_at': u'Fri Jun 24 23:36:59 +0000 2016', u'contributors_enabled': False, u'time_zone': None, u'protected': False, u'default_profile': True, u'is_translator': False}, u'geo': None, u'in_reply_to_user_id_str': None, u'possibly_sensitive': False, u'lang': u'en', u'created_at': u'Wed Aug 17 02:45:49 +0000 2016', u'in_reply_to_status_id_str': None, u'place': None, u'extended_entities': {u'media': [{u'source_user_id': 15446531, u'source_status_id_str': u'765740617196601344', u'expanded_url': u'http://twitter.com/mattyglesias/status/765740617196601344/photo/1', u'display_url': u'pic.twitter.com/U2uDpWtKRL', u'url': u'https://t.co/U2uDpWtKRL', u'media_url_https': u'https://pbs.twimg.com/media/CqB1BfvWAAQ1-oX.jpg', u'source_user_id_str': u'15446531', u'source_status_id': 765740617196601344, u'id_str': u'765740605213376516', u'sizes': {u'large': {u'h': 2048, u'resize': u'fit', u'w': 1536}, u'small': {u'h': 680, u'resize': u'fit', u'w': 510}, u'medium': {u'h': 1200, u'resize': u'fit', u'w': 900}, u'thumb': {u'h': 150, u'resize': u'crop', u'w': 150}}, u'indices': [139, 140], u'type': u'photo', u'id': 765740605213376516, u'media_url': u'http://pbs.twimg.com/media/CqB1BfvWAAQ1-oX.jpg'}]}, u'metadata': {u'iso_language_code': u'en', u'result_type': u'recent'}}, coordinates=None, entities={u'symbols': [], u'user_mentions': [{u'id': 15446531, u'indices': [3, 16], u'id_str': u'15446531', u'screen_name': u'mattyglesias', u'name': u'Matthew Yglesias'}], u'hashtags': [], u'urls': [{u'url': u'https://t.co/ndepgLX4dt', u'indices': [110, 133], u'expanded_url': u'http://www.vox.com/2015/8/3/9089495/donald-trump-racist', u'display_url': u'vox.com/2015/8/3/90894\\u2026'}], u'media': [{u'source_user_id': 15446531, u'source_status_id_str': u'765740617196601344', u'expanded_url': u'http://twitter.com/mattyglesias/status/765740617196601344/photo/1', u'display_url': u'pic.twitter.com/U2uDpWtKRL', u'url': u'https://t.co/U2uDpWtKRL', u'media_url_https': u'https://pbs.twimg.com/media/CqB1BfvWAAQ1-oX.jpg', u'source_user_id_str': u'15446531', u'source_status_id': 765740617196601344, u'id_str': u'765740605213376516', u'sizes': {u'large': {u'h': 2048, u'resize': u'fit', u'w': 1536}, u'small': {u'h': 680, u'resize': u'fit', u'w': 510}, u'medium': {u'h': 1200, u'resize': u'fit', u'w': 900}, u'thumb': {u'h': 150, u'resize': u'crop', u'w': 150}}, u'indices': [139, 140], u'type': u'photo', u'id': 765740605213376516, u'media_url': u'http://pbs.twimg.com/media/CqB1BfvWAAQ1-oX.jpg'}]}, in_reply_to_screen_name=None, id_str=u'765741393750949888', retweet_count=58, in_reply_to_user_id=None, favorited=False, retweeted_status=Status(contributors=None, truncated=False, text=u\"Trump's original crime control policy was to execute 5 teens for a crime they didn't commit https://t.co/ndepgLX4dt https://t.co/U2uDpWtKRL\", is_quote_status=False, in_reply_to_status_id=None, id=765740617196601344, favorite_count=49, _api=<tweepy.api.API object at 0x10aefb6d0>, author=User(follow_request_sent=False, has_extended_profile=False, profile_use_background_image=True, _json={u'follow_request_sent': False, u'has_extended_profile': False, u'profile_use_background_image': True, u'default_profile_image': False, u'id': 15446531, u'profile_background_image_url_https': u'https://pbs.twimg.com/profile_background_images/436390291/31135-The-Rent-is-Too-Damn-High-twitter.jpg', u'verified': True, u'profile_text_color': u'333333', u'profile_image_url_https': u'https://pbs.twimg.com/profile_images/665951848637960192/QSeHOlE2_normal.jpg', u'profile_sidebar_fill_color': u'DDEEF6', u'entities': {u'url': {u'urls': [{u'url': u'https://t.co/Wytx3mUUTn', u'indices': [0, 23], u'expanded_url': u'http://www.tinyletter.com/mattyglesias', u'display_url': u'tinyletter.com/mattyglesias'}]}, u'description': {u'urls': []}}, u'followers_count': 183017, u'profile_sidebar_border_color': u'C0DEED', u'id_str': u'15446531', u'profile_background_color': u'ABB8C2', u'listed_count': 7698, u'is_translation_enabled': False, u'utc_offset': -18000, u'statuses_count': 112943, u'description': u'Dad. Voxxer.', u'friends_count': 647, u'location': u'Washington, DC', u'profile_link_color': u'89C9FA', u'profile_image_url': u'http://pbs.twimg.com/profile_images/665951848637960192/QSeHOlE2_normal.jpg', u'following': False, u'geo_enabled': True, u'profile_banner_url': u'https://pbs.twimg.com/profile_banners/15446531/1388068610', u'profile_background_image_url': u'http://pbs.twimg.com/profile_background_images/436390291/31135-The-Rent-is-Too-Damn-High-twitter.jpg', u'screen_name': u'mattyglesias', u'lang': u'en', u'profile_background_tile': False, u'favourites_count': 2431, u'name': u'Matthew Yglesias', u'notifications': False, u'url': u'https://t.co/Wytx3mUUTn', u'created_at': u'Tue Jul 15 21:44:28 +0000 2008', u'contributors_enabled': False, u'time_zone': u'Quito', u'protected': False, u'default_profile': False, u'is_translator': False}, time_zone=u'Quito', id=15446531, _api=<tweepy.api.API object at 0x10aefb6d0>, verified=True, profile_text_color=u'333333', profile_image_url_https=u'https://pbs.twimg.com/profile_images/665951848637960192/QSeHOlE2_normal.jpg', profile_sidebar_fill_color=u'DDEEF6', is_translator=False, geo_enabled=True, entities={u'url': {u'urls': [{u'url': u'https://t.co/Wytx3mUUTn', u'indices': [0, 23], u'expanded_url': u'http://www.tinyletter.com/mattyglesias', u'display_url': u'tinyletter.com/mattyglesias'}]}, u'description': {u'urls': []}}, followers_count=183017, protected=False, id_str=u'15446531', default_profile_image=False, listed_count=7698, lang=u'en', utc_offset=-18000, statuses_count=112943, description=u'Dad. Voxxer.', friends_count=647, profile_link_color=u'89C9FA', profile_image_url=u'http://pbs.twimg.com/profile_images/665951848637960192/QSeHOlE2_normal.jpg', notifications=False, profile_background_image_url_https=u'https://pbs.twimg.com/profile_background_images/436390291/31135-The-Rent-is-Too-Damn-High-twitter.jpg', profile_background_color=u'ABB8C2', profile_banner_url=u'https://pbs.twimg.com/profile_banners/15446531/1388068610', profile_background_image_url=u'http://pbs.twimg.com/profile_background_images/436390291/31135-The-Rent-is-Too-Damn-High-twitter.jpg', name=u'Matthew Yglesias', is_translation_enabled=False, profile_background_tile=False, favourites_count=2431, screen_name=u'mattyglesias', url=u'https://t.co/Wytx3mUUTn', created_at=datetime.datetime(2008, 7, 15, 21, 44, 28), contributors_enabled=False, location=u'Washington, DC', profile_sidebar_border_color=u'C0DEED', default_profile=False, following=False), _json={u'contributors': None, u'truncated': False, u'text': u\"Trump's original crime control policy was to execute 5 teens for a crime they didn't commit https://t.co/ndepgLX4dt https://t.co/U2uDpWtKRL\", u'is_quote_status': False, u'in_reply_to_status_id': None, u'id': 765740617196601344, u'favorite_count': 49, u'entities': {u'symbols': [], u'user_mentions': [], u'hashtags': [], u'urls': [{u'url': u'https://t.co/ndepgLX4dt', u'indices': [92, 115], u'expanded_url': u'http://www.vox.com/2015/8/3/9089495/donald-trump-racist', u'display_url': u'vox.com/2015/8/3/90894\\u2026'}], u'media': [{u'expanded_url': u'http://twitter.com/mattyglesias/status/765740617196601344/photo/1', u'display_url': u'pic.twitter.com/U2uDpWtKRL', u'url': u'https://t.co/U2uDpWtKRL', u'media_url_https': u'https://pbs.twimg.com/media/CqB1BfvWAAQ1-oX.jpg', u'id_str': u'765740605213376516', u'sizes': {u'large': {u'h': 2048, u'resize': u'fit', u'w': 1536}, u'small': {u'h': 680, u'resize': u'fit', u'w': 510}, u'medium': {u'h': 1200, u'resize': u'fit', u'w': 900}, u'thumb': {u'h': 150, u'resize': u'crop', u'w': 150}}, u'indices': [116, 139], u'type': u'photo', u'id': 765740605213376516, u'media_url': u'http://pbs.twimg.com/media/CqB1BfvWAAQ1-oX.jpg'}]}, u'retweeted': False, u'coordinates': None, u'source': u'<a href=\"http://twitter.com/#!/download/ipad\" rel=\"nofollow\">Twitter for iPad</a>', u'in_reply_to_screen_name': None, u'in_reply_to_user_id': None, u'retweet_count': 58, u'id_str': u'765740617196601344', u'favorited': False, u'user': {u'follow_request_sent': False, u'has_extended_profile': False, u'profile_use_background_image': True, u'default_profile_image': False, u'id': 15446531, u'profile_background_image_url_https': u'https://pbs.twimg.com/profile_background_images/436390291/31135-The-Rent-is-Too-Damn-High-twitter.jpg', u'verified': True, u'profile_text_color': u'333333', u'profile_image_url_https': u'https://pbs.twimg.com/profile_images/665951848637960192/QSeHOlE2_normal.jpg', u'profile_sidebar_fill_color': u'DDEEF6', u'entities': {u'url': {u'urls': [{u'url': u'https://t.co/Wytx3mUUTn', u'indices': [0, 23], u'expanded_url': u'http://www.tinyletter.com/mattyglesias', u'display_url': u'tinyletter.com/mattyglesias'}]}, u'description': {u'urls': []}}, u'followers_count': 183017, u'profile_sidebar_border_color': u'C0DEED', u'id_str': u'15446531', u'profile_background_color': u'ABB8C2', u'listed_count': 7698, u'is_translation_enabled': False, u'utc_offset': -18000, u'statuses_count': 112943, u'description': u'Dad. Voxxer.', u'friends_count': 647, u'location': u'Washington, DC', u'profile_link_color': u'89C9FA', u'profile_image_url': u'http://pbs.twimg.com/profile_images/665951848637960192/QSeHOlE2_normal.jpg', u'following': False, u'geo_enabled': True, u'profile_banner_url': u'https://pbs.twimg.com/profile_banners/15446531/1388068610', u'profile_background_image_url': u'http://pbs.twimg.com/profile_background_images/436390291/31135-The-Rent-is-Too-Damn-High-twitter.jpg', u'screen_name': u'mattyglesias', u'lang': u'en', u'profile_background_tile': False, u'favourites_count': 2431, u'name': u'Matthew Yglesias', u'notifications': False, u'url': u'https://t.co/Wytx3mUUTn', u'created_at': u'Tue Jul 15 21:44:28 +0000 2008', u'contributors_enabled': False, u'time_zone': u'Quito', u'protected': False, u'default_profile': False, u'is_translator': False}, u'geo': None, u'in_reply_to_user_id_str': None, u'possibly_sensitive': False, u'lang': u'en', u'created_at': u'Wed Aug 17 02:42:44 +0000 2016', u'in_reply_to_status_id_str': None, u'place': None, u'extended_entities': {u'media': [{u'expanded_url': u'http://twitter.com/mattyglesias/status/765740617196601344/photo/1', u'display_url': u'pic.twitter.com/U2uDpWtKRL', u'url': u'https://t.co/U2uDpWtKRL', u'media_url_https': u'https://pbs.twimg.com/media/CqB1BfvWAAQ1-oX.jpg', u'id_str': u'765740605213376516', u'sizes': {u'large': {u'h': 2048, u'resize': u'fit', u'w': 1536}, u'small': {u'h': 680, u'resize': u'fit', u'w': 510}, u'medium': {u'h': 1200, u'resize': u'fit', u'w': 900}, u'thumb': {u'h': 150, u'resize': u'crop', u'w': 150}}, u'indices': [116, 139], u'type': u'photo', u'id': 765740605213376516, u'media_url': u'http://pbs.twimg.com/media/CqB1BfvWAAQ1-oX.jpg'}]}, u'metadata': {u'iso_language_code': u'en', u'result_type': u'recent'}}, coordinates=None, entities={u'symbols': [], u'user_mentions': [], u'hashtags': [], u'urls': [{u'url': u'https://t.co/ndepgLX4dt', u'indices': [92, 115], u'expanded_url': u'http://www.vox.com/2015/8/3/9089495/donald-trump-racist', u'display_url': u'vox.com/2015/8/3/90894\\u2026'}], u'media': [{u'expanded_url': u'http://twitter.com/mattyglesias/status/765740617196601344/photo/1', u'display_url': u'pic.twitter.com/U2uDpWtKRL', u'url': u'https://t.co/U2uDpWtKRL', u'media_url_https': u'https://pbs.twimg.com/media/CqB1BfvWAAQ1-oX.jpg', u'id_str': u'765740605213376516', u'sizes': {u'large': {u'h': 2048, u'resize': u'fit', u'w': 1536}, u'small': {u'h': 680, u'resize': u'fit', u'w': 510}, u'medium': {u'h': 1200, u'resize': u'fit', u'w': 900}, u'thumb': {u'h': 150, u'resize': u'crop', u'w': 150}}, u'indices': [116, 139], u'type': u'photo', u'id': 765740605213376516, u'media_url': u'http://pbs.twimg.com/media/CqB1BfvWAAQ1-oX.jpg'}]}, in_reply_to_screen_name=None, id_str=u'765740617196601344', retweet_count=58, in_reply_to_user_id=None, favorited=False, source_url=u'http://twitter.com/#!/download/ipad', user=User(follow_request_sent=False, has_extended_profile=False, profile_use_background_image=True, _json={u'follow_request_sent': False, u'has_extended_profile': False, u'profile_use_background_image': True, u'default_profile_image': False, u'id': 15446531, u'profile_background_image_url_https': u'https://pbs.twimg.com/profile_background_images/436390291/31135-The-Rent-is-Too-Damn-High-twitter.jpg', u'verified': True, u'profile_text_color': u'333333', u'profile_image_url_https': u'https://pbs.twimg.com/profile_images/665951848637960192/QSeHOlE2_normal.jpg', u'profile_sidebar_fill_color': u'DDEEF6', u'entities': {u'url': {u'urls': [{u'url': u'https://t.co/Wytx3mUUTn', u'indices': [0, 23], u'expanded_url': u'http://www.tinyletter.com/mattyglesias', u'display_url': u'tinyletter.com/mattyglesias'}]}, u'description': {u'urls': []}}, u'followers_count': 183017, u'profile_sidebar_border_color': u'C0DEED', u'id_str': u'15446531', u'profile_background_color': u'ABB8C2', u'listed_count': 7698, u'is_translation_enabled': False, u'utc_offset': -18000, u'statuses_count': 112943, u'description': u'Dad. Voxxer.', u'friends_count': 647, u'location': u'Washington, DC', u'profile_link_color': u'89C9FA', u'profile_image_url': u'http://pbs.twimg.com/profile_images/665951848637960192/QSeHOlE2_normal.jpg', u'following': False, u'geo_enabled': True, u'profile_banner_url': u'https://pbs.twimg.com/profile_banners/15446531/1388068610', u'profile_background_image_url': u'http://pbs.twimg.com/profile_background_images/436390291/31135-The-Rent-is-Too-Damn-High-twitter.jpg', u'screen_name': u'mattyglesias', u'lang': u'en', u'profile_background_tile': False, u'favourites_count': 2431, u'name': u'Matthew Yglesias', u'notifications': False, u'url': u'https://t.co/Wytx3mUUTn', u'created_at': u'Tue Jul 15 21:44:28 +0000 2008', u'contributors_enabled': False, u'time_zone': u'Quito', u'protected': False, u'default_profile': False, u'is_translator': False}, time_zone=u'Quito', id=15446531, _api=<tweepy.api.API object at 0x10aefb6d0>, verified=True, profile_text_color=u'333333', profile_image_url_https=u'https://pbs.twimg.com/profile_images/665951848637960192/QSeHOlE2_normal.jpg', profile_sidebar_fill_color=u'DDEEF6', is_translator=False, geo_enabled=True, entities={u'url': {u'urls': [{u'url': u'https://t.co/Wytx3mUUTn', u'indices': [0, 23], u'expanded_url': u'http://www.tinyletter.com/mattyglesias', u'display_url': u'tinyletter.com/mattyglesias'}]}, u'description': {u'urls': []}}, followers_count=183017, protected=False, id_str=u'15446531', default_profile_image=False, listed_count=7698, lang=u'en', utc_offset=-18000, statuses_count=112943, description=u'Dad. Voxxer.', friends_count=647, profile_link_color=u'89C9FA', profile_image_url=u'http://pbs.twimg.com/profile_images/665951848637960192/QSeHOlE2_normal.jpg', notifications=False, profile_background_image_url_https=u'https://pbs.twimg.com/profile_background_images/436390291/31135-The-Rent-is-Too-Damn-High-twitter.jpg', profile_background_color=u'ABB8C2', profile_banner_url=u'https://pbs.twimg.com/profile_banners/15446531/1388068610', profile_background_image_url=u'http://pbs.twimg.com/profile_background_images/436390291/31135-The-Rent-is-Too-Damn-High-twitter.jpg', name=u'Matthew Yglesias', is_translation_enabled=False, profile_background_tile=False, favourites_count=2431, screen_name=u'mattyglesias', url=u'https://t.co/Wytx3mUUTn', created_at=datetime.datetime(2008, 7, 15, 21, 44, 28), contributors_enabled=False, location=u'Washington, DC', profile_sidebar_border_color=u'C0DEED', default_profile=False, following=False), geo=None, in_reply_to_user_id_str=None, possibly_sensitive=False, lang=u'en', created_at=datetime.datetime(2016, 8, 17, 2, 42, 44), in_reply_to_status_id_str=None, place=None, source=u'Twitter for iPad', extended_entities={u'media': [{u'expanded_url': u'http://twitter.com/mattyglesias/status/765740617196601344/photo/1', u'display_url': u'pic.twitter.com/U2uDpWtKRL', u'url': u'https://t.co/U2uDpWtKRL', u'media_url_https': u'https://pbs.twimg.com/media/CqB1BfvWAAQ1-oX.jpg', u'id_str': u'765740605213376516', u'sizes': {u'large': {u'h': 2048, u'resize': u'fit', u'w': 1536}, u'small': {u'h': 680, u'resize': u'fit', u'w': 510}, u'medium': {u'h': 1200, u'resize': u'fit', u'w': 900}, u'thumb': {u'h': 150, u'resize': u'crop', u'w': 150}}, u'indices': [116, 139], u'type': u'photo', u'id': 765740605213376516, u'media_url': u'http://pbs.twimg.com/media/CqB1BfvWAAQ1-oX.jpg'}]}, retweeted=False, metadata={u'iso_language_code': u'en', u'result_type': u'recent'}), source_url=u'http://twitter.com/download/iphone', user=User(follow_request_sent=False, has_extended_profile=False, profile_use_background_image=True, _json={u'follow_request_sent': False, u'has_extended_profile': False, u'profile_use_background_image': True, u'default_profile_image': False, u'id': 746487314046685184, u'profile_background_image_url_https': None, u'verified': False, u'profile_text_color': u'333333', u'profile_image_url_https': u'https://pbs.twimg.com/profile_images/746490546831691776/n3aQiG8f_normal.jpg', u'profile_sidebar_fill_color': u'DDEEF6', u'entities': {u'description': {u'urls': []}}, u'followers_count': 50, u'profile_sidebar_border_color': u'C0DEED', u'id_str': u'746487314046685184', u'profile_background_color': u'F5F8FA', u'listed_count': 0, u'is_translation_enabled': False, u'utc_offset': None, u'statuses_count': 115, u'description': u\"My handle is a great handle! I'm amazing at building handles. The handles love me. (Also popular with people with less than a high school education.)\", u'friends_count': 110, u'location': u'United States', u'profile_link_color': u'2B7BB9', u'profile_image_url': u'http://pbs.twimg.com/profile_images/746490546831691776/n3aQiG8f_normal.jpg', u'following': False, u'geo_enabled': False, u'profile_banner_url': u'https://pbs.twimg.com/profile_banners/746487314046685184/1466812064', u'profile_background_image_url': None, u'screen_name': u'donfucktrumpet', u'lang': u'en', u'profile_background_tile': False, u'favourites_count': 347, u'name': u'toup\\xe9d fucktrumpet', u'notifications': False, u'url': None, u'created_at': u'Fri Jun 24 23:36:59 +0000 2016', u'contributors_enabled': False, u'time_zone': None, u'protected': False, u'default_profile': True, u'is_translator': False}, time_zone=None, id=746487314046685184, _api=<tweepy.api.API object at 0x10aefb6d0>, verified=False, profile_text_color=u'333333', profile_image_url_https=u'https://pbs.twimg.com/profile_images/746490546831691776/n3aQiG8f_normal.jpg', profile_sidebar_fill_color=u'DDEEF6', is_translator=False, geo_enabled=False, entities={u'description': {u'urls': []}}, followers_count=50, protected=False, id_str=u'746487314046685184', default_profile_image=False, listed_count=0, lang=u'en', utc_offset=None, statuses_count=115, description=u\"My handle is a great handle! I'm amazing at building handles. The handles love me. (Also popular with people with less than a high school education.)\", friends_count=110, profile_link_color=u'2B7BB9', profile_image_url=u'http://pbs.twimg.com/profile_images/746490546831691776/n3aQiG8f_normal.jpg', notifications=False, profile_background_image_url_https=None, profile_background_color=u'F5F8FA', profile_banner_url=u'https://pbs.twimg.com/profile_banners/746487314046685184/1466812064', profile_background_image_url=None, name=u'toup\\xe9d fucktrumpet', is_translation_enabled=False, profile_background_tile=False, favourites_count=347, screen_name=u'donfucktrumpet', url=None, created_at=datetime.datetime(2016, 6, 24, 23, 36, 59), contributors_enabled=False, location=u'United States', profile_sidebar_border_color=u'C0DEED', default_profile=True, following=False), geo=None, in_reply_to_user_id_str=None, possibly_sensitive=False, lang=u'en', created_at=datetime.datetime(2016, 8, 17, 2, 45, 49), in_reply_to_status_id_str=None, place=None, source=u'Twitter for iPhone', extended_entities={u'media': [{u'source_user_id': 15446531, u'source_status_id_str': u'765740617196601344', u'expanded_url': u'http://twitter.com/mattyglesias/status/765740617196601344/photo/1', u'display_url': u'pic.twitter.com/U2uDpWtKRL', u'url': u'https://t.co/U2uDpWtKRL', u'media_url_https': u'https://pbs.twimg.com/media/CqB1BfvWAAQ1-oX.jpg', u'source_user_id_str': u'15446531', u'source_status_id': 765740617196601344, u'id_str': u'765740605213376516', u'sizes': {u'large': {u'h': 2048, u'resize': u'fit', u'w': 1536}, u'small': {u'h': 680, u'resize': u'fit', u'w': 510}, u'medium': {u'h': 1200, u'resize': u'fit', u'w': 900}, u'thumb': {u'h': 150, u'resize': u'crop', u'w': 150}}, u'indices': [139, 140], u'type': u'photo', u'id': 765740605213376516, u'media_url': u'http://pbs.twimg.com/media/CqB1BfvWAAQ1-oX.jpg'}]}, retweeted=False, metadata={u'iso_language_code': u'en', u'result_type': u'recent'})"
      ]
     },
     "execution_count": 17,
     "metadata": {},
     "output_type": "execute_result"
    }
   ],
   "source": [
    "# let's take a look at the first one\n",
    "tweets[0]"
   ]
  },
  {
   "cell_type": "code",
   "execution_count": 18,
   "metadata": {
    "collapsed": false
   },
   "outputs": [
    {
     "name": "stdout",
     "output_type": "stream",
     "text": [
      "2016-08-17 02:45:49\n",
      "RT @mattyglesias: Trump's original crime control policy was to execute 5 teens for a crime they didn't commit https://t.co/ndepgLX4dt https…\n"
     ]
    }
   ],
   "source": [
    "# wrappers come with built in python attributes and methods!\n",
    "print tweets[0].created_at\n",
    "print tweets[0].text"
   ]
  },
  {
   "cell_type": "code",
   "execution_count": 19,
   "metadata": {
    "collapsed": false
   },
   "outputs": [
    {
     "data": {
      "text/plain": [
       "User(follow_request_sent=False, has_extended_profile=False, profile_use_background_image=True, _json={u'follow_request_sent': False, u'has_extended_profile': False, u'profile_use_background_image': True, u'default_profile_image': False, u'id': 746487314046685184, u'profile_background_image_url_https': None, u'verified': False, u'profile_text_color': u'333333', u'profile_image_url_https': u'https://pbs.twimg.com/profile_images/746490546831691776/n3aQiG8f_normal.jpg', u'profile_sidebar_fill_color': u'DDEEF6', u'entities': {u'description': {u'urls': []}}, u'followers_count': 50, u'profile_sidebar_border_color': u'C0DEED', u'id_str': u'746487314046685184', u'profile_background_color': u'F5F8FA', u'listed_count': 0, u'is_translation_enabled': False, u'utc_offset': None, u'statuses_count': 115, u'description': u\"My handle is a great handle! I'm amazing at building handles. The handles love me. (Also popular with people with less than a high school education.)\", u'friends_count': 110, u'location': u'United States', u'profile_link_color': u'2B7BB9', u'profile_image_url': u'http://pbs.twimg.com/profile_images/746490546831691776/n3aQiG8f_normal.jpg', u'following': False, u'geo_enabled': False, u'profile_banner_url': u'https://pbs.twimg.com/profile_banners/746487314046685184/1466812064', u'profile_background_image_url': None, u'screen_name': u'donfucktrumpet', u'lang': u'en', u'profile_background_tile': False, u'favourites_count': 347, u'name': u'toup\\xe9d fucktrumpet', u'notifications': False, u'url': None, u'created_at': u'Fri Jun 24 23:36:59 +0000 2016', u'contributors_enabled': False, u'time_zone': None, u'protected': False, u'default_profile': True, u'is_translator': False}, time_zone=None, id=746487314046685184, _api=<tweepy.api.API object at 0x10aefb6d0>, verified=False, profile_text_color=u'333333', profile_image_url_https=u'https://pbs.twimg.com/profile_images/746490546831691776/n3aQiG8f_normal.jpg', profile_sidebar_fill_color=u'DDEEF6', is_translator=False, geo_enabled=False, entities={u'description': {u'urls': []}}, followers_count=50, protected=False, id_str=u'746487314046685184', default_profile_image=False, listed_count=0, lang=u'en', utc_offset=None, statuses_count=115, description=u\"My handle is a great handle! I'm amazing at building handles. The handles love me. (Also popular with people with less than a high school education.)\", friends_count=110, profile_link_color=u'2B7BB9', profile_image_url=u'http://pbs.twimg.com/profile_images/746490546831691776/n3aQiG8f_normal.jpg', notifications=False, profile_background_image_url_https=None, profile_background_color=u'F5F8FA', profile_banner_url=u'https://pbs.twimg.com/profile_banners/746487314046685184/1466812064', profile_background_image_url=None, name=u'toup\\xe9d fucktrumpet', is_translation_enabled=False, profile_background_tile=False, favourites_count=347, screen_name=u'donfucktrumpet', url=None, created_at=datetime.datetime(2016, 6, 24, 23, 36, 59), contributors_enabled=False, location=u'United States', profile_sidebar_border_color=u'C0DEED', default_profile=True, following=False)"
      ]
     },
     "execution_count": 19,
     "metadata": {},
     "output_type": "execute_result"
    }
   ],
   "source": [
    "# the author is an object in and of itself\n",
    "tweets[0].author"
   ]
  },
  {
   "cell_type": "code",
   "execution_count": 20,
   "metadata": {
    "collapsed": false
   },
   "outputs": [
    {
     "name": "stdout",
     "output_type": "stream",
     "text": [
      "donfucktrumpet\n",
      "http://pbs.twimg.com/profile_images/746490546831691776/n3aQiG8f_normal.jpg\n"
     ]
    }
   ],
   "source": [
    "# the author's handle\n",
    "print tweets[0].author.screen_name\n",
    "print tweets[0].author.profile_image_url"
   ]
  },
  {
   "cell_type": "markdown",
   "metadata": {},
   "source": [
    "<img src=\"http://pbs.twimg.com/profile_images/746490546831691776/n3aQiG8f_normal.jpg\">"
   ]
  },
  {
   "cell_type": "code",
   "execution_count": 21,
   "metadata": {
    "collapsed": false
   },
   "outputs": [
    {
     "name": "stdout",
     "output_type": "stream",
     "text": [
      "beginning live feed....\n",
      "@El_Chuco_TX at 2016-08-16 19:46:56: RT @_Makada_: I'm voting for Donald Trump for POTUS, no more career politicians!!!#TRUMP2016 #MakeAmericaGreatAgain #TrumpTrain https://t.c with 154 followers\n",
      "\n",
      "@ljsharbono at 2016-08-16 19:46:56: RT @SpecialKMB1969: Trump Rally Breaks Elton Johns Attendance Record At River City Arena\n",
      "U won't hear this #CNN\n",
      "https://t.co/kIGYniuFh6 ht with 184 followers\n",
      "\n",
      "@JessesLaw at 2016-08-16 19:46:56: RT @ddale8: Donald Trump: \"I'm going to break up the gangs, the cartels, and the criminal syndicates terrorizing our neighbourhoods.\" How? with 213 followers\n",
      "\n",
      "@HMaewest at 2016-08-16 19:46:56: RT @realDonaldTrump: \"@DallasVercillo: Boys from the hood call me Black Donald Trump #facts\" Great. with 1270 followers\n",
      "\n",
      "@bapasphotos at 2016-08-16 19:46:56: Often-confused Hillary Clinton found unresponsive amid questions about FBI interview notes https://t.co/24FXbXmnng with 201 followers\n",
      "\n",
      "@DawnSwe12515208 at 2016-08-16 19:46:56: RT @KazmierskiR: \"In my administration, I am going to enforce all laws pertaining to protecting classified information.\" ~Donald Trump #Wes with 869 followers\n",
      "\n",
      "@Alnotch1 at 2016-08-16 19:46:56: RT @AmyMek: Trump  \"My opponent Hillary Clinton would rather protect the offender than the victim.\" \n",
      "\n",
      "Just like she did with Bill's rape v with 616 followers\n",
      "\n",
      "@evapaterson at 2016-08-16 19:46:57: This is why Americans are so disillusioned with politics as \"practiced\" circa 2016 https://t.co/ySsKYfgWcl with 698 followers\n",
      "\n",
      "@authorclondon at 2016-08-16 19:46:57: RT @hemming_hawing: 2010s : Decade of the facepalm. https://t.co/XyXck0NcIf with 1237 followers\n",
      "\n",
      "@takodasaurus at 2016-08-16 19:46:57: RT @BlissTabitha: Donald Trump: I'm Asking for the Vote of Every African American Who Wants Better Future https://t.co/EFGbM6NUqt #MAGA with 75 followers\n",
      "\n",
      "@borden_bk at 2016-08-16 19:46:57: RT @mtnlovertoo: Bored Teleprompter Trump tells a crowd of white people in Milwaukee that hes all about black people https://t.co/mQBCVs with 154 followers\n",
      "\n",
      "@AngelDevil1166 at 2016-08-16 19:46:57: RT @MMFlint: \"Michael Moore may have just dropped a massive bombshell in the form of a blog post about Trump sabotaging campaign\" https://t with 3162 followers\n",
      "\n",
      "@DotPoetryCorner at 2016-08-16 19:46:57: RT @TheBillyWest: Zapp (&amp; Kif) present...Famous Quotes from Donald J Trump\n",
      "#MakeAmericaBrannigan\n",
      "@MAURICELAMARCHE https://t.co/Xaz9T8Rzht with 140 followers\n",
      "\n",
      "@tamaraleighllc at 2016-08-16 19:46:57: RT @carrieksada: Former @JebBush surrogate @Timodc feels we can survive a Hillary Clinton presidency. #NeverHillary  https://t.co/v2IpYqR with 14248 followers\n",
      "\n",
      "@Heinzilla at 2016-08-16 19:46:57: RT @JohnFugelsang: Donald Trump is blaming Democrats for the plight of unemployed African Americans in Milwaukee in a WI where Scott Walker with 460 followers\n",
      "\n",
      "@Patience_Miles at 2016-08-16 19:46:57: RT @FredBen217: #ManyPeopleAreSaying that Donald Trump is showing obvious signs of the hereditary Late Onset Alzhiemers that plagued his Da with 470 followers\n",
      "\n",
      "@Glade8r007 at 2016-08-16 19:46:57: RT @Stellasasha1: Trump speech now  NOTHING short of fabulous. Complete dissection of Hillary Rotten Clinton. #OurLastChance https://t.co/7 with 717 followers\n",
      "\n",
      "@jav63 at 2016-08-16 19:46:57: RT @KLSouth: Whoa. Best Donald Trump ever. Nailing it bigtime. Im very impressed. with 68 followers\n",
      "\n",
      "@WPufall at 2016-08-16 19:46:58: RT @NimbleNavgater: Donald Trump is the president right now as far as I'm concerned. While Obama relaxes on vacation Trump speaks to a dist with 231 followers\n",
      "\n",
      "@noushaddup at 2016-08-16 19:46:58: RT @gatewaypundit: Donald Trump: Im Asking for the Vote of Every African American Who Wants a Better Future in this Country https://t.co with 47 followers\n",
      "\n",
      "@stephaniecya at 2016-08-16 19:46:58: RT @ajplus: Did Donald Trump just suggest a temporary ban on himself?\n",
      "https://t.co/Iik8XvgXf6 with 397 followers\n",
      "\n",
      "@judgematty at 2016-08-16 19:46:58: @Hope_ZeroKelvin Donald Trump doesn't give a shit abt Chicago, or any of the people in the city. He will lose &amp; go away soon. @Deanofcomedy with 246 followers\n",
      "\n",
      "@couerfidele at 2016-08-16 19:46:58: RT @KerryPicket: Poll: Most Voters Believe Hillary Used Influence At State To Help Clinton Foundation Donors https://t.co/9ak1FMoFxN via @d with 1897 followers\n",
      "\n",
      "@CindyDay1 at 2016-08-16 19:46:58: RT @fabrightwing: \"I'm with you, I will fight for you, and I will win for you.\" - Donald J. Trump  #TrumpSpeech #MakeAmericaGreatAgain #Ame with 1650 followers\n",
      "\n"
     ]
    },
    {
     "ename": "KeyboardInterrupt",
     "evalue": "",
     "output_type": "error",
     "traceback": [
      "\u001b[0;31m---------------------------------------------------------------------------\u001b[0m",
      "\u001b[0;31mKeyboardInterrupt\u001b[0m                         Traceback (most recent call last)",
      "\u001b[0;32m<ipython-input-21-f8bfe48d003b>\u001b[0m in \u001b[0;36m<module>\u001b[0;34m()\u001b[0m\n\u001b[1;32m     29\u001b[0m     \u001b[0mstream\u001b[0m\u001b[0;34m.\u001b[0m\u001b[0mfilter\u001b[0m\u001b[0;34m(\u001b[0m\u001b[0mtrack\u001b[0m\u001b[0;34m=\u001b[0m\u001b[0mtags_to_follow\u001b[0m\u001b[0;34m)\u001b[0m\u001b[0;34m\u001b[0m\u001b[0m\n\u001b[1;32m     30\u001b[0m \u001b[0;34m\u001b[0m\u001b[0m\n\u001b[0;32m---> 31\u001b[0;31m \u001b[0mbegin_live_feed\u001b[0m\u001b[0;34m(\u001b[0m\u001b[0;34m[\u001b[0m\u001b[0;34m'donald trump'\u001b[0m\u001b[0;34m,\u001b[0m \u001b[0;34m'hillary clinton'\u001b[0m\u001b[0;34m]\u001b[0m\u001b[0;34m)\u001b[0m\u001b[0;34m\u001b[0m\u001b[0m\n\u001b[0m\u001b[1;32m     32\u001b[0m \u001b[0;31m# this is an example use, if you create a list of words and phrases,\u001b[0m\u001b[0;34m\u001b[0m\u001b[0;34m\u001b[0m\u001b[0m\n\u001b[1;32m     33\u001b[0m \u001b[0;31m# a live stream of tweets about them will show up\u001b[0m\u001b[0;34m\u001b[0m\u001b[0;34m\u001b[0m\u001b[0m\n",
      "\u001b[0;32m<ipython-input-21-f8bfe48d003b>\u001b[0m in \u001b[0;36mbegin_live_feed\u001b[0;34m(tags_to_follow)\u001b[0m\n\u001b[1;32m     27\u001b[0m     \u001b[0mauth\u001b[0m\u001b[0;34m.\u001b[0m\u001b[0mset_access_token\u001b[0m\u001b[0;34m(\u001b[0m\u001b[0maccess_token\u001b[0m\u001b[0;34m,\u001b[0m \u001b[0maccess_secret\u001b[0m\u001b[0;34m)\u001b[0m\u001b[0;34m\u001b[0m\u001b[0m\n\u001b[1;32m     28\u001b[0m     \u001b[0mstream\u001b[0m \u001b[0;34m=\u001b[0m \u001b[0mtweepy\u001b[0m\u001b[0;34m.\u001b[0m\u001b[0mStream\u001b[0m\u001b[0;34m(\u001b[0m\u001b[0mauth\u001b[0m\u001b[0;34m,\u001b[0m \u001b[0ml\u001b[0m\u001b[0;34m)\u001b[0m\u001b[0;34m\u001b[0m\u001b[0m\n\u001b[0;32m---> 29\u001b[0;31m     \u001b[0mstream\u001b[0m\u001b[0;34m.\u001b[0m\u001b[0mfilter\u001b[0m\u001b[0;34m(\u001b[0m\u001b[0mtrack\u001b[0m\u001b[0;34m=\u001b[0m\u001b[0mtags_to_follow\u001b[0m\u001b[0;34m)\u001b[0m\u001b[0;34m\u001b[0m\u001b[0m\n\u001b[0m\u001b[1;32m     30\u001b[0m \u001b[0;34m\u001b[0m\u001b[0m\n\u001b[1;32m     31\u001b[0m \u001b[0mbegin_live_feed\u001b[0m\u001b[0;34m(\u001b[0m\u001b[0;34m[\u001b[0m\u001b[0;34m'donald trump'\u001b[0m\u001b[0;34m,\u001b[0m \u001b[0;34m'hillary clinton'\u001b[0m\u001b[0;34m]\u001b[0m\u001b[0;34m)\u001b[0m\u001b[0;34m\u001b[0m\u001b[0m\n",
      "\u001b[0;32m/Users/sinanozdemir/anaconda/envs/sawyer-env/lib/python2.7/site-packages/tweepy/streaming.pyc\u001b[0m in \u001b[0;36mfilter\u001b[0;34m(self, follow, track, async, locations, stall_warnings, languages, encoding)\u001b[0m\n\u001b[1;32m    426\u001b[0m         \u001b[0mself\u001b[0m\u001b[0;34m.\u001b[0m\u001b[0msession\u001b[0m\u001b[0;34m.\u001b[0m\u001b[0mparams\u001b[0m \u001b[0;34m=\u001b[0m \u001b[0;34m{\u001b[0m\u001b[0;34m'delimited'\u001b[0m\u001b[0;34m:\u001b[0m \u001b[0;34m'length'\u001b[0m\u001b[0;34m}\u001b[0m\u001b[0;34m\u001b[0m\u001b[0m\n\u001b[1;32m    427\u001b[0m         \u001b[0mself\u001b[0m\u001b[0;34m.\u001b[0m\u001b[0mhost\u001b[0m \u001b[0;34m=\u001b[0m \u001b[0;34m'stream.twitter.com'\u001b[0m\u001b[0;34m\u001b[0m\u001b[0m\n\u001b[0;32m--> 428\u001b[0;31m         \u001b[0mself\u001b[0m\u001b[0;34m.\u001b[0m\u001b[0m_start\u001b[0m\u001b[0;34m(\u001b[0m\u001b[0masync\u001b[0m\u001b[0;34m)\u001b[0m\u001b[0;34m\u001b[0m\u001b[0m\n\u001b[0m\u001b[1;32m    429\u001b[0m \u001b[0;34m\u001b[0m\u001b[0m\n\u001b[1;32m    430\u001b[0m     def sitestream(self, follow, stall_warnings=False,\n",
      "\u001b[0;32m/Users/sinanozdemir/anaconda/envs/sawyer-env/lib/python2.7/site-packages/tweepy/streaming.pyc\u001b[0m in \u001b[0;36m_start\u001b[0;34m(self, async)\u001b[0m\n\u001b[1;32m    344\u001b[0m             \u001b[0mself\u001b[0m\u001b[0;34m.\u001b[0m\u001b[0m_thread\u001b[0m\u001b[0;34m.\u001b[0m\u001b[0mstart\u001b[0m\u001b[0;34m(\u001b[0m\u001b[0;34m)\u001b[0m\u001b[0;34m\u001b[0m\u001b[0m\n\u001b[1;32m    345\u001b[0m         \u001b[0;32melse\u001b[0m\u001b[0;34m:\u001b[0m\u001b[0;34m\u001b[0m\u001b[0m\n\u001b[0;32m--> 346\u001b[0;31m             \u001b[0mself\u001b[0m\u001b[0;34m.\u001b[0m\u001b[0m_run\u001b[0m\u001b[0;34m(\u001b[0m\u001b[0;34m)\u001b[0m\u001b[0;34m\u001b[0m\u001b[0m\n\u001b[0m\u001b[1;32m    347\u001b[0m \u001b[0;34m\u001b[0m\u001b[0m\n\u001b[1;32m    348\u001b[0m     \u001b[0;32mdef\u001b[0m \u001b[0mon_closed\u001b[0m\u001b[0;34m(\u001b[0m\u001b[0mself\u001b[0m\u001b[0;34m,\u001b[0m \u001b[0mresp\u001b[0m\u001b[0;34m)\u001b[0m\u001b[0;34m:\u001b[0m\u001b[0;34m\u001b[0m\u001b[0m\n",
      "\u001b[0;32m/Users/sinanozdemir/anaconda/envs/sawyer-env/lib/python2.7/site-packages/tweepy/streaming.pyc\u001b[0m in \u001b[0;36m_run\u001b[0;34m(self)\u001b[0m\n\u001b[1;32m    253\u001b[0m                     \u001b[0mself\u001b[0m\u001b[0;34m.\u001b[0m\u001b[0msnooze_time\u001b[0m \u001b[0;34m=\u001b[0m \u001b[0mself\u001b[0m\u001b[0;34m.\u001b[0m\u001b[0msnooze_time_step\u001b[0m\u001b[0;34m\u001b[0m\u001b[0m\n\u001b[1;32m    254\u001b[0m                     \u001b[0mself\u001b[0m\u001b[0;34m.\u001b[0m\u001b[0mlistener\u001b[0m\u001b[0;34m.\u001b[0m\u001b[0mon_connect\u001b[0m\u001b[0;34m(\u001b[0m\u001b[0;34m)\u001b[0m\u001b[0;34m\u001b[0m\u001b[0m\n\u001b[0;32m--> 255\u001b[0;31m                     \u001b[0mself\u001b[0m\u001b[0;34m.\u001b[0m\u001b[0m_read_loop\u001b[0m\u001b[0;34m(\u001b[0m\u001b[0mresp\u001b[0m\u001b[0;34m)\u001b[0m\u001b[0;34m\u001b[0m\u001b[0m\n\u001b[0m\u001b[1;32m    256\u001b[0m             \u001b[0;32mexcept\u001b[0m \u001b[0;34m(\u001b[0m\u001b[0mTimeout\u001b[0m\u001b[0;34m,\u001b[0m \u001b[0mssl\u001b[0m\u001b[0;34m.\u001b[0m\u001b[0mSSLError\u001b[0m\u001b[0;34m)\u001b[0m \u001b[0;32mas\u001b[0m \u001b[0mexc\u001b[0m\u001b[0;34m:\u001b[0m\u001b[0;34m\u001b[0m\u001b[0m\n\u001b[1;32m    257\u001b[0m                 \u001b[0;31m# This is still necessary, as a SSLError can actually be\u001b[0m\u001b[0;34m\u001b[0m\u001b[0;34m\u001b[0m\u001b[0m\n",
      "\u001b[0;32m/Users/sinanozdemir/anaconda/envs/sawyer-env/lib/python2.7/site-packages/tweepy/streaming.pyc\u001b[0m in \u001b[0;36m_read_loop\u001b[0;34m(self, resp)\u001b[0m\n\u001b[1;32m    296\u001b[0m             \u001b[0mlength\u001b[0m \u001b[0;34m=\u001b[0m \u001b[0;36m0\u001b[0m\u001b[0;34m\u001b[0m\u001b[0m\n\u001b[1;32m    297\u001b[0m             \u001b[0;32mwhile\u001b[0m \u001b[0;32mnot\u001b[0m \u001b[0mresp\u001b[0m\u001b[0;34m.\u001b[0m\u001b[0mraw\u001b[0m\u001b[0;34m.\u001b[0m\u001b[0mclosed\u001b[0m\u001b[0;34m:\u001b[0m\u001b[0;34m\u001b[0m\u001b[0m\n\u001b[0;32m--> 298\u001b[0;31m                 \u001b[0mline\u001b[0m \u001b[0;34m=\u001b[0m \u001b[0mbuf\u001b[0m\u001b[0;34m.\u001b[0m\u001b[0mread_line\u001b[0m\u001b[0;34m(\u001b[0m\u001b[0;34m)\u001b[0m\u001b[0;34m.\u001b[0m\u001b[0mstrip\u001b[0m\u001b[0;34m(\u001b[0m\u001b[0;34m)\u001b[0m\u001b[0;34m\u001b[0m\u001b[0m\n\u001b[0m\u001b[1;32m    299\u001b[0m                 \u001b[0;32mif\u001b[0m \u001b[0;32mnot\u001b[0m \u001b[0mline\u001b[0m\u001b[0;34m:\u001b[0m\u001b[0;34m\u001b[0m\u001b[0m\n\u001b[1;32m    300\u001b[0m                     \u001b[0mself\u001b[0m\u001b[0;34m.\u001b[0m\u001b[0mlistener\u001b[0m\u001b[0;34m.\u001b[0m\u001b[0mkeep_alive\u001b[0m\u001b[0;34m(\u001b[0m\u001b[0;34m)\u001b[0m  \u001b[0;31m# keep-alive new lines are expected\u001b[0m\u001b[0;34m\u001b[0m\u001b[0m\n",
      "\u001b[0;32m/Users/sinanozdemir/anaconda/envs/sawyer-env/lib/python2.7/site-packages/tweepy/streaming.pyc\u001b[0m in \u001b[0;36mread_line\u001b[0;34m(self, sep)\u001b[0m\n\u001b[1;32m    169\u001b[0m             \u001b[0;32melse\u001b[0m\u001b[0;34m:\u001b[0m\u001b[0;34m\u001b[0m\u001b[0m\n\u001b[1;32m    170\u001b[0m                 \u001b[0mstart\u001b[0m \u001b[0;34m=\u001b[0m \u001b[0mlen\u001b[0m\u001b[0;34m(\u001b[0m\u001b[0mself\u001b[0m\u001b[0;34m.\u001b[0m\u001b[0m_buffer\u001b[0m\u001b[0;34m)\u001b[0m\u001b[0;34m\u001b[0m\u001b[0m\n\u001b[0;32m--> 171\u001b[0;31m             \u001b[0mself\u001b[0m\u001b[0;34m.\u001b[0m\u001b[0m_buffer\u001b[0m \u001b[0;34m+=\u001b[0m \u001b[0mself\u001b[0m\u001b[0;34m.\u001b[0m\u001b[0m_stream\u001b[0m\u001b[0;34m.\u001b[0m\u001b[0mread\u001b[0m\u001b[0;34m(\u001b[0m\u001b[0mself\u001b[0m\u001b[0;34m.\u001b[0m\u001b[0m_chunk_size\u001b[0m\u001b[0;34m)\u001b[0m\u001b[0;34m.\u001b[0m\u001b[0mdecode\u001b[0m\u001b[0;34m(\u001b[0m\u001b[0;34m\"ascii\"\u001b[0m\u001b[0;34m)\u001b[0m\u001b[0;34m\u001b[0m\u001b[0m\n\u001b[0m\u001b[1;32m    172\u001b[0m \u001b[0;34m\u001b[0m\u001b[0m\n\u001b[1;32m    173\u001b[0m     \u001b[0;32mdef\u001b[0m \u001b[0m_pop\u001b[0m\u001b[0;34m(\u001b[0m\u001b[0mself\u001b[0m\u001b[0;34m,\u001b[0m \u001b[0mlength\u001b[0m\u001b[0;34m)\u001b[0m\u001b[0;34m:\u001b[0m\u001b[0;34m\u001b[0m\u001b[0m\n",
      "\u001b[0;32m/Users/sinanozdemir/anaconda/envs/sawyer-env/lib/python2.7/site-packages/requests/packages/urllib3/response.pyc\u001b[0m in \u001b[0;36mread\u001b[0;34m(self, amt, decode_content, cache_content)\u001b[0m\n\u001b[1;32m    308\u001b[0m             \u001b[0;32melse\u001b[0m\u001b[0;34m:\u001b[0m\u001b[0;34m\u001b[0m\u001b[0m\n\u001b[1;32m    309\u001b[0m                 \u001b[0mcache_content\u001b[0m \u001b[0;34m=\u001b[0m \u001b[0mFalse\u001b[0m\u001b[0;34m\u001b[0m\u001b[0m\n\u001b[0;32m--> 310\u001b[0;31m                 \u001b[0mdata\u001b[0m \u001b[0;34m=\u001b[0m \u001b[0mself\u001b[0m\u001b[0;34m.\u001b[0m\u001b[0m_fp\u001b[0m\u001b[0;34m.\u001b[0m\u001b[0mread\u001b[0m\u001b[0;34m(\u001b[0m\u001b[0mamt\u001b[0m\u001b[0;34m)\u001b[0m\u001b[0;34m\u001b[0m\u001b[0m\n\u001b[0m\u001b[1;32m    311\u001b[0m                 \u001b[0;32mif\u001b[0m \u001b[0mamt\u001b[0m \u001b[0;34m!=\u001b[0m \u001b[0;36m0\u001b[0m \u001b[0;32mand\u001b[0m \u001b[0;32mnot\u001b[0m \u001b[0mdata\u001b[0m\u001b[0;34m:\u001b[0m  \u001b[0;31m# Platform-specific: Buggy versions of Python.\u001b[0m\u001b[0;34m\u001b[0m\u001b[0m\n\u001b[1;32m    312\u001b[0m                     \u001b[0;31m# Close the connection when no data is returned\u001b[0m\u001b[0;34m\u001b[0m\u001b[0;34m\u001b[0m\u001b[0m\n",
      "\u001b[0;32m/Users/sinanozdemir/anaconda/envs/sawyer-env/lib/python2.7/httplib.pyc\u001b[0m in \u001b[0;36mread\u001b[0;34m(self, amt)\u001b[0m\n\u001b[1;32m    586\u001b[0m \u001b[0;34m\u001b[0m\u001b[0m\n\u001b[1;32m    587\u001b[0m         \u001b[0;32mif\u001b[0m \u001b[0mself\u001b[0m\u001b[0;34m.\u001b[0m\u001b[0mchunked\u001b[0m\u001b[0;34m:\u001b[0m\u001b[0;34m\u001b[0m\u001b[0m\n\u001b[0;32m--> 588\u001b[0;31m             \u001b[0;32mreturn\u001b[0m \u001b[0mself\u001b[0m\u001b[0;34m.\u001b[0m\u001b[0m_read_chunked\u001b[0m\u001b[0;34m(\u001b[0m\u001b[0mamt\u001b[0m\u001b[0;34m)\u001b[0m\u001b[0;34m\u001b[0m\u001b[0m\n\u001b[0m\u001b[1;32m    589\u001b[0m \u001b[0;34m\u001b[0m\u001b[0m\n\u001b[1;32m    590\u001b[0m         \u001b[0;32mif\u001b[0m \u001b[0mamt\u001b[0m \u001b[0;32mis\u001b[0m \u001b[0mNone\u001b[0m\u001b[0;34m:\u001b[0m\u001b[0;34m\u001b[0m\u001b[0m\n",
      "\u001b[0;32m/Users/sinanozdemir/anaconda/envs/sawyer-env/lib/python2.7/httplib.pyc\u001b[0m in \u001b[0;36m_read_chunked\u001b[0;34m(self, amt)\u001b[0m\n\u001b[1;32m    628\u001b[0m         \u001b[0;32mwhile\u001b[0m \u001b[0mTrue\u001b[0m\u001b[0;34m:\u001b[0m\u001b[0;34m\u001b[0m\u001b[0m\n\u001b[1;32m    629\u001b[0m             \u001b[0;32mif\u001b[0m \u001b[0mchunk_left\u001b[0m \u001b[0;32mis\u001b[0m \u001b[0mNone\u001b[0m\u001b[0;34m:\u001b[0m\u001b[0;34m\u001b[0m\u001b[0m\n\u001b[0;32m--> 630\u001b[0;31m                 \u001b[0mline\u001b[0m \u001b[0;34m=\u001b[0m \u001b[0mself\u001b[0m\u001b[0;34m.\u001b[0m\u001b[0mfp\u001b[0m\u001b[0;34m.\u001b[0m\u001b[0mreadline\u001b[0m\u001b[0;34m(\u001b[0m\u001b[0m_MAXLINE\u001b[0m \u001b[0;34m+\u001b[0m \u001b[0;36m1\u001b[0m\u001b[0;34m)\u001b[0m\u001b[0;34m\u001b[0m\u001b[0m\n\u001b[0m\u001b[1;32m    631\u001b[0m                 \u001b[0;32mif\u001b[0m \u001b[0mlen\u001b[0m\u001b[0;34m(\u001b[0m\u001b[0mline\u001b[0m\u001b[0;34m)\u001b[0m \u001b[0;34m>\u001b[0m \u001b[0m_MAXLINE\u001b[0m\u001b[0;34m:\u001b[0m\u001b[0;34m\u001b[0m\u001b[0m\n\u001b[1;32m    632\u001b[0m                     \u001b[0;32mraise\u001b[0m \u001b[0mLineTooLong\u001b[0m\u001b[0;34m(\u001b[0m\u001b[0;34m\"chunk size\"\u001b[0m\u001b[0;34m)\u001b[0m\u001b[0;34m\u001b[0m\u001b[0m\n",
      "\u001b[0;32m/Users/sinanozdemir/anaconda/envs/sfdat26-env/lib/python2.7/socket.pyc\u001b[0m in \u001b[0;36mreadline\u001b[0;34m(self, size)\u001b[0m\n\u001b[1;32m    478\u001b[0m             \u001b[0;32mwhile\u001b[0m \u001b[0mTrue\u001b[0m\u001b[0;34m:\u001b[0m\u001b[0;34m\u001b[0m\u001b[0m\n\u001b[1;32m    479\u001b[0m                 \u001b[0;32mtry\u001b[0m\u001b[0;34m:\u001b[0m\u001b[0;34m\u001b[0m\u001b[0m\n\u001b[0;32m--> 480\u001b[0;31m                     \u001b[0mdata\u001b[0m \u001b[0;34m=\u001b[0m \u001b[0mself\u001b[0m\u001b[0;34m.\u001b[0m\u001b[0m_sock\u001b[0m\u001b[0;34m.\u001b[0m\u001b[0mrecv\u001b[0m\u001b[0;34m(\u001b[0m\u001b[0mself\u001b[0m\u001b[0;34m.\u001b[0m\u001b[0m_rbufsize\u001b[0m\u001b[0;34m)\u001b[0m\u001b[0;34m\u001b[0m\u001b[0m\n\u001b[0m\u001b[1;32m    481\u001b[0m                 \u001b[0;32mexcept\u001b[0m \u001b[0merror\u001b[0m\u001b[0;34m,\u001b[0m \u001b[0me\u001b[0m\u001b[0;34m:\u001b[0m\u001b[0;34m\u001b[0m\u001b[0m\n\u001b[1;32m    482\u001b[0m                     \u001b[0;32mif\u001b[0m \u001b[0me\u001b[0m\u001b[0;34m.\u001b[0m\u001b[0margs\u001b[0m\u001b[0;34m[\u001b[0m\u001b[0;36m0\u001b[0m\u001b[0;34m]\u001b[0m \u001b[0;34m==\u001b[0m \u001b[0mEINTR\u001b[0m\u001b[0;34m:\u001b[0m\u001b[0;34m\u001b[0m\u001b[0m\n",
      "\u001b[0;32m/Users/sinanozdemir/anaconda/envs/sfdat26-env/lib/python2.7/ssl.pyc\u001b[0m in \u001b[0;36mrecv\u001b[0;34m(self, buflen, flags)\u001b[0m\n\u001b[1;32m    754\u001b[0m                     \u001b[0;34m\"non-zero flags not allowed in calls to recv() on %s\"\u001b[0m \u001b[0;34m%\u001b[0m\u001b[0;34m\u001b[0m\u001b[0m\n\u001b[1;32m    755\u001b[0m                     self.__class__)\n\u001b[0;32m--> 756\u001b[0;31m             \u001b[0;32mreturn\u001b[0m \u001b[0mself\u001b[0m\u001b[0;34m.\u001b[0m\u001b[0mread\u001b[0m\u001b[0;34m(\u001b[0m\u001b[0mbuflen\u001b[0m\u001b[0;34m)\u001b[0m\u001b[0;34m\u001b[0m\u001b[0m\n\u001b[0m\u001b[1;32m    757\u001b[0m         \u001b[0;32melse\u001b[0m\u001b[0;34m:\u001b[0m\u001b[0;34m\u001b[0m\u001b[0m\n\u001b[1;32m    758\u001b[0m             \u001b[0;32mreturn\u001b[0m \u001b[0mself\u001b[0m\u001b[0;34m.\u001b[0m\u001b[0m_sock\u001b[0m\u001b[0;34m.\u001b[0m\u001b[0mrecv\u001b[0m\u001b[0;34m(\u001b[0m\u001b[0mbuflen\u001b[0m\u001b[0;34m,\u001b[0m \u001b[0mflags\u001b[0m\u001b[0;34m)\u001b[0m\u001b[0;34m\u001b[0m\u001b[0m\n",
      "\u001b[0;32m/Users/sinanozdemir/anaconda/envs/sfdat26-env/lib/python2.7/ssl.pyc\u001b[0m in \u001b[0;36mread\u001b[0;34m(self, len, buffer)\u001b[0m\n\u001b[1;32m    641\u001b[0m                 \u001b[0mv\u001b[0m \u001b[0;34m=\u001b[0m \u001b[0mself\u001b[0m\u001b[0;34m.\u001b[0m\u001b[0m_sslobj\u001b[0m\u001b[0;34m.\u001b[0m\u001b[0mread\u001b[0m\u001b[0;34m(\u001b[0m\u001b[0mlen\u001b[0m\u001b[0;34m,\u001b[0m \u001b[0mbuffer\u001b[0m\u001b[0;34m)\u001b[0m\u001b[0;34m\u001b[0m\u001b[0m\n\u001b[1;32m    642\u001b[0m             \u001b[0;32melse\u001b[0m\u001b[0;34m:\u001b[0m\u001b[0;34m\u001b[0m\u001b[0m\n\u001b[0;32m--> 643\u001b[0;31m                 \u001b[0mv\u001b[0m \u001b[0;34m=\u001b[0m \u001b[0mself\u001b[0m\u001b[0;34m.\u001b[0m\u001b[0m_sslobj\u001b[0m\u001b[0;34m.\u001b[0m\u001b[0mread\u001b[0m\u001b[0;34m(\u001b[0m\u001b[0mlen\u001b[0m\u001b[0;34m)\u001b[0m\u001b[0;34m\u001b[0m\u001b[0m\n\u001b[0m\u001b[1;32m    644\u001b[0m             \u001b[0;32mreturn\u001b[0m \u001b[0mv\u001b[0m\u001b[0;34m\u001b[0m\u001b[0m\n\u001b[1;32m    645\u001b[0m         \u001b[0;32mexcept\u001b[0m \u001b[0mSSLError\u001b[0m \u001b[0;32mas\u001b[0m \u001b[0mx\u001b[0m\u001b[0;34m:\u001b[0m\u001b[0;34m\u001b[0m\u001b[0m\n",
      "\u001b[0;31mKeyboardInterrupt\u001b[0m: "
     ]
    }
   ],
   "source": [
    "'''\n",
    "THE BELOW CODE IS OPTIONAl\n",
    "It creates a stream of a given tag!\n",
    "'''\n",
    "\n",
    "# This is the listener, resposible for receiving data\n",
    "# I will not be covering this in class\n",
    "class StdOutListener(tweepy.StreamListener):\n",
    "    def on_data(self, data):\n",
    "        # Twitter returns data in JSON format - we need to decode it first\n",
    "        decoded = json.loads(data)\n",
    "        #print decoded\n",
    "        time_ =  time.strftime('%Y-%m-%d %H:%M:%S', time.localtime(int(decoded['timestamp_ms']) / 1000))\n",
    "        handle = decoded['user']['screen_name']\n",
    "        tweet_text = decoded['text'].encode('ascii', 'ignore')\n",
    "        num_followers = int(decoded['user']['followers_count'])\n",
    "        # Also, we convert UTF-8 to ASCII ignoring all bad characters sent by users\n",
    "        print '@%s at %s: %s with %d followers' % (handle, time_, tweet_text, num_followers)\n",
    "        print ''\n",
    "        return True\n",
    "    def on_error(self, status):\n",
    "        print status\n",
    "def begin_live_feed(tags_to_follow):\n",
    "    print \"beginning live feed....\"\n",
    "    l = StdOutListener()\n",
    "    auth = tweepy.OAuthHandler(api_key, api_secret)\n",
    "    auth.set_access_token(access_token, access_secret)\n",
    "    stream = tweepy.Stream(auth, l)\n",
    "    stream.filter(track=tags_to_follow)\n",
    "\n",
    "begin_live_feed(['donald trump', 'hillary clinton'])\n",
    "# this is an example use, if you create a list of words and phrases, \n",
    "# a live stream of tweets about them will show up\n",
    "\n",
    "# INTERUPT THE KERNEL TO STOP THE MADNESS"
   ]
  },
  {
   "cell_type": "code",
   "execution_count": 40,
   "metadata": {
    "collapsed": false
   },
   "outputs": [
    {
     "data": {
      "text/plain": [
       "'\\nOther considerations when accessing APIs:\\n- Most APIs require you to have an access key (which you should store outside your code)\\n- Most APIs limit the number of API calls you can make (per day, hour, minute, etc.)\\n- Not all APIs are free\\n- Not all APIs are well-documented\\n- Pay attention to the API version\\n\\nPython wrapper is another option for accessing an API:\\n- Set of functions that \"wrap\" the API code for ease of use\\n- Potentially simplifies your code\\n- But, wrapper could have bugs or be out-of-date or poorly documented\\n'"
      ]
     },
     "execution_count": 40,
     "metadata": {},
     "output_type": "execute_result"
    }
   ],
   "source": [
    "'''\n",
    "Other considerations when accessing APIs:\n",
    "- Most APIs require you to have an access key (which you should store outside your code)\n",
    "- Most APIs limit the number of API calls you can make (per day, hour, minute, etc.)\n",
    "- Not all APIs are free\n",
    "- Not all APIs are well-documented\n",
    "- Pay attention to the API version\n",
    "\n",
    "Python wrapper is another option for accessing an API:\n",
    "- Set of functions that \"wrap\" the API code for ease of use\n",
    "- Potentially simplifies your code\n",
    "- But, wrapper could have bugs or be out-of-date or poorly documented\n",
    "'''"
   ]
  },
  {
   "cell_type": "code",
   "execution_count": null,
   "metadata": {
    "collapsed": false
   },
   "outputs": [],
   "source": []
  },
  {
   "cell_type": "code",
   "execution_count": null,
   "metadata": {
    "collapsed": false
   },
   "outputs": [],
   "source": []
  },
  {
   "cell_type": "code",
   "execution_count": null,
   "metadata": {
    "collapsed": true
   },
   "outputs": [],
   "source": []
  },
  {
   "cell_type": "code",
   "execution_count": null,
   "metadata": {
    "collapsed": true
   },
   "outputs": [],
   "source": []
  },
  {
   "cell_type": "code",
   "execution_count": null,
   "metadata": {
    "collapsed": true
   },
   "outputs": [],
   "source": []
  },
  {
   "cell_type": "code",
   "execution_count": null,
   "metadata": {
    "collapsed": false
   },
   "outputs": [],
   "source": []
  },
  {
   "cell_type": "code",
   "execution_count": null,
   "metadata": {
    "collapsed": false
   },
   "outputs": [],
   "source": []
  },
  {
   "cell_type": "code",
   "execution_count": null,
   "metadata": {
    "collapsed": true
   },
   "outputs": [],
   "source": []
  },
  {
   "cell_type": "code",
   "execution_count": null,
   "metadata": {
    "collapsed": false
   },
   "outputs": [],
   "source": []
  },
  {
   "cell_type": "code",
   "execution_count": null,
   "metadata": {
    "collapsed": false
   },
   "outputs": [],
   "source": []
  },
  {
   "cell_type": "code",
   "execution_count": null,
   "metadata": {
    "collapsed": false
   },
   "outputs": [],
   "source": []
  },
  {
   "cell_type": "code",
   "execution_count": null,
   "metadata": {
    "collapsed": true
   },
   "outputs": [],
   "source": []
  }
 ],
 "metadata": {
  "anaconda-cloud": {},
  "kernelspec": {
   "display_name": "Python [sfdat26-env]",
   "language": "python",
   "name": "Python [sfdat26-env]"
  },
  "language_info": {
   "codemirror_mode": {
    "name": "ipython",
    "version": 2
   },
   "file_extension": ".py",
   "mimetype": "text/x-python",
   "name": "python",
   "nbconvert_exporter": "python",
   "pygments_lexer": "ipython2",
   "version": "2.7.12"
  }
 },
 "nbformat": 4,
 "nbformat_minor": 0
}
