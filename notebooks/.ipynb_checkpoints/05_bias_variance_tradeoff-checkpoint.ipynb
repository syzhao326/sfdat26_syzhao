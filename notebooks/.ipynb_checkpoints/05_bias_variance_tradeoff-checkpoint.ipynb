{
 "cells": [
  {
   "cell_type": "code",
   "execution_count": null,
   "metadata": {
    "collapsed": false
   },
   "outputs": [
    {
     "name": "stderr",
     "output_type": "stream",
     "text": [
      "/Users/sinanozdemir/anaconda/envs/sfdat26-env/lib/python2.7/site-packages/matplotlib/font_manager.py:273: UserWarning: Matplotlib is building the font cache using fc-list. This may take a moment.\n",
      "  warnings.warn('Matplotlib is building the font cache using fc-list. This may take a moment.')\n"
     ]
    }
   ],
   "source": [
    "# # Exploring the Bias-Variance Tradeoff\n",
    "\n",
    "import pandas as pd\n",
    "import numpy as np\n",
    "import seaborn as sns\n",
    "%matplotlib inline"
   ]
  },
  {
   "cell_type": "code",
   "execution_count": null,
   "metadata": {
    "collapsed": false
   },
   "outputs": [],
   "source": [
    "# ## Brain and body weight\n",
    "\n",
    "'''\n",
    "This is a [dataset]) of the average \n",
    "weight of the body and the brain for \n",
    "62 mammal species. Let's read it into pandas and \n",
    "take a quick look:\n",
    "'''\n",
    "\n",
    "df = pd.read_table('http://people.sc.fsu.edu/~jburkardt/datasets/regression/x01.txt', sep='\\s+', skiprows=33, names=['id','brain','body'], index_col='id')\n",
    "df.head()"
   ]
  },
  {
   "cell_type": "code",
   "execution_count": null,
   "metadata": {
    "collapsed": false
   },
   "outputs": [],
   "source": [
    "df.describe()"
   ]
  },
  {
   "cell_type": "code",
   "execution_count": null,
   "metadata": {
    "collapsed": false
   },
   "outputs": [],
   "source": [
    "# We're going to focus on a smaller subset in which the body weight is less than 200:\n",
    "df = df[df.body < 200]\n",
    "df.shape"
   ]
  },
  {
   "cell_type": "code",
   "execution_count": null,
   "metadata": {
    "collapsed": false
   },
   "outputs": [],
   "source": [
    "'''\n",
    "We're actually going to pretend that there are \n",
    "only 51 mammal species in existence. In other words, \n",
    "we are pretending that this is the entire dataset of brain \n",
    "and body weights for **every known mammal species**.\n",
    "'''\n",
    "# Let's create a scatterplot (using [Seaborn](http://stanford.edu/~mwaskom/software/seaborn/)) to visualize the relationship between brain and body weight:\n",
    "sns.lmplot(x='body', y='brain', data=df, ci=None, fit_reg=False)\n",
    "sns.plt.xlim(-10, 200)\n",
    "sns.plt.ylim(-10, 250)\n",
    "# There appears to be a relationship between brain and body weight for mammals."
   ]
  },
  {
   "cell_type": "code",
   "execution_count": null,
   "metadata": {
    "collapsed": false
   },
   "outputs": [],
   "source": [
    "# ## Making a prediction\n",
    "\n",
    "# Now let's pretend that a **new mammal species** is discovered. We measure the body weight of every member of this species that we can find, and calculate an **average body weight of 100**. We want to **predict the average brain weight** of this species (rather than measuring it directly). How might we do this?\n",
    "sns.lmplot(x='body', y='brain', data=df, ci=None)\n",
    "sns.plt.xlim(-10, 200)\n",
    "sns.plt.ylim(-10, 250)"
   ]
  },
  {
   "cell_type": "code",
   "execution_count": null,
   "metadata": {
    "collapsed": true
   },
   "outputs": [],
   "source": [
    "# We drew a straight line that appears to best \n",
    "# capture the relationship between brain and body weight. \n",
    "# So, we might predict that our new species has a brain weight \n",
    "# of about 45, since that's the approximate y value when x=100.\n",
    "# This is known as a \"linear model\" or a \n",
    "# \"linear regression model\", which we will study in a \n",
    "# future class.\n",
    "\n",
    "\n",
    "\n",
    "# ## Making a prediction from a sample\n",
    "\n",
    "# Earlier, I said that this dataset contained every known mammal species. That's very convenient, but **in the real world, all you ever have is a sample of data**. A more realistic situation would be to only have brain and body weights for (let's say) half of the 51 known mammals.\n",
    "# When that new mammal species (with a body weight of 100) is discovered, we still want to make an accurate prediction for the brain weight, but this task might be more difficult since we don't have all of the data that we would ideally like to have.\n",
    "# Let's simulate this situation by assigning each of the 51 rows to **either sample 1 or sample 2**:\n",
    "\n",
    "# set a random seed for reproducibility\n",
    "np.random.seed(12345)"
   ]
  },
  {
   "cell_type": "code",
   "execution_count": null,
   "metadata": {
    "collapsed": false
   },
   "outputs": [],
   "source": [
    "# randomly assign every row to either sample 1 or sample 2\n",
    "df['sample'] = np.random.randint(1, 3, len(df))\n",
    "df.head()"
   ]
  },
  {
   "cell_type": "code",
   "execution_count": null,
   "metadata": {
    "collapsed": false
   },
   "outputs": [],
   "source": [
    "# We can now tell Seaborn to create two plots, \n",
    "# in which the left plot only uses the data from \n",
    "# **sample 1** and the right plot only uses the data \n",
    "# from **sample 2**:\n",
    "# col='sample' subsets the data by sample and creates two \n",
    "# separate plots\n",
    "sns.lmplot(x='body', y='brain', data=df, ci=None, col='sample')\n",
    "sns.plt.xlim(-10, 200)\n",
    "sns.plt.ylim(-10, 250)"
   ]
  },
  {
   "cell_type": "code",
   "execution_count": null,
   "metadata": {
    "collapsed": false
   },
   "outputs": [],
   "source": [
    "# The line looks pretty similar between the two plots, \n",
    "# despite the fact that they used separate samples of data. \n",
    "#In both cases, we would predict a brain weight of about 45.\n",
    "\n",
    "# It's easier to see the degree of similarity by placing \n",
    "# them on the same plot:\n",
    "# hue='sample' subsets the data by sample and creates a \n",
    "# single plot\n",
    "sns.lmplot(x='body', y='brain', data=df, ci=None, hue='sample')\n",
    "sns.plt.xlim(-10, 200)\n",
    "sns.plt.ylim(-10, 250)"
   ]
  },
  {
   "cell_type": "code",
   "execution_count": null,
   "metadata": {
    "collapsed": false
   },
   "outputs": [],
   "source": [
    "# What was the point of this exercise? This was a \n",
    "#visual demonstration of a high bias, low variance model:\n",
    "# - It's **high bias** because it doesn't fit the data \n",
    "#particularly well.\n",
    "# - It's **low variance** because it doesn't change \n",
    "#much depending upon which points happen to be in the sample.\n",
    "\n",
    "# ## Let's try something completely different\n",
    "\n",
    "\n",
    "# What would a low bias, high variance model look like? Let's try polynomial regression, with an eighth order polynomial:\n",
    "sns.lmplot(x='body', y='brain', data=df, ci=None, \\\n",
    "col='sample', order=4)\n",
    "sns.plt.xlim(-10, 200)\n",
    "sns.plt.ylim(-10, 250)"
   ]
  },
  {
   "cell_type": "code",
   "execution_count": null,
   "metadata": {
    "collapsed": false
   },
   "outputs": [],
   "source": [
    "# - It's **low bias** because the models match the data \n",
    "#quite well!\n",
    "# - It's **high variance** because the models are \n",
    "#widely different depending upon which points happen \n",
    "#to be in the sample. (For a body weight of 100, the brain weight prediction would either be 40 or 0, depending upon which data happened to be in the sample.)\n",
    "\n",
    "# ## Can we find a middle ground?\n",
    "\n",
    "# Perhaps we can create a model that has **less bias than the linear model**, and **less variance than the eighth order polynomial**?\n",
    "\n",
    "# Let's try a second order polynomial instead:\n",
    "sns.lmplot(x='body', y='brain', data=df, ci=None, col='sample', order=2)\n",
    "sns.plt.xlim(-10, 200)\n",
    "sns.plt.ylim(-10, 250)"
   ]
  },
  {
   "cell_type": "code",
   "execution_count": null,
   "metadata": {
    "collapsed": true
   },
   "outputs": [],
   "source": [
    "# This seems better. In both the left and right plots, \n",
    "# **it fits the data pretty well, but not too well**.\n",
    "# This is the essence of the **bias-variance tradeoff**: finding a model \n",
    "# that appropriately balances bias and variance, and thus will generalize \n",
    "# to new data (known as \"out of sample\" data)."
   ]
  },
  {
   "cell_type": "code",
   "execution_count": null,
   "metadata": {
    "collapsed": true
   },
   "outputs": [],
   "source": []
  },
  {
   "cell_type": "code",
   "execution_count": null,
   "metadata": {
    "collapsed": true
   },
   "outputs": [],
   "source": []
  },
  {
   "cell_type": "code",
   "execution_count": null,
   "metadata": {
    "collapsed": true
   },
   "outputs": [],
   "source": []
  },
  {
   "cell_type": "code",
   "execution_count": null,
   "metadata": {
    "collapsed": true
   },
   "outputs": [],
   "source": []
  },
  {
   "cell_type": "code",
   "execution_count": null,
   "metadata": {
    "collapsed": true
   },
   "outputs": [],
   "source": []
  },
  {
   "cell_type": "code",
   "execution_count": null,
   "metadata": {
    "collapsed": true
   },
   "outputs": [],
   "source": []
  },
  {
   "cell_type": "code",
   "execution_count": null,
   "metadata": {
    "collapsed": true
   },
   "outputs": [],
   "source": []
  }
 ],
 "metadata": {
  "anaconda-cloud": {},
  "kernelspec": {
   "display_name": "Python [sfdat26-env]",
   "language": "python",
   "name": "Python [sfdat26-env]"
  },
  "language_info": {
   "codemirror_mode": {
    "name": "ipython",
    "version": 2
   },
   "file_extension": ".py",
   "mimetype": "text/x-python",
   "name": "python",
   "nbconvert_exporter": "python",
   "pygments_lexer": "ipython2",
   "version": "2.7.12"
  }
 },
 "nbformat": 4,
 "nbformat_minor": 0
}
